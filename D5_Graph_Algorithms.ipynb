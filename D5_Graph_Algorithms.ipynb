{
  "nbformat": 4,
  "nbformat_minor": 0,
  "metadata": {
    "colab": {
      "name": "D5_Graph Algorithms.ipynb",
      "provenance": [],
      "authorship_tag": "ABX9TyOy6O6EKydVQbjw+aH4HgCR",
      "include_colab_link": true
    },
    "kernelspec": {
      "name": "python3",
      "display_name": "Python 3"
    },
    "language_info": {
      "name": "python"
    }
  },
  "cells": [
    {
      "cell_type": "markdown",
      "metadata": {
        "id": "view-in-github",
        "colab_type": "text"
      },
      "source": [
        "<a href=\"https://colab.research.google.com/github/ravi-kr/Universe/blob/main/D5_Graph_Algorithms.ipynb\" target=\"_parent\"><img src=\"https://colab.research.google.com/assets/colab-badge.svg\" alt=\"Open In Colab\"/></a>"
      ]
    },
    {
      "cell_type": "code",
      "execution_count": 2,
      "metadata": {
        "colab": {
          "base_uri": "https://localhost:8080/"
        },
        "id": "Bj549OyXUABE",
        "outputId": "e6a402a5-3a11-44f2-8c5f-5c97e9655037"
      },
      "outputs": [
        {
          "output_type": "execute_result",
          "data": {
            "text/plain": [
              "(5, 7)"
            ]
          },
          "metadata": {},
          "execution_count": 2
        }
      ],
      "source": [
        "num_nodes1 = 5\n",
        "edges1 = [(0, 1), (1, 2), (2, 3), (3, 4), (4, 0), (1, 4), (1, 3)]\n",
        "num_nodes1, len(edges1)"
      ]
    },
    {
      "cell_type": "code",
      "source": [
        "num_nodes3 = 9\n",
        "edges3 = [(0, 1), (0, 3), (1, 2), (2, 3), (4, 5), (4, 6), (5, 6), (7, 8)]\n",
        "num_nodes3, len(edges3)"
      ],
      "metadata": {
        "colab": {
          "base_uri": "https://localhost:8080/"
        },
        "id": "r50KuyPcXU1C",
        "outputId": "16dae24e-a268-402e-8b83-35d08665583a"
      },
      "execution_count": 4,
      "outputs": [
        {
          "output_type": "execute_result",
          "data": {
            "text/plain": [
              "(9, 8)"
            ]
          },
          "metadata": {},
          "execution_count": 4
        }
      ]
    },
    {
      "cell_type": "code",
      "source": [
        "num_nodes5 = 9\n",
        "edges5 = [(0, 1, 3), (0, 3, 2), (0, 8, 4), (1, 7, 4), (2, 7, 2), (2, 3, 6), (2, 5, 1), (3, 4, 1), (4, 8, 8), (5, 6, 8)]\n",
        "num_nodes5, len(edges5)"
      ],
      "metadata": {
        "colab": {
          "base_uri": "https://localhost:8080/"
        },
        "id": "n1XGIH2fXxFA",
        "outputId": "7d0948d8-13ac-449c-b318-293829e2c0ca"
      },
      "execution_count": 5,
      "outputs": [
        {
          "output_type": "execute_result",
          "data": {
            "text/plain": [
              "(9, 10)"
            ]
          },
          "metadata": {},
          "execution_count": 5
        }
      ]
    },
    {
      "cell_type": "code",
      "source": [
        "num_nodes6 = 5\n",
        "edges6 = [(0, 1), (1, 2), (2, 3), (2, 4), (4, 2), (3, 0)]\n",
        "num_nodes6, len(edges6)"
      ],
      "metadata": {
        "colab": {
          "base_uri": "https://localhost:8080/"
        },
        "id": "91RLlyrZYR45",
        "outputId": "00c21b30-b7c2-47ad-d52d-4871672a2fd5"
      },
      "execution_count": 6,
      "outputs": [
        {
          "output_type": "execute_result",
          "data": {
            "text/plain": [
              "(5, 6)"
            ]
          },
          "metadata": {},
          "execution_count": 6
        }
      ]
    },
    {
      "cell_type": "code",
      "source": [
        "num_nodes7 = 6\n",
        "edges7 = [(0, 1, 4), (0, 2, 2), (1, 2, 5), (1, 3, 10), (2, 4, 3), (4, 3, 4), (3, 5, 11)]\n",
        "num_nodes7, len(edges7)"
      ],
      "metadata": {
        "colab": {
          "base_uri": "https://localhost:8080/"
        },
        "id": "hRamJ1P8YhPZ",
        "outputId": "22b0e3ad-1b66-4f98-d4d6-34b1f4c81895"
      },
      "execution_count": 7,
      "outputs": [
        {
          "output_type": "execute_result",
          "data": {
            "text/plain": [
              "(6, 7)"
            ]
          },
          "metadata": {},
          "execution_count": 7
        }
      ]
    },
    {
      "cell_type": "code",
      "source": [
        "class Graph:\n",
        "  def __init__(self, num_nodes, edges):\n",
        "    self.data = [[] for _ in range(num_nodes)]\n",
        "    for v1, v2 in edges:\n",
        "      self.data[v1].append(v2)\n",
        "      self.data[v2].append(v1)\n",
        "\n",
        "  def __repr__(self):\n",
        "    return \"\\n\". join([\"{} : {}\".format(i, neighbors) for (i, neighbors) in enumerate(self.data)])\n",
        "\n",
        "  def __str__(self):\n",
        "    return repr(self)"
      ],
      "metadata": {
        "id": "uDA2ieH2Y6hz"
      },
      "execution_count": 14,
      "outputs": []
    },
    {
      "cell_type": "code",
      "source": [
        "g1 = Graph(num_nodes1, edges1)"
      ],
      "metadata": {
        "id": "77DExpjVZnLD"
      },
      "execution_count": 15,
      "outputs": []
    },
    {
      "cell_type": "code",
      "source": [
        "g1"
      ],
      "metadata": {
        "colab": {
          "base_uri": "https://localhost:8080/"
        },
        "id": "VJRKr1_wZyMr",
        "outputId": "71369ae6-0f3c-44ca-be99-cbfbf67009a7"
      },
      "execution_count": 16,
      "outputs": [
        {
          "output_type": "execute_result",
          "data": {
            "text/plain": [
              "0 : [1, 4]\n",
              "1 : [0, 2, 4, 3]\n",
              "2 : [1, 3]\n",
              "3 : [2, 4, 1]\n",
              "4 : [3, 0, 1]"
            ]
          },
          "metadata": {},
          "execution_count": 16
        }
      ]
    },
    {
      "cell_type": "code",
      "source": [
        "def bfs(graph, source):\n",
        "  visited = [False] * len(graph.data)\n",
        "  queue = []\n",
        "\n",
        "  visited[source] = True\n",
        "  queue.append(source)\n",
        "  i = 0\n",
        "\n",
        "  while i < len(queue):\n",
        "    for v in graph.data[queue[i]]:\n",
        "      if not visited[v]:\n",
        "        visited[v] = True\n",
        "        queue.append(v)\n",
        "\n",
        "    i += 1\n",
        "  return queue"
      ],
      "metadata": {
        "id": "OwIqKMdzZytf"
      },
      "execution_count": 17,
      "outputs": []
    },
    {
      "cell_type": "code",
      "source": [
        "bfs(g1, 3)"
      ],
      "metadata": {
        "colab": {
          "base_uri": "https://localhost:8080/"
        },
        "id": "a3Z4TpDYbHDp",
        "outputId": "1425e399-8900-4e94-b327-46f9743fb179"
      },
      "execution_count": 18,
      "outputs": [
        {
          "output_type": "execute_result",
          "data": {
            "text/plain": [
              "[3, 2, 4, 1, 0]"
            ]
          },
          "metadata": {},
          "execution_count": 18
        }
      ]
    },
    {
      "cell_type": "code",
      "source": [
        "def dfs(graph, source):\n",
        "  visited = [False] * len(graph.data)\n",
        "  stack = [source]\n",
        "  result = []\n",
        "\n",
        "  while len(stack) > 0:\n",
        "    current = stack.pop()\n",
        "    if not visited[current]:\n",
        "      result.append(current)\n",
        "      visited[current] = True\n",
        "      for v in graph.data[current]:\n",
        "        stack.append(v)\n",
        "\n",
        "  return result"
      ],
      "metadata": {
        "id": "T1bMckK1bIcV"
      },
      "execution_count": 19,
      "outputs": []
    },
    {
      "cell_type": "code",
      "source": [
        "dfs(g1, 0)"
      ],
      "metadata": {
        "colab": {
          "base_uri": "https://localhost:8080/"
        },
        "id": "8PZofml0btzy",
        "outputId": "4af5cbec-7427-4ffd-aceb-40d094e83dec"
      },
      "execution_count": 20,
      "outputs": [
        {
          "output_type": "execute_result",
          "data": {
            "text/plain": [
              "[0, 4, 1, 3, 2]"
            ]
          },
          "metadata": {},
          "execution_count": 20
        }
      ]
    },
    {
      "cell_type": "code",
      "source": [
        "class Graph:\n",
        "  def __init__(self, num_nodes, edges, directed = False):\n",
        "    self.data = [[] for _ in range(num_nodes)]\n",
        "    self.weight = [[] for _ in range(num_nodes)]\n",
        "\n",
        "    self.directed = directed\n",
        "    self.weighted = len(edges) > 0 and len(edges[0]) == 3\n",
        "\n",
        "    for e in edges:\n",
        "      self.data[e[0]].append(e[1])\n",
        "      if self.weighted:\n",
        "        self.weight[e[0]].append(e[2])\n",
        "      \n",
        "      if not directed:\n",
        "        self.data[e[1]].append(e[0])\n",
        "        if self.weighted:\n",
        "          self.data[e[1]].append(e[2])\n",
        "\n",
        "  def __repr__(self):\n",
        "    result = \"\"\n",
        "    for i in range(len(self.data)):\n",
        "      pairs = list(zip(self.data[i], self.weight[i]))\n",
        "      result += \"{} : {}\\n\".format(i, pairs)\n",
        "\n",
        "    return result\n",
        "\n",
        "  def __str__(self):\n",
        "    return repr(self)"
      ],
      "metadata": {
        "id": "X3FR7zJLbu4z"
      },
      "execution_count": 24,
      "outputs": []
    },
    {
      "cell_type": "code",
      "source": [
        "g7 = Graph(num_nodes7, edges7, directed = True)"
      ],
      "metadata": {
        "id": "pnOxVQYxdQ2L"
      },
      "execution_count": 25,
      "outputs": []
    },
    {
      "cell_type": "code",
      "source": [
        "g7"
      ],
      "metadata": {
        "colab": {
          "base_uri": "https://localhost:8080/"
        },
        "id": "P9LySAPrdVoc",
        "outputId": "8e0a66f3-1780-42d3-f997-792f5bb59716"
      },
      "execution_count": 26,
      "outputs": [
        {
          "output_type": "execute_result",
          "data": {
            "text/plain": [
              "0 : [(1, 4), (2, 2)]\n",
              "1 : [(2, 5), (3, 10)]\n",
              "2 : [(4, 3)]\n",
              "3 : [(5, 11)]\n",
              "4 : [(3, 4)]\n",
              "5 : []"
            ]
          },
          "metadata": {},
          "execution_count": 26
        }
      ]
    },
    {
      "cell_type": "code",
      "source": [
        "g7.weight"
      ],
      "metadata": {
        "colab": {
          "base_uri": "https://localhost:8080/"
        },
        "id": "a9aOD8a5dWRd",
        "outputId": "957a99bf-0263-4135-eae0-bea2333f6e67"
      },
      "execution_count": 27,
      "outputs": [
        {
          "output_type": "execute_result",
          "data": {
            "text/plain": [
              "[[4, 2], [5, 10], [3], [11], [4], []]"
            ]
          },
          "metadata": {},
          "execution_count": 27
        }
      ]
    },
    {
      "cell_type": "code",
      "source": [
        "def update_distances(graph, current, distance, parent = None):\n",
        "  neighbors = graph.data[current]\n",
        "  weights = graph.weight[current]\n",
        "  for i, node in enumerate(neighbors):\n",
        "    weight = weights[i]\n",
        "    if distance[current] + weight < distance[node]:\n",
        "      distance[node] = distance[current] + weight\n",
        "      if parent:\n",
        "        parent[node] = current\n",
        "\n",
        "def pick_next_node(distance, visited):\n",
        "  min_distance = float('inf')\n",
        "  min_node = None\n",
        "\n",
        "  for node in range(len(distance)):\n",
        "    if not visited[node] and distance[node] < min_distance:\n",
        "      min_node = node\n",
        "      min_distance = distance[node]\n",
        "\n",
        "  return min_node\n",
        "\n",
        "def shortest_path(graph, source, dest):\n",
        "  visited = [False] * len(graph.data)\n",
        "  distance = [float('inf')]*len(graph.data)\n",
        "  parent = [None] * len(graph.data)\n",
        "  queue = []\n",
        "  idx = 0\n",
        "\n",
        "  queue.append(source)\n",
        "  distance[source] = 0\n",
        "  visited[source] = True\n",
        "\n",
        "  while idx < len(queue) and not visited[dest]:\n",
        "    current = queue[idx]\n",
        "    update_distances(graph, current, distance, parent)\n",
        "\n",
        "    next_node = pick_next_node(distance, visited)\n",
        "    if next_node is not None:\n",
        "      visited[next_node] = True\n",
        "      queue.append(next_node)\n",
        "\n",
        "    idx+=1\n",
        "\n",
        "  return distance[dest], distance, parent"
      ],
      "metadata": {
        "id": "wbFCRRQod0P0"
      },
      "execution_count": 28,
      "outputs": []
    },
    {
      "cell_type": "code",
      "source": [
        "shortest_path(g7, 0, 5)"
      ],
      "metadata": {
        "colab": {
          "base_uri": "https://localhost:8080/"
        },
        "id": "FuZkKORzfuRS",
        "outputId": "ede721e8-409c-4aa5-8184-e4f1f3c6f68f"
      },
      "execution_count": 29,
      "outputs": [
        {
          "output_type": "execute_result",
          "data": {
            "text/plain": [
              "(20, [0, 4, 2, 9, 5, 20], [None, 0, 0, 4, 2, 3])"
            ]
          },
          "metadata": {},
          "execution_count": 29
        }
      ]
    },
    {
      "cell_type": "code",
      "source": [
        ""
      ],
      "metadata": {
        "id": "DUULfqxdfxuz"
      },
      "execution_count": null,
      "outputs": []
    }
  ]
}