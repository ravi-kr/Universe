{
  "nbformat": 4,
  "nbformat_minor": 0,
  "metadata": {
    "colab": {
      "name": "Data Structures and Algorithms - Python.ipynb",
      "provenance": [],
      "collapsed_sections": [],
      "authorship_tag": "ABX9TyMSerQewNU3WgQ6PEWtiZst",
      "include_colab_link": true
    },
    "kernelspec": {
      "name": "python3",
      "display_name": "Python 3"
    },
    "language_info": {
      "name": "python"
    }
  },
  "cells": [
    {
      "cell_type": "markdown",
      "metadata": {
        "id": "view-in-github",
        "colab_type": "text"
      },
      "source": [
        "<a href=\"https://colab.research.google.com/github/ravi-kr/Universe/blob/main/Data_Structures_and_Algorithms_Python.ipynb\" target=\"_parent\"><img src=\"https://colab.research.google.com/assets/colab-badge.svg\" alt=\"Open In Colab\"/></a>"
      ]
    },
    {
      "cell_type": "code",
      "execution_count": null,
      "metadata": {
        "id": "L6JiDyYN0_NK"
      },
      "outputs": [],
      "source": [
        "list1 = [1,2,3,4]"
      ]
    },
    {
      "cell_type": "code",
      "source": [
        "list2 = list()"
      ],
      "metadata": {
        "id": "r3YsSSja1nmq"
      },
      "execution_count": null,
      "outputs": []
    },
    {
      "cell_type": "code",
      "source": [
        "list3 = [1,2,3,\"hello\",3.5]"
      ],
      "metadata": {
        "id": "rMvn2MXt1pfY"
      },
      "execution_count": null,
      "outputs": []
    },
    {
      "cell_type": "code",
      "source": [
        "list3"
      ],
      "metadata": {
        "colab": {
          "base_uri": "https://localhost:8080/"
        },
        "id": "GVl5JWAp1tyj",
        "outputId": "899e0b3d-0dcd-4dd1-f151-e983cdd57b45"
      },
      "execution_count": null,
      "outputs": [
        {
          "output_type": "execute_result",
          "data": {
            "text/plain": [
              "[1, 2, 3, 'hello', 3.5]"
            ]
          },
          "metadata": {},
          "execution_count": 4
        }
      ]
    },
    {
      "cell_type": "code",
      "source": [
        "list1[0]"
      ],
      "metadata": {
        "colab": {
          "base_uri": "https://localhost:8080/"
        },
        "id": "a93dR6xs1uZA",
        "outputId": "fab48e0d-d9f5-4170-9cdc-d0ca9373171c"
      },
      "execution_count": null,
      "outputs": [
        {
          "output_type": "execute_result",
          "data": {
            "text/plain": [
              "1"
            ]
          },
          "metadata": {},
          "execution_count": 5
        }
      ]
    },
    {
      "cell_type": "code",
      "source": [
        "list1[3]"
      ],
      "metadata": {
        "colab": {
          "base_uri": "https://localhost:8080/"
        },
        "id": "h8oew7gA12oT",
        "outputId": "c3e87e8d-d437-498d-abd2-15abae10b91f"
      },
      "execution_count": null,
      "outputs": [
        {
          "output_type": "execute_result",
          "data": {
            "text/plain": [
              "4"
            ]
          },
          "metadata": {},
          "execution_count": 7
        }
      ]
    },
    {
      "cell_type": "code",
      "source": [
        "list4 = [[1,2,3],['hello'],1,2,3]"
      ],
      "metadata": {
        "id": "pKfwk_zG15vX"
      },
      "execution_count": null,
      "outputs": []
    },
    {
      "cell_type": "code",
      "source": [
        "list4"
      ],
      "metadata": {
        "colab": {
          "base_uri": "https://localhost:8080/"
        },
        "id": "CUY3r8Mn1__Q",
        "outputId": "e85ad579-88bb-4b13-e575-815535066d5d"
      },
      "execution_count": null,
      "outputs": [
        {
          "output_type": "execute_result",
          "data": {
            "text/plain": [
              "[[1, 2, 3], ['hello'], 1, 2, 3]"
            ]
          },
          "metadata": {},
          "execution_count": 9
        }
      ]
    },
    {
      "cell_type": "code",
      "source": [
        "list1.append(5)"
      ],
      "metadata": {
        "id": "JJNMhNS92Agc"
      },
      "execution_count": null,
      "outputs": []
    },
    {
      "cell_type": "code",
      "source": [
        "tuple1 = (1,2,3,4,4)"
      ],
      "metadata": {
        "id": "houEQWyJ2DzS"
      },
      "execution_count": null,
      "outputs": []
    },
    {
      "cell_type": "code",
      "source": [
        "tuple1"
      ],
      "metadata": {
        "colab": {
          "base_uri": "https://localhost:8080/"
        },
        "id": "qMdgPgj-2V7l",
        "outputId": "add61640-de56-4d9f-85a5-cfdd9cc0de69"
      },
      "execution_count": null,
      "outputs": [
        {
          "output_type": "execute_result",
          "data": {
            "text/plain": [
              "(1, 2, 3, 4, 4)"
            ]
          },
          "metadata": {},
          "execution_count": 12
        }
      ]
    },
    {
      "cell_type": "code",
      "source": [
        "tuple2 = tuple()"
      ],
      "metadata": {
        "id": "k-hyBm-Z2Wo4"
      },
      "execution_count": null,
      "outputs": []
    },
    {
      "cell_type": "code",
      "source": [
        "tuple2"
      ],
      "metadata": {
        "colab": {
          "base_uri": "https://localhost:8080/"
        },
        "id": "4ykN_k_w2YdE",
        "outputId": "4f950fa1-88be-4e7d-e9b5-cf75e346069b"
      },
      "execution_count": null,
      "outputs": [
        {
          "output_type": "execute_result",
          "data": {
            "text/plain": [
              "()"
            ]
          },
          "metadata": {},
          "execution_count": 15
        }
      ]
    },
    {
      "cell_type": "code",
      "source": [
        "tuple3 = (2)"
      ],
      "metadata": {
        "id": "K8qgMuOJ2ZV-"
      },
      "execution_count": null,
      "outputs": []
    },
    {
      "cell_type": "code",
      "source": [
        "tuple3"
      ],
      "metadata": {
        "colab": {
          "base_uri": "https://localhost:8080/"
        },
        "id": "5l72gBKC2h_V",
        "outputId": "7ea94f44-4888-4039-b672-c2a63453a4e7"
      },
      "execution_count": null,
      "outputs": [
        {
          "output_type": "execute_result",
          "data": {
            "text/plain": [
              "2"
            ]
          },
          "metadata": {},
          "execution_count": 17
        }
      ]
    },
    {
      "cell_type": "code",
      "source": [
        "tuple4 = (2,)"
      ],
      "metadata": {
        "id": "CML8HAXf2jB3"
      },
      "execution_count": null,
      "outputs": []
    },
    {
      "cell_type": "code",
      "source": [
        "tuple4"
      ],
      "metadata": {
        "colab": {
          "base_uri": "https://localhost:8080/"
        },
        "id": "ItDXTydS2k_7",
        "outputId": "18c15a22-8ff0-473e-c47f-5d89d8d2be3d"
      },
      "execution_count": null,
      "outputs": [
        {
          "output_type": "execute_result",
          "data": {
            "text/plain": [
              "(2,)"
            ]
          },
          "metadata": {},
          "execution_count": 19
        }
      ]
    },
    {
      "cell_type": "code",
      "source": [
        "tuple4.append(5)"
      ],
      "metadata": {
        "colab": {
          "base_uri": "https://localhost:8080/",
          "height": 166
        },
        "id": "zruJVy9b2l1K",
        "outputId": "da0bff5f-22af-425f-a71c-55a849ba3d1f"
      },
      "execution_count": null,
      "outputs": [
        {
          "output_type": "error",
          "ename": "AttributeError",
          "evalue": "ignored",
          "traceback": [
            "\u001b[0;31m---------------------------------------------------------------------------\u001b[0m",
            "\u001b[0;31mAttributeError\u001b[0m                            Traceback (most recent call last)",
            "\u001b[0;32m<ipython-input-20-28f5ed9868b9>\u001b[0m in \u001b[0;36m<module>\u001b[0;34m()\u001b[0m\n\u001b[0;32m----> 1\u001b[0;31m \u001b[0mtuple4\u001b[0m\u001b[0;34m.\u001b[0m\u001b[0mappend\u001b[0m\u001b[0;34m(\u001b[0m\u001b[0;36m5\u001b[0m\u001b[0;34m)\u001b[0m\u001b[0;34m\u001b[0m\u001b[0;34m\u001b[0m\u001b[0m\n\u001b[0m",
            "\u001b[0;31mAttributeError\u001b[0m: 'tuple' object has no attribute 'append'"
          ]
        }
      ]
    },
    {
      "cell_type": "code",
      "source": [
        "d = {}"
      ],
      "metadata": {
        "id": "j07Ls7ZF2n8v"
      },
      "execution_count": null,
      "outputs": []
    },
    {
      "cell_type": "code",
      "source": [
        "d"
      ],
      "metadata": {
        "colab": {
          "base_uri": "https://localhost:8080/"
        },
        "id": "cL3I21zM30KE",
        "outputId": "664d388e-54da-4bb3-b749-10a91b26e1b0"
      },
      "execution_count": null,
      "outputs": [
        {
          "output_type": "execute_result",
          "data": {
            "text/plain": [
              "{}"
            ]
          },
          "metadata": {},
          "execution_count": 22
        }
      ]
    },
    {
      "cell_type": "code",
      "source": [
        "d = {\"RK\":\"RK@gmail.com\",\"PS\":\"PS@yahoo.com\"}"
      ],
      "metadata": {
        "id": "eQ6zJZsZ30cg"
      },
      "execution_count": null,
      "outputs": []
    },
    {
      "cell_type": "code",
      "source": [
        "d"
      ],
      "metadata": {
        "colab": {
          "base_uri": "https://localhost:8080/"
        },
        "id": "WnHDgXc_37P-",
        "outputId": "31106c0c-81c0-4c46-f413-ac194346210d"
      },
      "execution_count": null,
      "outputs": [
        {
          "output_type": "execute_result",
          "data": {
            "text/plain": [
              "{'PS': 'PS@yahoo.com', 'RK': 'RK@gmail.com'}"
            ]
          },
          "metadata": {},
          "execution_count": 28
        }
      ]
    },
    {
      "cell_type": "code",
      "source": [
        "d['RK']"
      ],
      "metadata": {
        "colab": {
          "base_uri": "https://localhost:8080/",
          "height": 35
        },
        "id": "kZAKfHZR4HBZ",
        "outputId": "749c2218-ecab-4258-a9db-3eea65a9b3c5"
      },
      "execution_count": null,
      "outputs": [
        {
          "output_type": "execute_result",
          "data": {
            "text/plain": [
              "'RK@gmail.com'"
            ],
            "application/vnd.google.colaboratory.intrinsic+json": {
              "type": "string"
            }
          },
          "metadata": {},
          "execution_count": 29
        }
      ]
    },
    {
      "cell_type": "code",
      "source": [
        "d1 = {'1':1, '2':2}"
      ],
      "metadata": {
        "id": "BaqFF3ab4Kab"
      },
      "execution_count": null,
      "outputs": []
    },
    {
      "cell_type": "code",
      "source": [
        "d2 = {'2':2, '1':1}"
      ],
      "metadata": {
        "id": "PmnKRq7z4Z7Q"
      },
      "execution_count": null,
      "outputs": []
    },
    {
      "cell_type": "code",
      "source": [
        "d1 == d2"
      ],
      "metadata": {
        "colab": {
          "base_uri": "https://localhost:8080/"
        },
        "id": "IqlvRmdl4iWO",
        "outputId": "10eb8651-bff2-48a4-fa4b-659f52774000"
      },
      "execution_count": null,
      "outputs": [
        {
          "output_type": "execute_result",
          "data": {
            "text/plain": [
              "True"
            ]
          },
          "metadata": {},
          "execution_count": 35
        }
      ]
    },
    {
      "cell_type": "code",
      "source": [
        "del d1['1']"
      ],
      "metadata": {
        "id": "cNs1kSzm4kv2"
      },
      "execution_count": null,
      "outputs": []
    },
    {
      "cell_type": "code",
      "source": [
        "d1"
      ],
      "metadata": {
        "colab": {
          "base_uri": "https://localhost:8080/"
        },
        "id": "RStE1mMC4nDm",
        "outputId": "71557855-6a47-4a53-e408-e5c2555722a7"
      },
      "execution_count": null,
      "outputs": [
        {
          "output_type": "execute_result",
          "data": {
            "text/plain": [
              "{'2': 2}"
            ]
          },
          "metadata": {},
          "execution_count": 37
        }
      ]
    },
    {
      "cell_type": "code",
      "source": [
        "d = {}"
      ],
      "metadata": {
        "id": "iRui4Ehd4nm7"
      },
      "execution_count": null,
      "outputs": []
    },
    {
      "cell_type": "code",
      "source": [
        "d['1']  = 1"
      ],
      "metadata": {
        "id": "F6d7_QFY4r1t"
      },
      "execution_count": null,
      "outputs": []
    },
    {
      "cell_type": "code",
      "source": [
        "d"
      ],
      "metadata": {
        "colab": {
          "base_uri": "https://localhost:8080/"
        },
        "id": "5MQCtWI34tCX",
        "outputId": "1c9eab7d-e873-4d25-eec0-6fe2495e805d"
      },
      "execution_count": null,
      "outputs": [
        {
          "output_type": "execute_result",
          "data": {
            "text/plain": [
              "{'1': 1}"
            ]
          },
          "metadata": {},
          "execution_count": 41
        }
      ]
    },
    {
      "cell_type": "code",
      "source": [
        "d2 = {\"1\": d1}"
      ],
      "metadata": {
        "id": "IzBYx3dw4ua7"
      },
      "execution_count": null,
      "outputs": []
    },
    {
      "cell_type": "code",
      "source": [
        "d2"
      ],
      "metadata": {
        "colab": {
          "base_uri": "https://localhost:8080/"
        },
        "id": "s6Z_20wu41I_",
        "outputId": "0928e63a-2986-4fad-8d3a-b6c209b3aa42"
      },
      "execution_count": null,
      "outputs": [
        {
          "output_type": "execute_result",
          "data": {
            "text/plain": [
              "{'1': {'2': 2}}"
            ]
          },
          "metadata": {},
          "execution_count": 44
        }
      ]
    },
    {
      "cell_type": "code",
      "source": [
        "s = set()"
      ],
      "metadata": {
        "id": "8qZjng0T41kO"
      },
      "execution_count": null,
      "outputs": []
    },
    {
      "cell_type": "code",
      "source": [
        "s"
      ],
      "metadata": {
        "colab": {
          "base_uri": "https://localhost:8080/"
        },
        "id": "DkQX6dGZ5I9f",
        "outputId": "abfa5686-1abc-4e38-f8e0-a81559eb6977"
      },
      "execution_count": null,
      "outputs": [
        {
          "output_type": "execute_result",
          "data": {
            "text/plain": [
              "set()"
            ]
          },
          "metadata": {},
          "execution_count": 46
        }
      ]
    },
    {
      "cell_type": "code",
      "source": [
        "s = set(\"hello\")"
      ],
      "metadata": {
        "id": "X6nTjhZp5JZh"
      },
      "execution_count": null,
      "outputs": []
    },
    {
      "cell_type": "code",
      "source": [
        "s"
      ],
      "metadata": {
        "colab": {
          "base_uri": "https://localhost:8080/"
        },
        "id": "94psPZDL5MDO",
        "outputId": "ec60298b-c22e-432e-b4a7-c3dccebddf30"
      },
      "execution_count": null,
      "outputs": [
        {
          "output_type": "execute_result",
          "data": {
            "text/plain": [
              "{'e', 'h', 'l', 'o'}"
            ]
          },
          "metadata": {},
          "execution_count": 48
        }
      ]
    },
    {
      "cell_type": "code",
      "source": [
        "s = set([1,2,3,4])"
      ],
      "metadata": {
        "id": "sP1NePvP5N3s"
      },
      "execution_count": null,
      "outputs": []
    },
    {
      "cell_type": "code",
      "source": [
        "s1 = {1,2,3,4,5,6}"
      ],
      "metadata": {
        "id": "BbqHZ3gj5Qv6"
      },
      "execution_count": null,
      "outputs": []
    },
    {
      "cell_type": "code",
      "source": [
        "s1"
      ],
      "metadata": {
        "colab": {
          "base_uri": "https://localhost:8080/"
        },
        "id": "eLssnoAr5TKn",
        "outputId": "55f62b25-0b19-4f30-e66f-68ca5ee42236"
      },
      "execution_count": null,
      "outputs": [
        {
          "output_type": "execute_result",
          "data": {
            "text/plain": [
              "{1, 2, 3, 4, 5, 6}"
            ]
          },
          "metadata": {},
          "execution_count": 51
        }
      ]
    },
    {
      "cell_type": "code",
      "source": [
        "type(s1)"
      ],
      "metadata": {
        "colab": {
          "base_uri": "https://localhost:8080/"
        },
        "id": "27Qbj7bl5Tv3",
        "outputId": "ed0161c2-e82e-4936-cd39-428c2b52ada3"
      },
      "execution_count": null,
      "outputs": [
        {
          "output_type": "execute_result",
          "data": {
            "text/plain": [
              "set"
            ]
          },
          "metadata": {},
          "execution_count": 52
        }
      ]
    },
    {
      "cell_type": "code",
      "source": [
        "s = {1,2,3,4,1,2,3,4,5,6,}"
      ],
      "metadata": {
        "id": "cM7e-Dms5VBS"
      },
      "execution_count": null,
      "outputs": []
    },
    {
      "cell_type": "code",
      "source": [
        "s"
      ],
      "metadata": {
        "colab": {
          "base_uri": "https://localhost:8080/"
        },
        "id": "IJ7O_woR5bO9",
        "outputId": "0417a903-bbe4-40b6-8b22-17c39be8fb8e"
      },
      "execution_count": null,
      "outputs": [
        {
          "output_type": "execute_result",
          "data": {
            "text/plain": [
              "{1, 2, 3, 4, 5, 6}"
            ]
          },
          "metadata": {},
          "execution_count": 54
        }
      ]
    },
    {
      "cell_type": "code",
      "source": [
        "s == s1"
      ],
      "metadata": {
        "colab": {
          "base_uri": "https://localhost:8080/"
        },
        "id": "T-TxfMrX5bkA",
        "outputId": "eb9998ab-9c0a-491d-a590-9a401aba3879"
      },
      "execution_count": null,
      "outputs": [
        {
          "output_type": "execute_result",
          "data": {
            "text/plain": [
              "True"
            ]
          },
          "metadata": {},
          "execution_count": 55
        }
      ]
    },
    {
      "cell_type": "code",
      "source": [
        "s.add(2)"
      ],
      "metadata": {
        "id": "6tkrAFsn5ddd"
      },
      "execution_count": null,
      "outputs": []
    },
    {
      "cell_type": "code",
      "source": [
        "s"
      ],
      "metadata": {
        "colab": {
          "base_uri": "https://localhost:8080/"
        },
        "id": "-EpFWiAg5h6Y",
        "outputId": "ef65c21b-44a4-48ca-87ea-9c6bc7e5bc1f"
      },
      "execution_count": null,
      "outputs": [
        {
          "output_type": "execute_result",
          "data": {
            "text/plain": [
              "{1, 2, 3, 4, 5, 6}"
            ]
          },
          "metadata": {},
          "execution_count": 57
        }
      ]
    },
    {
      "cell_type": "code",
      "source": [
        "s"
      ],
      "metadata": {
        "colab": {
          "base_uri": "https://localhost:8080/"
        },
        "id": "y4SSyxt75isJ",
        "outputId": "f4741371-b464-4a8c-bc4a-ec4714993c98"
      },
      "execution_count": null,
      "outputs": [
        {
          "output_type": "execute_result",
          "data": {
            "text/plain": [
              "{1, 2, 3, 4, 5, 6}"
            ]
          },
          "metadata": {},
          "execution_count": 58
        }
      ]
    },
    {
      "cell_type": "code",
      "source": [
        "s = {[1,2,3,4],3}"
      ],
      "metadata": {
        "colab": {
          "base_uri": "https://localhost:8080/",
          "height": 166
        },
        "id": "eSS8Pmci5lVz",
        "outputId": "cdb50c39-7168-445a-c7d3-197b44a686ec"
      },
      "execution_count": null,
      "outputs": [
        {
          "output_type": "error",
          "ename": "TypeError",
          "evalue": "ignored",
          "traceback": [
            "\u001b[0;31m---------------------------------------------------------------------------\u001b[0m",
            "\u001b[0;31mTypeError\u001b[0m                                 Traceback (most recent call last)",
            "\u001b[0;32m<ipython-input-59-35394b61dc14>\u001b[0m in \u001b[0;36m<module>\u001b[0;34m()\u001b[0m\n\u001b[0;32m----> 1\u001b[0;31m \u001b[0ms\u001b[0m \u001b[0;34m=\u001b[0m \u001b[0;34m{\u001b[0m\u001b[0;34m[\u001b[0m\u001b[0;36m1\u001b[0m\u001b[0;34m,\u001b[0m\u001b[0;36m2\u001b[0m\u001b[0;34m,\u001b[0m\u001b[0;36m3\u001b[0m\u001b[0;34m,\u001b[0m\u001b[0;36m4\u001b[0m\u001b[0;34m]\u001b[0m\u001b[0;34m,\u001b[0m\u001b[0;36m3\u001b[0m\u001b[0;34m}\u001b[0m\u001b[0;34m\u001b[0m\u001b[0;34m\u001b[0m\u001b[0m\n\u001b[0m",
            "\u001b[0;31mTypeError\u001b[0m: unhashable type: 'list'"
          ]
        }
      ]
    },
    {
      "cell_type": "code",
      "source": [
        "s = {{1,2},3}"
      ],
      "metadata": {
        "colab": {
          "base_uri": "https://localhost:8080/",
          "height": 166
        },
        "id": "TJEDBTVy5q_N",
        "outputId": "51f94bd7-a6df-47cc-f49b-c266a7f68a54"
      },
      "execution_count": null,
      "outputs": [
        {
          "output_type": "error",
          "ename": "TypeError",
          "evalue": "ignored",
          "traceback": [
            "\u001b[0;31m---------------------------------------------------------------------------\u001b[0m",
            "\u001b[0;31mTypeError\u001b[0m                                 Traceback (most recent call last)",
            "\u001b[0;32m<ipython-input-60-6c38715eb1b1>\u001b[0m in \u001b[0;36m<module>\u001b[0;34m()\u001b[0m\n\u001b[0;32m----> 1\u001b[0;31m \u001b[0ms\u001b[0m \u001b[0;34m=\u001b[0m \u001b[0;34m{\u001b[0m\u001b[0;34m{\u001b[0m\u001b[0;36m1\u001b[0m\u001b[0;34m,\u001b[0m\u001b[0;36m2\u001b[0m\u001b[0;34m}\u001b[0m\u001b[0;34m,\u001b[0m\u001b[0;36m3\u001b[0m\u001b[0;34m}\u001b[0m\u001b[0;34m\u001b[0m\u001b[0;34m\u001b[0m\u001b[0m\n\u001b[0m",
            "\u001b[0;31mTypeError\u001b[0m: unhashable type: 'set'"
          ]
        }
      ]
    },
    {
      "cell_type": "code",
      "source": [
        "s = {'ed',1.3}"
      ],
      "metadata": {
        "id": "3dY6AKyb5yH9"
      },
      "execution_count": null,
      "outputs": []
    },
    {
      "cell_type": "code",
      "source": [
        "s"
      ],
      "metadata": {
        "colab": {
          "base_uri": "https://localhost:8080/"
        },
        "id": "punEoKmK5130",
        "outputId": "cb545a24-b39d-4f17-9057-31f7a82a6331"
      },
      "execution_count": null,
      "outputs": [
        {
          "output_type": "execute_result",
          "data": {
            "text/plain": [
              "{1.3, 'ed'}"
            ]
          },
          "metadata": {},
          "execution_count": 63
        }
      ]
    },
    {
      "cell_type": "code",
      "source": [
        "1 in s"
      ],
      "metadata": {
        "colab": {
          "base_uri": "https://localhost:8080/"
        },
        "id": "oFxhNjI554sA",
        "outputId": "63052d9a-dfe4-4c42-fabf-3d090f78bb65"
      },
      "execution_count": null,
      "outputs": [
        {
          "output_type": "execute_result",
          "data": {
            "text/plain": [
              "False"
            ]
          },
          "metadata": {},
          "execution_count": 64
        }
      ]
    },
    {
      "cell_type": "code",
      "source": [
        "for i in s:\n",
        "  print(i)"
      ],
      "metadata": {
        "colab": {
          "base_uri": "https://localhost:8080/"
        },
        "id": "ornuLWyA5_cm",
        "outputId": "a226e7c1-bb4a-4f72-f3e5-1c20cf954ae4"
      },
      "execution_count": null,
      "outputs": [
        {
          "output_type": "stream",
          "name": "stdout",
          "text": [
            "1.3\n",
            "ed\n"
          ]
        }
      ]
    },
    {
      "cell_type": "code",
      "source": [
        "stack = []"
      ],
      "metadata": {
        "id": "l9NYH60W6DOt"
      },
      "execution_count": null,
      "outputs": []
    },
    {
      "cell_type": "code",
      "source": [
        "stack.append(10)"
      ],
      "metadata": {
        "id": "ZCribk0pEXLI"
      },
      "execution_count": null,
      "outputs": []
    },
    {
      "cell_type": "code",
      "source": [
        "stack.append(20)"
      ],
      "metadata": {
        "id": "9UUSRqjVEY0-"
      },
      "execution_count": null,
      "outputs": []
    },
    {
      "cell_type": "code",
      "source": [
        "stack.append(30)"
      ],
      "metadata": {
        "id": "85W7A1Z6Eayw"
      },
      "execution_count": null,
      "outputs": []
    },
    {
      "cell_type": "code",
      "source": [
        "stack"
      ],
      "metadata": {
        "colab": {
          "base_uri": "https://localhost:8080/"
        },
        "id": "Ze9NKtkFEcRN",
        "outputId": "3d192d0b-8d4f-48d6-dacd-16a26cb87406"
      },
      "execution_count": null,
      "outputs": [
        {
          "output_type": "execute_result",
          "data": {
            "text/plain": [
              "[10, 20, 30]"
            ]
          },
          "metadata": {},
          "execution_count": 70
        }
      ]
    },
    {
      "cell_type": "code",
      "source": [
        "stack.pop()"
      ],
      "metadata": {
        "colab": {
          "base_uri": "https://localhost:8080/"
        },
        "id": "PHelQnxQEcyQ",
        "outputId": "24427ecc-b609-4745-fd8c-72f3b5a3e3df"
      },
      "execution_count": null,
      "outputs": [
        {
          "output_type": "execute_result",
          "data": {
            "text/plain": [
              "30"
            ]
          },
          "metadata": {},
          "execution_count": 71
        }
      ]
    },
    {
      "cell_type": "code",
      "source": [
        "stack"
      ],
      "metadata": {
        "colab": {
          "base_uri": "https://localhost:8080/"
        },
        "id": "zfBe5ovLEegG",
        "outputId": "4198660b-6993-4754-fadc-bfb67fa846d1"
      },
      "execution_count": null,
      "outputs": [
        {
          "output_type": "execute_result",
          "data": {
            "text/plain": [
              "[10, 20]"
            ]
          },
          "metadata": {},
          "execution_count": 72
        }
      ]
    },
    {
      "cell_type": "code",
      "source": [
        "stack.pop()"
      ],
      "metadata": {
        "colab": {
          "base_uri": "https://localhost:8080/"
        },
        "id": "rXvP9_l0Ee-6",
        "outputId": "18202934-9604-4e7c-9341-2ed56c1b6ac6"
      },
      "execution_count": null,
      "outputs": [
        {
          "output_type": "execute_result",
          "data": {
            "text/plain": [
              "20"
            ]
          },
          "metadata": {},
          "execution_count": 73
        }
      ]
    },
    {
      "cell_type": "code",
      "source": [
        "stack.pop()"
      ],
      "metadata": {
        "colab": {
          "base_uri": "https://localhost:8080/"
        },
        "id": "_oItZXNtEg5r",
        "outputId": "ecfad526-e938-4db5-b8dc-6419eaff68b5"
      },
      "execution_count": null,
      "outputs": [
        {
          "output_type": "execute_result",
          "data": {
            "text/plain": [
              "10"
            ]
          },
          "metadata": {},
          "execution_count": 74
        }
      ]
    },
    {
      "cell_type": "code",
      "source": [
        "stack.pop()"
      ],
      "metadata": {
        "colab": {
          "base_uri": "https://localhost:8080/",
          "height": 166
        },
        "id": "2rrWQStcEjY9",
        "outputId": "d38c6303-4f42-48e0-9639-60b428ac4bd0"
      },
      "execution_count": null,
      "outputs": [
        {
          "output_type": "error",
          "ename": "IndexError",
          "evalue": "ignored",
          "traceback": [
            "\u001b[0;31m---------------------------------------------------------------------------\u001b[0m",
            "\u001b[0;31mIndexError\u001b[0m                                Traceback (most recent call last)",
            "\u001b[0;32m<ipython-input-75-415460d3b717>\u001b[0m in \u001b[0;36m<module>\u001b[0;34m()\u001b[0m\n\u001b[0;32m----> 1\u001b[0;31m \u001b[0mstack\u001b[0m\u001b[0;34m.\u001b[0m\u001b[0mpop\u001b[0m\u001b[0;34m(\u001b[0m\u001b[0;34m)\u001b[0m\u001b[0;34m\u001b[0m\u001b[0;34m\u001b[0m\u001b[0m\n\u001b[0m",
            "\u001b[0;31mIndexError\u001b[0m: pop from empty list"
          ]
        }
      ]
    },
    {
      "cell_type": "code",
      "source": [
        "stack = []"
      ],
      "metadata": {
        "id": "LRFPtXq9EkV6"
      },
      "execution_count": null,
      "outputs": []
    },
    {
      "cell_type": "code",
      "source": [
        "len(stack) == 0"
      ],
      "metadata": {
        "colab": {
          "base_uri": "https://localhost:8080/"
        },
        "id": "HCy44w3YEqhb",
        "outputId": "db338a4e-de55-4740-b5e9-a907f27abfa3"
      },
      "execution_count": null,
      "outputs": [
        {
          "output_type": "execute_result",
          "data": {
            "text/plain": [
              "True"
            ]
          },
          "metadata": {},
          "execution_count": 77
        }
      ]
    },
    {
      "cell_type": "code",
      "source": [
        "not stack"
      ],
      "metadata": {
        "colab": {
          "base_uri": "https://localhost:8080/"
        },
        "id": "SqLPSRKeEsI8",
        "outputId": "c948ef7a-70b9-488d-f658-b73bfced4704"
      },
      "execution_count": null,
      "outputs": [
        {
          "output_type": "execute_result",
          "data": {
            "text/plain": [
              "True"
            ]
          },
          "metadata": {},
          "execution_count": 78
        }
      ]
    },
    {
      "cell_type": "code",
      "source": [
        "stack.append(10)"
      ],
      "metadata": {
        "id": "uqyCqZOGEtV1"
      },
      "execution_count": null,
      "outputs": []
    },
    {
      "cell_type": "code",
      "source": [
        "stack.append(20)"
      ],
      "metadata": {
        "id": "3ON262bmE0QF"
      },
      "execution_count": null,
      "outputs": []
    },
    {
      "cell_type": "code",
      "source": [
        "stack[-1]"
      ],
      "metadata": {
        "colab": {
          "base_uri": "https://localhost:8080/"
        },
        "id": "xTDf3heaE1Pl",
        "outputId": "a579962b-e01c-444b-def5-01610ebe5eea"
      },
      "execution_count": null,
      "outputs": [
        {
          "output_type": "execute_result",
          "data": {
            "text/plain": [
              "20"
            ]
          },
          "metadata": {},
          "execution_count": 81
        }
      ]
    },
    {
      "cell_type": "code",
      "source": [
        "stack = []\n",
        "def push():\n",
        "  element = input(\"Enter the element: \")\n",
        "  stack.append(element)\n",
        "  print(stack)\n",
        "\n",
        "def pop_element():\n",
        "  if not stack:\n",
        "    print(\"Stack is empty!\")\n",
        "  else:\n",
        "    e = stack.pop()\n",
        "    print(\"removed element: \", e)\n",
        "    print(stack)\n",
        "\n",
        "while True:\n",
        "  print(\"Enter the operation 1. Push 2. Pop 3. Quit\")\n",
        "  choice = int(input())\n",
        "  if choice == 1:\n",
        "    push()\n",
        "  elif choice == 2:\n",
        "    pop_element()\n",
        "  elif choice == 3:\n",
        "    break\n",
        "  else:\n",
        "    print(\"Enter the correct operation!\")"
      ],
      "metadata": {
        "colab": {
          "base_uri": "https://localhost:8080/"
        },
        "id": "cScou7DaE2Nk",
        "outputId": "2e70675d-1719-438e-f8c8-7d0276421f32"
      },
      "execution_count": null,
      "outputs": [
        {
          "name": "stdout",
          "output_type": "stream",
          "text": [
            "Enter the operation 1. Push 2. Pop 3. Quit\n",
            "1\n",
            "Enter the element: 23\n",
            "['23']\n",
            "Enter the operation 1. Push 2. Pop 3. Quit\n",
            "1\n",
            "Enter the element: 40\n",
            "['23', '40']\n",
            "Enter the operation 1. Push 2. Pop 3. Quit\n",
            "1\n",
            "Enter the element: 90\n",
            "['23', '40', '90']\n",
            "Enter the operation 1. Push 2. Pop 3. Quit\n",
            "2\n",
            "removed element:  90\n",
            "['23', '40']\n",
            "Enter the operation 1. Push 2. Pop 3. Quit\n",
            "1\n",
            "Enter the element: 100\n",
            "['23', '40', '100']\n",
            "Enter the operation 1. Push 2. Pop 3. Quit\n",
            "3\n"
          ]
        }
      ]
    },
    {
      "cell_type": "code",
      "source": [
        "import collections"
      ],
      "metadata": {
        "id": "lh12P_-uFvqA"
      },
      "execution_count": null,
      "outputs": []
    },
    {
      "cell_type": "code",
      "source": [
        "stack = collections.deque()"
      ],
      "metadata": {
        "id": "BkMtjA6HHgBL"
      },
      "execution_count": null,
      "outputs": []
    },
    {
      "cell_type": "code",
      "source": [
        "stack"
      ],
      "metadata": {
        "colab": {
          "base_uri": "https://localhost:8080/"
        },
        "id": "g_BaU2ttHjQm",
        "outputId": "f54d4d77-de9d-45ac-a4c0-c338566b28b1"
      },
      "execution_count": null,
      "outputs": [
        {
          "output_type": "execute_result",
          "data": {
            "text/plain": [
              "deque([])"
            ]
          },
          "metadata": {},
          "execution_count": 85
        }
      ]
    },
    {
      "cell_type": "code",
      "source": [
        "stack.append(10)"
      ],
      "metadata": {
        "id": "ynULe8QsHjyH"
      },
      "execution_count": null,
      "outputs": []
    },
    {
      "cell_type": "code",
      "source": [
        "stack.append(20)"
      ],
      "metadata": {
        "id": "HfPfaIpnHk-e"
      },
      "execution_count": null,
      "outputs": []
    },
    {
      "cell_type": "code",
      "source": [
        "stack.append(30)"
      ],
      "metadata": {
        "id": "D_hMyMeYHnD4"
      },
      "execution_count": null,
      "outputs": []
    },
    {
      "cell_type": "code",
      "source": [
        "stack.pop()"
      ],
      "metadata": {
        "colab": {
          "base_uri": "https://localhost:8080/"
        },
        "id": "-MvNhkvaHn5x",
        "outputId": "49abd7f2-a2b1-4e83-d36f-ce47d0808c28"
      },
      "execution_count": null,
      "outputs": [
        {
          "output_type": "execute_result",
          "data": {
            "text/plain": [
              "30"
            ]
          },
          "metadata": {},
          "execution_count": 89
        }
      ]
    },
    {
      "cell_type": "code",
      "source": [
        "stack.pop()"
      ],
      "metadata": {
        "colab": {
          "base_uri": "https://localhost:8080/"
        },
        "id": "2DeT4gNEHoxT",
        "outputId": "de733dea-0e3b-4c43-ad63-f00dd9837a94"
      },
      "execution_count": null,
      "outputs": [
        {
          "output_type": "execute_result",
          "data": {
            "text/plain": [
              "20"
            ]
          },
          "metadata": {},
          "execution_count": 90
        }
      ]
    },
    {
      "cell_type": "code",
      "source": [
        "stack.pop()"
      ],
      "metadata": {
        "colab": {
          "base_uri": "https://localhost:8080/"
        },
        "id": "j9tY8HaFHqtz",
        "outputId": "000b4fd9-8f29-47bc-c2a9-81cb7deb177d"
      },
      "execution_count": null,
      "outputs": [
        {
          "output_type": "execute_result",
          "data": {
            "text/plain": [
              "10"
            ]
          },
          "metadata": {},
          "execution_count": 91
        }
      ]
    },
    {
      "cell_type": "code",
      "source": [
        "stack.pop()"
      ],
      "metadata": {
        "colab": {
          "base_uri": "https://localhost:8080/",
          "height": 166
        },
        "id": "AYmhouGnHrFy",
        "outputId": "ec22d2cc-fef1-4429-ac33-7999475d6208"
      },
      "execution_count": null,
      "outputs": [
        {
          "output_type": "error",
          "ename": "IndexError",
          "evalue": "ignored",
          "traceback": [
            "\u001b[0;31m---------------------------------------------------------------------------\u001b[0m",
            "\u001b[0;31mIndexError\u001b[0m                                Traceback (most recent call last)",
            "\u001b[0;32m<ipython-input-92-415460d3b717>\u001b[0m in \u001b[0;36m<module>\u001b[0;34m()\u001b[0m\n\u001b[0;32m----> 1\u001b[0;31m \u001b[0mstack\u001b[0m\u001b[0;34m.\u001b[0m\u001b[0mpop\u001b[0m\u001b[0;34m(\u001b[0m\u001b[0;34m)\u001b[0m\u001b[0;34m\u001b[0m\u001b[0;34m\u001b[0m\u001b[0m\n\u001b[0m",
            "\u001b[0;31mIndexError\u001b[0m: pop from an empty deque"
          ]
        }
      ]
    },
    {
      "cell_type": "code",
      "source": [
        "not stack"
      ],
      "metadata": {
        "colab": {
          "base_uri": "https://localhost:8080/"
        },
        "id": "oWoCMKuWHrpv",
        "outputId": "58617248-cbae-4a89-becd-e38cbaf68e5d"
      },
      "execution_count": null,
      "outputs": [
        {
          "output_type": "execute_result",
          "data": {
            "text/plain": [
              "True"
            ]
          },
          "metadata": {},
          "execution_count": 93
        }
      ]
    },
    {
      "cell_type": "code",
      "source": [
        "stack[-1]"
      ],
      "metadata": {
        "colab": {
          "base_uri": "https://localhost:8080/",
          "height": 166
        },
        "id": "i8NHdI4IHw3_",
        "outputId": "dae61f75-a018-47e5-96fe-322771f4b796"
      },
      "execution_count": null,
      "outputs": [
        {
          "output_type": "error",
          "ename": "IndexError",
          "evalue": "ignored",
          "traceback": [
            "\u001b[0;31m---------------------------------------------------------------------------\u001b[0m",
            "\u001b[0;31mIndexError\u001b[0m                                Traceback (most recent call last)",
            "\u001b[0;32m<ipython-input-94-07e44f747c82>\u001b[0m in \u001b[0;36m<module>\u001b[0;34m()\u001b[0m\n\u001b[0;32m----> 1\u001b[0;31m \u001b[0mstack\u001b[0m\u001b[0;34m[\u001b[0m\u001b[0;34m-\u001b[0m\u001b[0;36m1\u001b[0m\u001b[0;34m]\u001b[0m\u001b[0;34m\u001b[0m\u001b[0;34m\u001b[0m\u001b[0m\n\u001b[0m",
            "\u001b[0;31mIndexError\u001b[0m: deque index out of range"
          ]
        }
      ]
    },
    {
      "cell_type": "code",
      "source": [
        "import queue"
      ],
      "metadata": {
        "id": "SS33YxrnH1yv"
      },
      "execution_count": null,
      "outputs": []
    },
    {
      "cell_type": "code",
      "source": [
        "stack = queue.LifoQueue()"
      ],
      "metadata": {
        "id": "hLp4HPMPH81W"
      },
      "execution_count": null,
      "outputs": []
    },
    {
      "cell_type": "code",
      "source": [
        "stack.put(10)"
      ],
      "metadata": {
        "id": "UyOkONCWIBBD"
      },
      "execution_count": null,
      "outputs": []
    },
    {
      "cell_type": "code",
      "source": [
        "stack.put(20)"
      ],
      "metadata": {
        "id": "yokaiw6iICV3"
      },
      "execution_count": null,
      "outputs": []
    },
    {
      "cell_type": "code",
      "source": [
        "stack.put(30)"
      ],
      "metadata": {
        "id": "eDLFBaQZIFDn"
      },
      "execution_count": null,
      "outputs": []
    },
    {
      "cell_type": "code",
      "source": [
        "stack.get()"
      ],
      "metadata": {
        "colab": {
          "base_uri": "https://localhost:8080/"
        },
        "id": "s6AKvkRkIGAl",
        "outputId": "35db75b5-3dd4-49b0-ccf6-44b61e8f9a2b"
      },
      "execution_count": null,
      "outputs": [
        {
          "output_type": "execute_result",
          "data": {
            "text/plain": [
              "30"
            ]
          },
          "metadata": {},
          "execution_count": 101
        }
      ]
    },
    {
      "cell_type": "code",
      "source": [
        "stack.get()"
      ],
      "metadata": {
        "colab": {
          "base_uri": "https://localhost:8080/"
        },
        "id": "AUWGRkY7IHSP",
        "outputId": "78061089-9a3e-4793-863d-2ff54acee00d"
      },
      "execution_count": null,
      "outputs": [
        {
          "output_type": "execute_result",
          "data": {
            "text/plain": [
              "20"
            ]
          },
          "metadata": {},
          "execution_count": 102
        }
      ]
    },
    {
      "cell_type": "code",
      "source": [
        "stack.get()"
      ],
      "metadata": {
        "colab": {
          "base_uri": "https://localhost:8080/"
        },
        "id": "haCntL2nIHrE",
        "outputId": "cc70fa87-eedc-4a8e-8a17-0aaf79dfa7c6"
      },
      "execution_count": null,
      "outputs": [
        {
          "output_type": "execute_result",
          "data": {
            "text/plain": [
              "20"
            ]
          },
          "metadata": {},
          "execution_count": 103
        }
      ]
    },
    {
      "cell_type": "code",
      "source": [
        "stack.get()"
      ],
      "metadata": {
        "colab": {
          "base_uri": "https://localhost:8080/"
        },
        "id": "Sd4jfGteIILw",
        "outputId": "87f1f974-7f9c-4b81-f385-12ada9c4faba"
      },
      "execution_count": null,
      "outputs": [
        {
          "output_type": "execute_result",
          "data": {
            "text/plain": [
              "10"
            ]
          },
          "metadata": {},
          "execution_count": 104
        }
      ]
    },
    {
      "cell_type": "code",
      "source": [
        "stack.get()"
      ],
      "metadata": {
        "colab": {
          "base_uri": "https://localhost:8080/",
          "height": 311
        },
        "id": "1iME9BMqIIma",
        "outputId": "86705d04-8150-45e1-e29c-0d5e40a058bd"
      },
      "execution_count": null,
      "outputs": [
        {
          "output_type": "error",
          "ename": "KeyboardInterrupt",
          "evalue": "ignored",
          "traceback": [
            "\u001b[0;31m---------------------------------------------------------------------------\u001b[0m",
            "\u001b[0;31mKeyboardInterrupt\u001b[0m                         Traceback (most recent call last)",
            "\u001b[0;32m<ipython-input-105-c7bb925d2665>\u001b[0m in \u001b[0;36m<module>\u001b[0;34m()\u001b[0m\n\u001b[0;32m----> 1\u001b[0;31m \u001b[0mstack\u001b[0m\u001b[0;34m.\u001b[0m\u001b[0mget\u001b[0m\u001b[0;34m(\u001b[0m\u001b[0;34m)\u001b[0m\u001b[0;34m\u001b[0m\u001b[0;34m\u001b[0m\u001b[0m\n\u001b[0m",
            "\u001b[0;32m/usr/lib/python3.7/queue.py\u001b[0m in \u001b[0;36mget\u001b[0;34m(self, block, timeout)\u001b[0m\n\u001b[1;32m    168\u001b[0m             \u001b[0;32melif\u001b[0m \u001b[0mtimeout\u001b[0m \u001b[0;32mis\u001b[0m \u001b[0;32mNone\u001b[0m\u001b[0;34m:\u001b[0m\u001b[0;34m\u001b[0m\u001b[0;34m\u001b[0m\u001b[0m\n\u001b[1;32m    169\u001b[0m                 \u001b[0;32mwhile\u001b[0m \u001b[0;32mnot\u001b[0m \u001b[0mself\u001b[0m\u001b[0;34m.\u001b[0m\u001b[0m_qsize\u001b[0m\u001b[0;34m(\u001b[0m\u001b[0;34m)\u001b[0m\u001b[0;34m:\u001b[0m\u001b[0;34m\u001b[0m\u001b[0;34m\u001b[0m\u001b[0m\n\u001b[0;32m--> 170\u001b[0;31m                     \u001b[0mself\u001b[0m\u001b[0;34m.\u001b[0m\u001b[0mnot_empty\u001b[0m\u001b[0;34m.\u001b[0m\u001b[0mwait\u001b[0m\u001b[0;34m(\u001b[0m\u001b[0;34m)\u001b[0m\u001b[0;34m\u001b[0m\u001b[0;34m\u001b[0m\u001b[0m\n\u001b[0m\u001b[1;32m    171\u001b[0m             \u001b[0;32melif\u001b[0m \u001b[0mtimeout\u001b[0m \u001b[0;34m<\u001b[0m \u001b[0;36m0\u001b[0m\u001b[0;34m:\u001b[0m\u001b[0;34m\u001b[0m\u001b[0;34m\u001b[0m\u001b[0m\n\u001b[1;32m    172\u001b[0m                 \u001b[0;32mraise\u001b[0m \u001b[0mValueError\u001b[0m\u001b[0;34m(\u001b[0m\u001b[0;34m\"'timeout' must be a non-negative number\"\u001b[0m\u001b[0;34m)\u001b[0m\u001b[0;34m\u001b[0m\u001b[0;34m\u001b[0m\u001b[0m\n",
            "\u001b[0;32m/usr/lib/python3.7/threading.py\u001b[0m in \u001b[0;36mwait\u001b[0;34m(self, timeout)\u001b[0m\n\u001b[1;32m    294\u001b[0m         \u001b[0;32mtry\u001b[0m\u001b[0;34m:\u001b[0m    \u001b[0;31m# restore state no matter what (e.g., KeyboardInterrupt)\u001b[0m\u001b[0;34m\u001b[0m\u001b[0;34m\u001b[0m\u001b[0m\n\u001b[1;32m    295\u001b[0m             \u001b[0;32mif\u001b[0m \u001b[0mtimeout\u001b[0m \u001b[0;32mis\u001b[0m \u001b[0;32mNone\u001b[0m\u001b[0;34m:\u001b[0m\u001b[0;34m\u001b[0m\u001b[0;34m\u001b[0m\u001b[0m\n\u001b[0;32m--> 296\u001b[0;31m                 \u001b[0mwaiter\u001b[0m\u001b[0;34m.\u001b[0m\u001b[0macquire\u001b[0m\u001b[0;34m(\u001b[0m\u001b[0;34m)\u001b[0m\u001b[0;34m\u001b[0m\u001b[0;34m\u001b[0m\u001b[0m\n\u001b[0m\u001b[1;32m    297\u001b[0m                 \u001b[0mgotit\u001b[0m \u001b[0;34m=\u001b[0m \u001b[0;32mTrue\u001b[0m\u001b[0;34m\u001b[0m\u001b[0;34m\u001b[0m\u001b[0m\n\u001b[1;32m    298\u001b[0m             \u001b[0;32melse\u001b[0m\u001b[0;34m:\u001b[0m\u001b[0;34m\u001b[0m\u001b[0;34m\u001b[0m\u001b[0m\n",
            "\u001b[0;31mKeyboardInterrupt\u001b[0m: "
          ]
        }
      ]
    },
    {
      "cell_type": "code",
      "source": [
        "import queue"
      ],
      "metadata": {
        "id": "0jXIiGoVIJh4"
      },
      "execution_count": null,
      "outputs": []
    },
    {
      "cell_type": "code",
      "source": [
        "stack = queue.LifoQueue(3)"
      ],
      "metadata": {
        "id": "Sfg9zX3PIRkV"
      },
      "execution_count": null,
      "outputs": []
    },
    {
      "cell_type": "code",
      "source": [
        "stack.put(10)"
      ],
      "metadata": {
        "id": "EP04NvGTIUsB"
      },
      "execution_count": null,
      "outputs": []
    },
    {
      "cell_type": "code",
      "source": [
        "stack.put(20)"
      ],
      "metadata": {
        "id": "jhWMK0fmIWL-"
      },
      "execution_count": null,
      "outputs": []
    },
    {
      "cell_type": "code",
      "source": [
        "stack.put(30)"
      ],
      "metadata": {
        "id": "ON8JLRvxIW5B"
      },
      "execution_count": null,
      "outputs": []
    },
    {
      "cell_type": "code",
      "source": [
        "stack.put(40, timeout = 1)"
      ],
      "metadata": {
        "colab": {
          "base_uri": "https://localhost:8080/",
          "height": 287
        },
        "id": "5vn0JCxdIXqa",
        "outputId": "5bf1cf2a-b3b7-4bdb-995c-658f5b100aa3"
      },
      "execution_count": null,
      "outputs": [
        {
          "output_type": "error",
          "ename": "Full",
          "evalue": "ignored",
          "traceback": [
            "\u001b[0;31m---------------------------------------------------------------------------\u001b[0m",
            "\u001b[0;31mFull\u001b[0m                                      Traceback (most recent call last)",
            "\u001b[0;32m<ipython-input-112-afdf70de620e>\u001b[0m in \u001b[0;36m<module>\u001b[0;34m()\u001b[0m\n\u001b[0;32m----> 1\u001b[0;31m \u001b[0mstack\u001b[0m\u001b[0;34m.\u001b[0m\u001b[0mput\u001b[0m\u001b[0;34m(\u001b[0m\u001b[0;36m40\u001b[0m\u001b[0;34m,\u001b[0m \u001b[0mtimeout\u001b[0m \u001b[0;34m=\u001b[0m \u001b[0;36m1\u001b[0m\u001b[0;34m)\u001b[0m\u001b[0;34m\u001b[0m\u001b[0;34m\u001b[0m\u001b[0m\n\u001b[0m",
            "\u001b[0;32m/usr/lib/python3.7/queue.py\u001b[0m in \u001b[0;36mput\u001b[0;34m(self, item, block, timeout)\u001b[0m\n\u001b[1;32m    145\u001b[0m                         \u001b[0mremaining\u001b[0m \u001b[0;34m=\u001b[0m \u001b[0mendtime\u001b[0m \u001b[0;34m-\u001b[0m \u001b[0mtime\u001b[0m\u001b[0;34m(\u001b[0m\u001b[0;34m)\u001b[0m\u001b[0;34m\u001b[0m\u001b[0;34m\u001b[0m\u001b[0m\n\u001b[1;32m    146\u001b[0m                         \u001b[0;32mif\u001b[0m \u001b[0mremaining\u001b[0m \u001b[0;34m<=\u001b[0m \u001b[0;36m0.0\u001b[0m\u001b[0;34m:\u001b[0m\u001b[0;34m\u001b[0m\u001b[0;34m\u001b[0m\u001b[0m\n\u001b[0;32m--> 147\u001b[0;31m                             \u001b[0;32mraise\u001b[0m \u001b[0mFull\u001b[0m\u001b[0;34m\u001b[0m\u001b[0;34m\u001b[0m\u001b[0m\n\u001b[0m\u001b[1;32m    148\u001b[0m                         \u001b[0mself\u001b[0m\u001b[0;34m.\u001b[0m\u001b[0mnot_full\u001b[0m\u001b[0;34m.\u001b[0m\u001b[0mwait\u001b[0m\u001b[0;34m(\u001b[0m\u001b[0mremaining\u001b[0m\u001b[0;34m)\u001b[0m\u001b[0;34m\u001b[0m\u001b[0;34m\u001b[0m\u001b[0m\n\u001b[1;32m    149\u001b[0m             \u001b[0mself\u001b[0m\u001b[0;34m.\u001b[0m\u001b[0m_put\u001b[0m\u001b[0;34m(\u001b[0m\u001b[0mitem\u001b[0m\u001b[0;34m)\u001b[0m\u001b[0;34m\u001b[0m\u001b[0;34m\u001b[0m\u001b[0m\n",
            "\u001b[0;31mFull\u001b[0m: "
          ]
        }
      ]
    },
    {
      "cell_type": "code",
      "source": [
        "stack.get()"
      ],
      "metadata": {
        "colab": {
          "base_uri": "https://localhost:8080/"
        },
        "id": "4_y4SrGPIYX6",
        "outputId": "e0dd5545-5579-4ebd-cd3c-0f57411df7cb"
      },
      "execution_count": null,
      "outputs": [
        {
          "output_type": "execute_result",
          "data": {
            "text/plain": [
              "30"
            ]
          },
          "metadata": {},
          "execution_count": 113
        }
      ]
    },
    {
      "cell_type": "code",
      "source": [
        "stack.get()"
      ],
      "metadata": {
        "colab": {
          "base_uri": "https://localhost:8080/"
        },
        "id": "UwVDzc_zIfK3",
        "outputId": "8d1890c7-94dc-411d-d813-fd60e6b32d40"
      },
      "execution_count": null,
      "outputs": [
        {
          "output_type": "execute_result",
          "data": {
            "text/plain": [
              "20"
            ]
          },
          "metadata": {},
          "execution_count": 114
        }
      ]
    },
    {
      "cell_type": "code",
      "source": [
        "stack.get()"
      ],
      "metadata": {
        "colab": {
          "base_uri": "https://localhost:8080/"
        },
        "id": "QHWw3uJDIfha",
        "outputId": "6d6f1649-94fa-4e90-a554-662957f46266"
      },
      "execution_count": null,
      "outputs": [
        {
          "output_type": "execute_result",
          "data": {
            "text/plain": [
              "10"
            ]
          },
          "metadata": {},
          "execution_count": 115
        }
      ]
    },
    {
      "cell_type": "code",
      "source": [
        "stack.get(timeout = 1)"
      ],
      "metadata": {
        "colab": {
          "base_uri": "https://localhost:8080/",
          "height": 287
        },
        "id": "MHI9lISIIf41",
        "outputId": "8bd61fc2-770b-4bb6-9682-4043ef5d8e78"
      },
      "execution_count": null,
      "outputs": [
        {
          "output_type": "error",
          "ename": "Empty",
          "evalue": "ignored",
          "traceback": [
            "\u001b[0;31m---------------------------------------------------------------------------\u001b[0m",
            "\u001b[0;31mEmpty\u001b[0m                                     Traceback (most recent call last)",
            "\u001b[0;32m<ipython-input-116-4e3be63163b8>\u001b[0m in \u001b[0;36m<module>\u001b[0;34m()\u001b[0m\n\u001b[0;32m----> 1\u001b[0;31m \u001b[0mstack\u001b[0m\u001b[0;34m.\u001b[0m\u001b[0mget\u001b[0m\u001b[0;34m(\u001b[0m\u001b[0mtimeout\u001b[0m \u001b[0;34m=\u001b[0m \u001b[0;36m1\u001b[0m\u001b[0;34m)\u001b[0m\u001b[0;34m\u001b[0m\u001b[0;34m\u001b[0m\u001b[0m\n\u001b[0m",
            "\u001b[0;32m/usr/lib/python3.7/queue.py\u001b[0m in \u001b[0;36mget\u001b[0;34m(self, block, timeout)\u001b[0m\n\u001b[1;32m    176\u001b[0m                     \u001b[0mremaining\u001b[0m \u001b[0;34m=\u001b[0m \u001b[0mendtime\u001b[0m \u001b[0;34m-\u001b[0m \u001b[0mtime\u001b[0m\u001b[0;34m(\u001b[0m\u001b[0;34m)\u001b[0m\u001b[0;34m\u001b[0m\u001b[0;34m\u001b[0m\u001b[0m\n\u001b[1;32m    177\u001b[0m                     \u001b[0;32mif\u001b[0m \u001b[0mremaining\u001b[0m \u001b[0;34m<=\u001b[0m \u001b[0;36m0.0\u001b[0m\u001b[0;34m:\u001b[0m\u001b[0;34m\u001b[0m\u001b[0;34m\u001b[0m\u001b[0m\n\u001b[0;32m--> 178\u001b[0;31m                         \u001b[0;32mraise\u001b[0m \u001b[0mEmpty\u001b[0m\u001b[0;34m\u001b[0m\u001b[0;34m\u001b[0m\u001b[0m\n\u001b[0m\u001b[1;32m    179\u001b[0m                     \u001b[0mself\u001b[0m\u001b[0;34m.\u001b[0m\u001b[0mnot_empty\u001b[0m\u001b[0;34m.\u001b[0m\u001b[0mwait\u001b[0m\u001b[0;34m(\u001b[0m\u001b[0mremaining\u001b[0m\u001b[0;34m)\u001b[0m\u001b[0;34m\u001b[0m\u001b[0;34m\u001b[0m\u001b[0m\n\u001b[1;32m    180\u001b[0m             \u001b[0mitem\u001b[0m \u001b[0;34m=\u001b[0m \u001b[0mself\u001b[0m\u001b[0;34m.\u001b[0m\u001b[0m_get\u001b[0m\u001b[0;34m(\u001b[0m\u001b[0;34m)\u001b[0m\u001b[0;34m\u001b[0m\u001b[0;34m\u001b[0m\u001b[0m\n",
            "\u001b[0;31mEmpty\u001b[0m: "
          ]
        }
      ]
    },
    {
      "cell_type": "code",
      "source": [
        "queue = []"
      ],
      "metadata": {
        "id": "mJ1c5GutIh9j"
      },
      "execution_count": null,
      "outputs": []
    },
    {
      "cell_type": "code",
      "source": [
        "queue.append(10)"
      ],
      "metadata": {
        "id": "Wkk1yivxKEjq"
      },
      "execution_count": null,
      "outputs": []
    },
    {
      "cell_type": "code",
      "source": [
        "queue.append(20)"
      ],
      "metadata": {
        "id": "_-QgnNydKFzU"
      },
      "execution_count": null,
      "outputs": []
    },
    {
      "cell_type": "code",
      "source": [
        "queue.append(30)"
      ],
      "metadata": {
        "id": "9eVXXSG3KHy8"
      },
      "execution_count": null,
      "outputs": []
    },
    {
      "cell_type": "code",
      "source": [
        "queue"
      ],
      "metadata": {
        "colab": {
          "base_uri": "https://localhost:8080/"
        },
        "id": "t8ZdoNAAKIhO",
        "outputId": "1634d73b-f893-45e1-9a8d-886fcef11084"
      },
      "execution_count": null,
      "outputs": [
        {
          "output_type": "execute_result",
          "data": {
            "text/plain": [
              "[10, 20, 30]"
            ]
          },
          "metadata": {},
          "execution_count": 121
        }
      ]
    },
    {
      "cell_type": "code",
      "source": [
        "queue.pop(0)"
      ],
      "metadata": {
        "colab": {
          "base_uri": "https://localhost:8080/"
        },
        "id": "zNMkiTdpKJDN",
        "outputId": "b2ec533c-b3f5-41d2-971d-2c7565f02834"
      },
      "execution_count": null,
      "outputs": [
        {
          "output_type": "execute_result",
          "data": {
            "text/plain": [
              "10"
            ]
          },
          "metadata": {},
          "execution_count": 122
        }
      ]
    },
    {
      "cell_type": "code",
      "source": [
        "queue"
      ],
      "metadata": {
        "colab": {
          "base_uri": "https://localhost:8080/"
        },
        "id": "OFQWly7qKOQV",
        "outputId": "d543390a-c225-4762-eaa5-c5b61c8a6d3b"
      },
      "execution_count": null,
      "outputs": [
        {
          "output_type": "execute_result",
          "data": {
            "text/plain": [
              "[20, 30]"
            ]
          },
          "metadata": {},
          "execution_count": 124
        }
      ]
    },
    {
      "cell_type": "code",
      "source": [
        "queue.pop(0)"
      ],
      "metadata": {
        "colab": {
          "base_uri": "https://localhost:8080/"
        },
        "id": "VHNm6tcOKQk3",
        "outputId": "9e5333d1-f47d-49fe-a217-1adfd4b3dd24"
      },
      "execution_count": null,
      "outputs": [
        {
          "output_type": "execute_result",
          "data": {
            "text/plain": [
              "20"
            ]
          },
          "metadata": {},
          "execution_count": 125
        }
      ]
    },
    {
      "cell_type": "code",
      "source": [
        "queue.pop(0)"
      ],
      "metadata": {
        "colab": {
          "base_uri": "https://localhost:8080/"
        },
        "id": "W7Zya1rxKUs0",
        "outputId": "2a19a42d-6861-4782-b48a-7faa6b513cee"
      },
      "execution_count": null,
      "outputs": [
        {
          "output_type": "execute_result",
          "data": {
            "text/plain": [
              "30"
            ]
          },
          "metadata": {},
          "execution_count": 126
        }
      ]
    },
    {
      "cell_type": "code",
      "source": [
        "queue.pop(0)"
      ],
      "metadata": {
        "colab": {
          "base_uri": "https://localhost:8080/",
          "height": 166
        },
        "id": "v_4WxaksKV_O",
        "outputId": "a90df9b0-28e2-455f-d947-1a71441a8b60"
      },
      "execution_count": null,
      "outputs": [
        {
          "output_type": "error",
          "ename": "IndexError",
          "evalue": "ignored",
          "traceback": [
            "\u001b[0;31m---------------------------------------------------------------------------\u001b[0m",
            "\u001b[0;31mIndexError\u001b[0m                                Traceback (most recent call last)",
            "\u001b[0;32m<ipython-input-127-038138b33931>\u001b[0m in \u001b[0;36m<module>\u001b[0;34m()\u001b[0m\n\u001b[0;32m----> 1\u001b[0;31m \u001b[0mqueue\u001b[0m\u001b[0;34m.\u001b[0m\u001b[0mpop\u001b[0m\u001b[0;34m(\u001b[0m\u001b[0;36m0\u001b[0m\u001b[0;34m)\u001b[0m\u001b[0;34m\u001b[0m\u001b[0;34m\u001b[0m\u001b[0m\n\u001b[0m",
            "\u001b[0;31mIndexError\u001b[0m: pop from empty list"
          ]
        }
      ]
    },
    {
      "cell_type": "code",
      "source": [
        "queue.insert(0,10)"
      ],
      "metadata": {
        "id": "W5gaZjU9KWvj"
      },
      "execution_count": null,
      "outputs": []
    },
    {
      "cell_type": "code",
      "source": [
        "queue.insert(0,20)"
      ],
      "metadata": {
        "id": "LDqsAjN_KghR"
      },
      "execution_count": null,
      "outputs": []
    },
    {
      "cell_type": "code",
      "source": [
        "queue.insert(0,30)"
      ],
      "metadata": {
        "id": "cpboB_cyKiUe"
      },
      "execution_count": null,
      "outputs": []
    },
    {
      "cell_type": "code",
      "source": [
        "queue"
      ],
      "metadata": {
        "colab": {
          "base_uri": "https://localhost:8080/"
        },
        "id": "F7bQpiZ_KjZs",
        "outputId": "9898862f-42dd-43d7-cbe3-c9161606f8e0"
      },
      "execution_count": null,
      "outputs": [
        {
          "output_type": "execute_result",
          "data": {
            "text/plain": [
              "[30, 20, 10]"
            ]
          },
          "metadata": {},
          "execution_count": 131
        }
      ]
    },
    {
      "cell_type": "code",
      "source": [
        "queue.pop()"
      ],
      "metadata": {
        "colab": {
          "base_uri": "https://localhost:8080/"
        },
        "id": "TIQIXiUFKmWK",
        "outputId": "7498dbc0-d305-42ff-b517-112c1ae60fd0"
      },
      "execution_count": null,
      "outputs": [
        {
          "output_type": "execute_result",
          "data": {
            "text/plain": [
              "10"
            ]
          },
          "metadata": {},
          "execution_count": 132
        }
      ]
    },
    {
      "cell_type": "code",
      "source": [
        "queue.insert(0,10)"
      ],
      "metadata": {
        "id": "ICP96OuuKpcW"
      },
      "execution_count": null,
      "outputs": []
    },
    {
      "cell_type": "code",
      "source": [
        "queue.insert(0,10)"
      ],
      "metadata": {
        "id": "wNRQLN5QKq2x"
      },
      "execution_count": null,
      "outputs": []
    },
    {
      "cell_type": "code",
      "source": [
        "queue.insert(0,10)"
      ],
      "metadata": {
        "id": "p0hdgkuJKsM-"
      },
      "execution_count": null,
      "outputs": []
    },
    {
      "cell_type": "code",
      "source": [
        "queue"
      ],
      "metadata": {
        "colab": {
          "base_uri": "https://localhost:8080/"
        },
        "id": "30BeN_JsKs7h",
        "outputId": "14f9662d-f6e7-4e80-c265-5ee77291126b"
      },
      "execution_count": null,
      "outputs": [
        {
          "output_type": "execute_result",
          "data": {
            "text/plain": [
              "[10, 10, 10, 30, 20]"
            ]
          },
          "metadata": {},
          "execution_count": 136
        }
      ]
    },
    {
      "cell_type": "code",
      "source": [
        "queue.pop()"
      ],
      "metadata": {
        "colab": {
          "base_uri": "https://localhost:8080/"
        },
        "id": "5Srn8uYOKtpk",
        "outputId": "69a1f560-8235-4c79-cfac-b55084d31522"
      },
      "execution_count": null,
      "outputs": [
        {
          "output_type": "execute_result",
          "data": {
            "text/plain": [
              "20"
            ]
          },
          "metadata": {},
          "execution_count": 137
        }
      ]
    },
    {
      "cell_type": "code",
      "source": [
        "queue.pop()"
      ],
      "metadata": {
        "colab": {
          "base_uri": "https://localhost:8080/"
        },
        "id": "PtIHJ3HFKu8Y",
        "outputId": "7672d6dd-15b5-4b49-b5ac-7b9aca4af152"
      },
      "execution_count": null,
      "outputs": [
        {
          "output_type": "execute_result",
          "data": {
            "text/plain": [
              "30"
            ]
          },
          "metadata": {},
          "execution_count": 138
        }
      ]
    },
    {
      "cell_type": "code",
      "source": [
        "queue.pop()"
      ],
      "metadata": {
        "colab": {
          "base_uri": "https://localhost:8080/"
        },
        "id": "REeSz3kuKvPK",
        "outputId": "8264a061-7410-4ffb-c659-991700dfaced"
      },
      "execution_count": null,
      "outputs": [
        {
          "output_type": "execute_result",
          "data": {
            "text/plain": [
              "10"
            ]
          },
          "metadata": {},
          "execution_count": 139
        }
      ]
    },
    {
      "cell_type": "code",
      "source": [
        "queue.pop()"
      ],
      "metadata": {
        "colab": {
          "base_uri": "https://localhost:8080/"
        },
        "id": "Gp4kZO7tKvks",
        "outputId": "398193bc-d24b-44ed-e227-9799a88ed3c9"
      },
      "execution_count": null,
      "outputs": [
        {
          "output_type": "execute_result",
          "data": {
            "text/plain": [
              "10"
            ]
          },
          "metadata": {},
          "execution_count": 140
        }
      ]
    },
    {
      "cell_type": "code",
      "source": [
        "queue.pop()"
      ],
      "metadata": {
        "colab": {
          "base_uri": "https://localhost:8080/"
        },
        "id": "myP_JjDYKv2y",
        "outputId": "74f56db5-4288-480c-ea8a-35c65b99d8d1"
      },
      "execution_count": null,
      "outputs": [
        {
          "output_type": "execute_result",
          "data": {
            "text/plain": [
              "10"
            ]
          },
          "metadata": {},
          "execution_count": 141
        }
      ]
    },
    {
      "cell_type": "code",
      "source": [
        "queue.pop()"
      ],
      "metadata": {
        "colab": {
          "base_uri": "https://localhost:8080/",
          "height": 166
        },
        "id": "HUdAeqzuKwKJ",
        "outputId": "b45591ad-a779-422f-c61b-e2af3ae28cc8"
      },
      "execution_count": null,
      "outputs": [
        {
          "output_type": "error",
          "ename": "IndexError",
          "evalue": "ignored",
          "traceback": [
            "\u001b[0;31m---------------------------------------------------------------------------\u001b[0m",
            "\u001b[0;31mIndexError\u001b[0m                                Traceback (most recent call last)",
            "\u001b[0;32m<ipython-input-142-424d098a19ba>\u001b[0m in \u001b[0;36m<module>\u001b[0;34m()\u001b[0m\n\u001b[0;32m----> 1\u001b[0;31m \u001b[0mqueue\u001b[0m\u001b[0;34m.\u001b[0m\u001b[0mpop\u001b[0m\u001b[0;34m(\u001b[0m\u001b[0;34m)\u001b[0m\u001b[0;34m\u001b[0m\u001b[0;34m\u001b[0m\u001b[0m\n\u001b[0m",
            "\u001b[0;31mIndexError\u001b[0m: pop from empty list"
          ]
        }
      ]
    },
    {
      "cell_type": "code",
      "source": [
        "not queue"
      ],
      "metadata": {
        "colab": {
          "base_uri": "https://localhost:8080/"
        },
        "id": "4IysHYeEKxIu",
        "outputId": "a9ad7808-7ba9-46d5-ee6c-033f6834be81"
      },
      "execution_count": null,
      "outputs": [
        {
          "output_type": "execute_result",
          "data": {
            "text/plain": [
              "True"
            ]
          },
          "metadata": {},
          "execution_count": 143
        }
      ]
    },
    {
      "cell_type": "code",
      "source": [
        "queue.append(10)"
      ],
      "metadata": {
        "id": "lLdu2Nn0Kyep"
      },
      "execution_count": null,
      "outputs": []
    },
    {
      "cell_type": "code",
      "source": [
        "queue.append(20)"
      ],
      "metadata": {
        "id": "SIbcKW3hK1Aw"
      },
      "execution_count": null,
      "outputs": []
    },
    {
      "cell_type": "code",
      "source": [
        "queue.append(30)"
      ],
      "metadata": {
        "id": "6GhifEREK1z6"
      },
      "execution_count": null,
      "outputs": []
    },
    {
      "cell_type": "code",
      "source": [
        "queue[-1]"
      ],
      "metadata": {
        "colab": {
          "base_uri": "https://localhost:8080/"
        },
        "id": "rxPU1Oy7K2iO",
        "outputId": "febc3be6-5de4-4a6c-b005-5c1d88a1b796"
      },
      "execution_count": null,
      "outputs": [
        {
          "output_type": "execute_result",
          "data": {
            "text/plain": [
              "30"
            ]
          },
          "metadata": {},
          "execution_count": 147
        }
      ]
    },
    {
      "cell_type": "code",
      "source": [
        "queue[0]"
      ],
      "metadata": {
        "colab": {
          "base_uri": "https://localhost:8080/"
        },
        "id": "M_F6t8hKK3m-",
        "outputId": "edba513a-2437-4fc8-e24c-e75d2e0598d0"
      },
      "execution_count": null,
      "outputs": [
        {
          "output_type": "execute_result",
          "data": {
            "text/plain": [
              "10"
            ]
          },
          "metadata": {},
          "execution_count": 148
        }
      ]
    },
    {
      "cell_type": "code",
      "source": [
        "queue = []\n",
        "def enqueue():\n",
        "  element = input(\"Enter the element: \")\n",
        "  queue.append(element)\n",
        "  print(element,\" is added to queue!\")\n",
        "\n",
        "def dequeue():\n",
        "  if not queue:\n",
        "    print(\"queue is empty!\")\n",
        "  else:\n",
        "    e = queue.pop(0)\n",
        "    print(\"removed element: \", e)\n",
        "\n",
        "def display():\n",
        "  print(queue)\n",
        "\n",
        "while True:\n",
        "  print(\"Select the operation 1. add 2. remove 3. show 4. quit\")\n",
        "  choice = int(input())\n",
        "  if choice == 1:\n",
        "    enqueue()\n",
        "  elif choice == 2:\n",
        "    dequeue()\n",
        "  elif choice == 3:\n",
        "    display()\n",
        "  elif choice == 4:\n",
        "    break\n",
        "  else:\n",
        "    print(\"Enter the correct operation!\")"
      ],
      "metadata": {
        "colab": {
          "base_uri": "https://localhost:8080/"
        },
        "id": "9cNaucoZK401",
        "outputId": "260a0b29-e06e-4b16-cde9-2678681d41c7"
      },
      "execution_count": null,
      "outputs": [
        {
          "name": "stdout",
          "output_type": "stream",
          "text": [
            "Select the operation 1. add 2. remove 3. show 4. quit\n",
            "1\n",
            "Enter the element: 23\n",
            "23  is added to queue!\n",
            "Select the operation 1. add 2. remove 3. show 4. quit\n",
            "1\n",
            "Enter the element: 45\n",
            "45  is added to queue!\n",
            "Select the operation 1. add 2. remove 3. show 4. quit\n",
            "1\n",
            "Enter the element: 97\n",
            "97  is added to queue!\n",
            "Select the operation 1. add 2. remove 3. show 4. quit\n",
            "3\n",
            "['23', '45', '97']\n",
            "Select the operation 1. add 2. remove 3. show 4. quit\n",
            "2\n",
            "removed element:  23\n",
            "Select the operation 1. add 2. remove 3. show 4. quit\n",
            "3\n",
            "['45', '97']\n",
            "Select the operation 1. add 2. remove 3. show 4. quit\n",
            "4\n"
          ]
        }
      ]
    },
    {
      "cell_type": "code",
      "source": [
        "import collections"
      ],
      "metadata": {
        "id": "zSqO9XDJMDhH"
      },
      "execution_count": null,
      "outputs": []
    },
    {
      "cell_type": "code",
      "source": [
        "q = collections.deque()"
      ],
      "metadata": {
        "id": "QPGTXzPJNT9v"
      },
      "execution_count": null,
      "outputs": []
    },
    {
      "cell_type": "code",
      "source": [
        "q"
      ],
      "metadata": {
        "colab": {
          "base_uri": "https://localhost:8080/"
        },
        "id": "Dx6kztSTNYTH",
        "outputId": "57e9d0cb-ba98-4263-dca5-e1bb2eb212b9"
      },
      "execution_count": null,
      "outputs": [
        {
          "output_type": "execute_result",
          "data": {
            "text/plain": [
              "deque([])"
            ]
          },
          "metadata": {},
          "execution_count": 152
        }
      ]
    },
    {
      "cell_type": "code",
      "source": [
        "q.appendleft(10)"
      ],
      "metadata": {
        "id": "Oex0zQ7oNYrP"
      },
      "execution_count": null,
      "outputs": []
    },
    {
      "cell_type": "code",
      "source": [
        "q.appendleft(20)"
      ],
      "metadata": {
        "id": "Ww4bpA1WNarP"
      },
      "execution_count": null,
      "outputs": []
    },
    {
      "cell_type": "code",
      "source": [
        "q.appendleft(30)"
      ],
      "metadata": {
        "id": "KKWMDlPRNbZq"
      },
      "execution_count": null,
      "outputs": []
    },
    {
      "cell_type": "code",
      "source": [
        "q"
      ],
      "metadata": {
        "colab": {
          "base_uri": "https://localhost:8080/"
        },
        "id": "Fds3zVxNNcOW",
        "outputId": "2158ec9d-258b-4d12-d06c-40a6e001e505"
      },
      "execution_count": null,
      "outputs": [
        {
          "output_type": "execute_result",
          "data": {
            "text/plain": [
              "deque([30, 20, 10])"
            ]
          },
          "metadata": {},
          "execution_count": 156
        }
      ]
    },
    {
      "cell_type": "code",
      "source": [
        "q.pop()"
      ],
      "metadata": {
        "colab": {
          "base_uri": "https://localhost:8080/"
        },
        "id": "Q0oRzBJuNclG",
        "outputId": "fe08cc8c-246c-43b1-c1bf-403a6bb9ad21"
      },
      "execution_count": null,
      "outputs": [
        {
          "output_type": "execute_result",
          "data": {
            "text/plain": [
              "10"
            ]
          },
          "metadata": {},
          "execution_count": 157
        }
      ]
    },
    {
      "cell_type": "code",
      "source": [
        "q.pop()"
      ],
      "metadata": {
        "colab": {
          "base_uri": "https://localhost:8080/"
        },
        "id": "AY1fRwFDNf1-",
        "outputId": "75e30f7c-874c-4332-d2aa-81671913fc01"
      },
      "execution_count": null,
      "outputs": [
        {
          "output_type": "execute_result",
          "data": {
            "text/plain": [
              "20"
            ]
          },
          "metadata": {},
          "execution_count": 158
        }
      ]
    },
    {
      "cell_type": "code",
      "source": [
        "q.pop()"
      ],
      "metadata": {
        "colab": {
          "base_uri": "https://localhost:8080/"
        },
        "id": "eOCmkFrtNgPw",
        "outputId": "211bb1bb-6c86-4b07-d3a9-1113293052be"
      },
      "execution_count": null,
      "outputs": [
        {
          "output_type": "execute_result",
          "data": {
            "text/plain": [
              "30"
            ]
          },
          "metadata": {},
          "execution_count": 159
        }
      ]
    },
    {
      "cell_type": "code",
      "source": [
        "q.pop()"
      ],
      "metadata": {
        "colab": {
          "base_uri": "https://localhost:8080/",
          "height": 166
        },
        "id": "DRnhFANrNjjR",
        "outputId": "b88def87-9308-4724-d9e2-1a8b0d09fd09"
      },
      "execution_count": null,
      "outputs": [
        {
          "output_type": "error",
          "ename": "IndexError",
          "evalue": "ignored",
          "traceback": [
            "\u001b[0;31m---------------------------------------------------------------------------\u001b[0m",
            "\u001b[0;31mIndexError\u001b[0m                                Traceback (most recent call last)",
            "\u001b[0;32m<ipython-input-160-a75d510a0910>\u001b[0m in \u001b[0;36m<module>\u001b[0;34m()\u001b[0m\n\u001b[0;32m----> 1\u001b[0;31m \u001b[0mq\u001b[0m\u001b[0;34m.\u001b[0m\u001b[0mpop\u001b[0m\u001b[0;34m(\u001b[0m\u001b[0;34m)\u001b[0m\u001b[0;34m\u001b[0m\u001b[0;34m\u001b[0m\u001b[0m\n\u001b[0m",
            "\u001b[0;31mIndexError\u001b[0m: pop from an empty deque"
          ]
        }
      ]
    },
    {
      "cell_type": "code",
      "source": [
        "q.append(10)"
      ],
      "metadata": {
        "id": "sYrRrgZINj94"
      },
      "execution_count": null,
      "outputs": []
    },
    {
      "cell_type": "code",
      "source": [
        "q.append(30)"
      ],
      "metadata": {
        "id": "NhoBpT3JNmuY"
      },
      "execution_count": null,
      "outputs": []
    },
    {
      "cell_type": "code",
      "source": [
        "q.append(20)"
      ],
      "metadata": {
        "id": "-VEXYsb3NoPZ"
      },
      "execution_count": null,
      "outputs": []
    },
    {
      "cell_type": "code",
      "source": [
        "q.popleft()"
      ],
      "metadata": {
        "colab": {
          "base_uri": "https://localhost:8080/"
        },
        "id": "skrvwKXrNpU0",
        "outputId": "485ad068-89ea-443f-f7d8-c6b604b766bb"
      },
      "execution_count": null,
      "outputs": [
        {
          "output_type": "execute_result",
          "data": {
            "text/plain": [
              "10"
            ]
          },
          "metadata": {},
          "execution_count": 172
        }
      ]
    },
    {
      "cell_type": "code",
      "source": [
        "q.popleft()"
      ],
      "metadata": {
        "colab": {
          "base_uri": "https://localhost:8080/"
        },
        "id": "pYMMJzbeNrmn",
        "outputId": "507065ed-eb08-4244-81d8-9d8d42cba4a1"
      },
      "execution_count": null,
      "outputs": [
        {
          "output_type": "execute_result",
          "data": {
            "text/plain": [
              "30"
            ]
          },
          "metadata": {},
          "execution_count": 173
        }
      ]
    },
    {
      "cell_type": "code",
      "source": [
        "not q"
      ],
      "metadata": {
        "colab": {
          "base_uri": "https://localhost:8080/"
        },
        "id": "LCYLN0SINsBU",
        "outputId": "94e84f22-0c18-405e-873d-6b16919b84d6"
      },
      "execution_count": null,
      "outputs": [
        {
          "output_type": "execute_result",
          "data": {
            "text/plain": [
              "False"
            ]
          },
          "metadata": {},
          "execution_count": 174
        }
      ]
    },
    {
      "cell_type": "code",
      "source": [
        "q.popleft()"
      ],
      "metadata": {
        "colab": {
          "base_uri": "https://localhost:8080/"
        },
        "id": "l9oyFG7BNxjj",
        "outputId": "91874c8e-2c9d-405a-83ba-afcab6232600"
      },
      "execution_count": null,
      "outputs": [
        {
          "output_type": "execute_result",
          "data": {
            "text/plain": [
              "20"
            ]
          },
          "metadata": {},
          "execution_count": 175
        }
      ]
    },
    {
      "cell_type": "code",
      "source": [
        "q[-1]"
      ],
      "metadata": {
        "colab": {
          "base_uri": "https://localhost:8080/",
          "height": 166
        },
        "id": "aOi_yXXHN2qF",
        "outputId": "180cea08-2fa6-4007-ae44-60c75d7652a5"
      },
      "execution_count": null,
      "outputs": [
        {
          "output_type": "error",
          "ename": "IndexError",
          "evalue": "ignored",
          "traceback": [
            "\u001b[0;31m---------------------------------------------------------------------------\u001b[0m",
            "\u001b[0;31mIndexError\u001b[0m                                Traceback (most recent call last)",
            "\u001b[0;32m<ipython-input-176-1d2d80e7cfe3>\u001b[0m in \u001b[0;36m<module>\u001b[0;34m()\u001b[0m\n\u001b[0;32m----> 1\u001b[0;31m \u001b[0mq\u001b[0m\u001b[0;34m[\u001b[0m\u001b[0;34m-\u001b[0m\u001b[0;36m1\u001b[0m\u001b[0;34m]\u001b[0m\u001b[0;34m\u001b[0m\u001b[0;34m\u001b[0m\u001b[0m\n\u001b[0m",
            "\u001b[0;31mIndexError\u001b[0m: deque index out of range"
          ]
        }
      ]
    },
    {
      "cell_type": "code",
      "source": [
        "q.append(10)"
      ],
      "metadata": {
        "id": "QTb7XEp3N3q1"
      },
      "execution_count": null,
      "outputs": []
    },
    {
      "cell_type": "code",
      "source": [
        "q.append(20)"
      ],
      "metadata": {
        "id": "RWU68TF6N-bN"
      },
      "execution_count": null,
      "outputs": []
    },
    {
      "cell_type": "code",
      "source": [
        "q.append(30)"
      ],
      "metadata": {
        "id": "jpiEyXM4OCP2"
      },
      "execution_count": null,
      "outputs": []
    },
    {
      "cell_type": "code",
      "source": [
        "q"
      ],
      "metadata": {
        "colab": {
          "base_uri": "https://localhost:8080/"
        },
        "id": "HZj1Ii68OC7h",
        "outputId": "f2e0785d-fbab-4971-b272-2c2ad5c78e84"
      },
      "execution_count": null,
      "outputs": [
        {
          "output_type": "execute_result",
          "data": {
            "text/plain": [
              "deque([10, 20, 30])"
            ]
          },
          "metadata": {},
          "execution_count": 180
        }
      ]
    },
    {
      "cell_type": "code",
      "source": [
        "q[-1]"
      ],
      "metadata": {
        "colab": {
          "base_uri": "https://localhost:8080/"
        },
        "id": "TDSRsI8DODyU",
        "outputId": "050b9bf6-5dfb-4159-a5c5-24585cfff58d"
      },
      "execution_count": null,
      "outputs": [
        {
          "output_type": "execute_result",
          "data": {
            "text/plain": [
              "30"
            ]
          },
          "metadata": {},
          "execution_count": 181
        }
      ]
    },
    {
      "cell_type": "code",
      "source": [
        "q[0]"
      ],
      "metadata": {
        "colab": {
          "base_uri": "https://localhost:8080/"
        },
        "id": "opDEhrptOEil",
        "outputId": "210cac32-dc1e-4ce9-8062-34892003512f"
      },
      "execution_count": null,
      "outputs": [
        {
          "output_type": "execute_result",
          "data": {
            "text/plain": [
              "10"
            ]
          },
          "metadata": {},
          "execution_count": 182
        }
      ]
    },
    {
      "cell_type": "code",
      "source": [
        "import queue"
      ],
      "metadata": {
        "id": "g9tDF3PUOFFv"
      },
      "execution_count": null,
      "outputs": []
    },
    {
      "cell_type": "code",
      "source": [
        "q = queue.Queue()"
      ],
      "metadata": {
        "id": "a6dOAJZ_Sibf"
      },
      "execution_count": null,
      "outputs": []
    },
    {
      "cell_type": "code",
      "source": [
        "q.put(10)"
      ],
      "metadata": {
        "id": "oczajSwSSj_-"
      },
      "execution_count": null,
      "outputs": []
    },
    {
      "cell_type": "code",
      "source": [
        "q.put(50)"
      ],
      "metadata": {
        "id": "ga_p9dRRSlZc"
      },
      "execution_count": null,
      "outputs": []
    },
    {
      "cell_type": "code",
      "source": [
        "q.put(30)"
      ],
      "metadata": {
        "id": "8afgxc2jSmTV"
      },
      "execution_count": null,
      "outputs": []
    },
    {
      "cell_type": "code",
      "source": [
        "q.get()"
      ],
      "metadata": {
        "colab": {
          "base_uri": "https://localhost:8080/"
        },
        "id": "i7Uad2KASnP0",
        "outputId": "4df6b873-3bb1-415d-f9e3-265f3194c700"
      },
      "execution_count": null,
      "outputs": [
        {
          "output_type": "execute_result",
          "data": {
            "text/plain": [
              "10"
            ]
          },
          "metadata": {},
          "execution_count": 190
        }
      ]
    },
    {
      "cell_type": "code",
      "source": [
        "q.get()"
      ],
      "metadata": {
        "colab": {
          "base_uri": "https://localhost:8080/"
        },
        "id": "-LLOq95ISq85",
        "outputId": "82d7c872-5d45-4ee5-fd3c-55c1af5ce619"
      },
      "execution_count": null,
      "outputs": [
        {
          "output_type": "execute_result",
          "data": {
            "text/plain": [
              "50"
            ]
          },
          "metadata": {},
          "execution_count": 191
        }
      ]
    },
    {
      "cell_type": "code",
      "source": [
        "q.get()"
      ],
      "metadata": {
        "colab": {
          "base_uri": "https://localhost:8080/"
        },
        "id": "fv7jLjLVSrq2",
        "outputId": "037ad430-fca6-435f-8886-31a6716b1ed2"
      },
      "execution_count": null,
      "outputs": [
        {
          "output_type": "execute_result",
          "data": {
            "text/plain": [
              "30"
            ]
          },
          "metadata": {},
          "execution_count": 192
        }
      ]
    },
    {
      "cell_type": "code",
      "source": [
        "q.get()"
      ],
      "metadata": {
        "colab": {
          "base_uri": "https://localhost:8080/",
          "height": 311
        },
        "id": "hJwt4z5_Ssjt",
        "outputId": "179a1503-506a-4a79-b327-28f30a66b786"
      },
      "execution_count": null,
      "outputs": [
        {
          "output_type": "error",
          "ename": "KeyboardInterrupt",
          "evalue": "ignored",
          "traceback": [
            "\u001b[0;31m---------------------------------------------------------------------------\u001b[0m",
            "\u001b[0;31mKeyboardInterrupt\u001b[0m                         Traceback (most recent call last)",
            "\u001b[0;32m<ipython-input-193-4afd527a82ad>\u001b[0m in \u001b[0;36m<module>\u001b[0;34m()\u001b[0m\n\u001b[0;32m----> 1\u001b[0;31m \u001b[0mq\u001b[0m\u001b[0;34m.\u001b[0m\u001b[0mget\u001b[0m\u001b[0;34m(\u001b[0m\u001b[0;34m)\u001b[0m\u001b[0;34m\u001b[0m\u001b[0;34m\u001b[0m\u001b[0m\n\u001b[0m",
            "\u001b[0;32m/usr/lib/python3.7/queue.py\u001b[0m in \u001b[0;36mget\u001b[0;34m(self, block, timeout)\u001b[0m\n\u001b[1;32m    168\u001b[0m             \u001b[0;32melif\u001b[0m \u001b[0mtimeout\u001b[0m \u001b[0;32mis\u001b[0m \u001b[0;32mNone\u001b[0m\u001b[0;34m:\u001b[0m\u001b[0;34m\u001b[0m\u001b[0;34m\u001b[0m\u001b[0m\n\u001b[1;32m    169\u001b[0m                 \u001b[0;32mwhile\u001b[0m \u001b[0;32mnot\u001b[0m \u001b[0mself\u001b[0m\u001b[0;34m.\u001b[0m\u001b[0m_qsize\u001b[0m\u001b[0;34m(\u001b[0m\u001b[0;34m)\u001b[0m\u001b[0;34m:\u001b[0m\u001b[0;34m\u001b[0m\u001b[0;34m\u001b[0m\u001b[0m\n\u001b[0;32m--> 170\u001b[0;31m                     \u001b[0mself\u001b[0m\u001b[0;34m.\u001b[0m\u001b[0mnot_empty\u001b[0m\u001b[0;34m.\u001b[0m\u001b[0mwait\u001b[0m\u001b[0;34m(\u001b[0m\u001b[0;34m)\u001b[0m\u001b[0;34m\u001b[0m\u001b[0;34m\u001b[0m\u001b[0m\n\u001b[0m\u001b[1;32m    171\u001b[0m             \u001b[0;32melif\u001b[0m \u001b[0mtimeout\u001b[0m \u001b[0;34m<\u001b[0m \u001b[0;36m0\u001b[0m\u001b[0;34m:\u001b[0m\u001b[0;34m\u001b[0m\u001b[0;34m\u001b[0m\u001b[0m\n\u001b[1;32m    172\u001b[0m                 \u001b[0;32mraise\u001b[0m \u001b[0mValueError\u001b[0m\u001b[0;34m(\u001b[0m\u001b[0;34m\"'timeout' must be a non-negative number\"\u001b[0m\u001b[0;34m)\u001b[0m\u001b[0;34m\u001b[0m\u001b[0;34m\u001b[0m\u001b[0m\n",
            "\u001b[0;32m/usr/lib/python3.7/threading.py\u001b[0m in \u001b[0;36mwait\u001b[0;34m(self, timeout)\u001b[0m\n\u001b[1;32m    294\u001b[0m         \u001b[0;32mtry\u001b[0m\u001b[0;34m:\u001b[0m    \u001b[0;31m# restore state no matter what (e.g., KeyboardInterrupt)\u001b[0m\u001b[0;34m\u001b[0m\u001b[0;34m\u001b[0m\u001b[0m\n\u001b[1;32m    295\u001b[0m             \u001b[0;32mif\u001b[0m \u001b[0mtimeout\u001b[0m \u001b[0;32mis\u001b[0m \u001b[0;32mNone\u001b[0m\u001b[0;34m:\u001b[0m\u001b[0;34m\u001b[0m\u001b[0;34m\u001b[0m\u001b[0m\n\u001b[0;32m--> 296\u001b[0;31m                 \u001b[0mwaiter\u001b[0m\u001b[0;34m.\u001b[0m\u001b[0macquire\u001b[0m\u001b[0;34m(\u001b[0m\u001b[0;34m)\u001b[0m\u001b[0;34m\u001b[0m\u001b[0;34m\u001b[0m\u001b[0m\n\u001b[0m\u001b[1;32m    297\u001b[0m                 \u001b[0mgotit\u001b[0m \u001b[0;34m=\u001b[0m \u001b[0;32mTrue\u001b[0m\u001b[0;34m\u001b[0m\u001b[0;34m\u001b[0m\u001b[0m\n\u001b[1;32m    298\u001b[0m             \u001b[0;32melse\u001b[0m\u001b[0;34m:\u001b[0m\u001b[0;34m\u001b[0m\u001b[0;34m\u001b[0m\u001b[0m\n",
            "\u001b[0;31mKeyboardInterrupt\u001b[0m: "
          ]
        }
      ]
    },
    {
      "cell_type": "code",
      "source": [
        "q = []"
      ],
      "metadata": {
        "id": "2jWtE5jOSufO"
      },
      "execution_count": null,
      "outputs": []
    },
    {
      "cell_type": "code",
      "source": [
        "q.append(10)"
      ],
      "metadata": {
        "id": "LjZW1w5hVKvA"
      },
      "execution_count": null,
      "outputs": []
    },
    {
      "cell_type": "code",
      "source": [
        "q.append(40)"
      ],
      "metadata": {
        "id": "5ody4iNAVMBA"
      },
      "execution_count": null,
      "outputs": []
    },
    {
      "cell_type": "code",
      "source": [
        "q.sort()"
      ],
      "metadata": {
        "id": "lDrsEXjmVNHq"
      },
      "execution_count": null,
      "outputs": []
    },
    {
      "cell_type": "code",
      "source": [
        "q.append(20)"
      ],
      "metadata": {
        "id": "IE2JF8IcVONW"
      },
      "execution_count": null,
      "outputs": []
    },
    {
      "cell_type": "code",
      "source": [
        "q.sort()"
      ],
      "metadata": {
        "id": "LTdC1GZZVQTU"
      },
      "execution_count": null,
      "outputs": []
    },
    {
      "cell_type": "code",
      "source": [
        "q.pop(0)"
      ],
      "metadata": {
        "colab": {
          "base_uri": "https://localhost:8080/"
        },
        "id": "DRQpubarVRGu",
        "outputId": "3c9da063-40ea-4c4a-df81-227a7eaa117b"
      },
      "execution_count": null,
      "outputs": [
        {
          "output_type": "execute_result",
          "data": {
            "text/plain": [
              "10"
            ]
          },
          "metadata": {},
          "execution_count": 200
        }
      ]
    },
    {
      "cell_type": "code",
      "source": [
        "q.pop(0)"
      ],
      "metadata": {
        "colab": {
          "base_uri": "https://localhost:8080/"
        },
        "id": "UvQnA301VSXK",
        "outputId": "0a309215-63ed-4746-b0b3-7f88b8242ac8"
      },
      "execution_count": null,
      "outputs": [
        {
          "output_type": "execute_result",
          "data": {
            "text/plain": [
              "20"
            ]
          },
          "metadata": {},
          "execution_count": 201
        }
      ]
    },
    {
      "cell_type": "code",
      "source": [
        "q.pop(0)"
      ],
      "metadata": {
        "colab": {
          "base_uri": "https://localhost:8080/"
        },
        "id": "VInzqn0nVTJn",
        "outputId": "488e7815-3b8b-44bb-9b85-554aa31975df"
      },
      "execution_count": null,
      "outputs": [
        {
          "output_type": "execute_result",
          "data": {
            "text/plain": [
              "40"
            ]
          },
          "metadata": {},
          "execution_count": 202
        }
      ]
    },
    {
      "cell_type": "code",
      "source": [
        "q.pop(0)"
      ],
      "metadata": {
        "colab": {
          "base_uri": "https://localhost:8080/",
          "height": 166
        },
        "id": "Uy5k0jbsVUAl",
        "outputId": "a7ec5289-dced-4d01-fb50-03bf232fe18f"
      },
      "execution_count": null,
      "outputs": [
        {
          "output_type": "error",
          "ename": "IndexError",
          "evalue": "ignored",
          "traceback": [
            "\u001b[0;31m---------------------------------------------------------------------------\u001b[0m",
            "\u001b[0;31mIndexError\u001b[0m                                Traceback (most recent call last)",
            "\u001b[0;32m<ipython-input-203-8689926d9981>\u001b[0m in \u001b[0;36m<module>\u001b[0;34m()\u001b[0m\n\u001b[0;32m----> 1\u001b[0;31m \u001b[0mq\u001b[0m\u001b[0;34m.\u001b[0m\u001b[0mpop\u001b[0m\u001b[0;34m(\u001b[0m\u001b[0;36m0\u001b[0m\u001b[0;34m)\u001b[0m\u001b[0;34m\u001b[0m\u001b[0;34m\u001b[0m\u001b[0m\n\u001b[0m",
            "\u001b[0;31mIndexError\u001b[0m: pop from empty list"
          ]
        }
      ]
    },
    {
      "cell_type": "code",
      "source": [
        "import queue"
      ],
      "metadata": {
        "id": "cqtci4kEVUz8"
      },
      "execution_count": null,
      "outputs": []
    },
    {
      "cell_type": "code",
      "source": [
        "q = queue.PriorityQueue()"
      ],
      "metadata": {
        "id": "3Ms6OOq8VbtC"
      },
      "execution_count": null,
      "outputs": []
    },
    {
      "cell_type": "code",
      "source": [
        "q.put(10)"
      ],
      "metadata": {
        "id": "IqShHI8HVfBL"
      },
      "execution_count": null,
      "outputs": []
    },
    {
      "cell_type": "code",
      "source": [
        "q.put(60)"
      ],
      "metadata": {
        "id": "V38OTI1BVf3z"
      },
      "execution_count": null,
      "outputs": []
    },
    {
      "cell_type": "code",
      "source": [
        "q.put(20)"
      ],
      "metadata": {
        "id": "gKlGHKPvVg10"
      },
      "execution_count": null,
      "outputs": []
    },
    {
      "cell_type": "code",
      "source": [
        "q.put(40)"
      ],
      "metadata": {
        "id": "_SuNLTz8VhxH"
      },
      "execution_count": null,
      "outputs": []
    },
    {
      "cell_type": "code",
      "source": [
        "q.put(40)"
      ],
      "metadata": {
        "id": "s6qnTM3cVjPh"
      },
      "execution_count": null,
      "outputs": []
    },
    {
      "cell_type": "code",
      "source": [
        "q.get()"
      ],
      "metadata": {
        "colab": {
          "base_uri": "https://localhost:8080/"
        },
        "id": "a5z_A2qJVkXR",
        "outputId": "5db51728-96c4-47e7-961a-c0546bf40de7"
      },
      "execution_count": null,
      "outputs": [
        {
          "output_type": "execute_result",
          "data": {
            "text/plain": [
              "10"
            ]
          },
          "metadata": {},
          "execution_count": 211
        }
      ]
    },
    {
      "cell_type": "code",
      "source": [
        "q.get()"
      ],
      "metadata": {
        "colab": {
          "base_uri": "https://localhost:8080/"
        },
        "id": "-bZKpZlUVlLb",
        "outputId": "ea7318bb-ca73-47b5-a704-cf4304af25e0"
      },
      "execution_count": null,
      "outputs": [
        {
          "output_type": "execute_result",
          "data": {
            "text/plain": [
              "20"
            ]
          },
          "metadata": {},
          "execution_count": 212
        }
      ]
    },
    {
      "cell_type": "code",
      "source": [
        "q.get()"
      ],
      "metadata": {
        "colab": {
          "base_uri": "https://localhost:8080/"
        },
        "id": "w-ys5o04VmFV",
        "outputId": "910e57ea-cb5a-4b18-aa8a-68293350c3ba"
      },
      "execution_count": null,
      "outputs": [
        {
          "output_type": "execute_result",
          "data": {
            "text/plain": [
              "40"
            ]
          },
          "metadata": {},
          "execution_count": 213
        }
      ]
    },
    {
      "cell_type": "code",
      "source": [
        "q.get()"
      ],
      "metadata": {
        "colab": {
          "base_uri": "https://localhost:8080/"
        },
        "id": "d6YBEs1tVm5W",
        "outputId": "2c616de6-3331-44ec-e5fe-924ff96e455d"
      },
      "execution_count": null,
      "outputs": [
        {
          "output_type": "execute_result",
          "data": {
            "text/plain": [
              "40"
            ]
          },
          "metadata": {},
          "execution_count": 214
        }
      ]
    },
    {
      "cell_type": "code",
      "source": [
        "q.get()"
      ],
      "metadata": {
        "colab": {
          "base_uri": "https://localhost:8080/"
        },
        "id": "HogGGDT-Vnmx",
        "outputId": "89d48f24-2565-4fa3-ab26-88a206977a50"
      },
      "execution_count": null,
      "outputs": [
        {
          "output_type": "execute_result",
          "data": {
            "text/plain": [
              "60"
            ]
          },
          "metadata": {},
          "execution_count": 215
        }
      ]
    },
    {
      "cell_type": "code",
      "source": [
        "q = []"
      ],
      "metadata": {
        "id": "biPUA-0ZVpy2"
      },
      "execution_count": null,
      "outputs": []
    },
    {
      "cell_type": "code",
      "source": [
        "q.append((1,\"alexa\"))"
      ],
      "metadata": {
        "id": "XODvH4wpVuOA"
      },
      "execution_count": null,
      "outputs": []
    },
    {
      "cell_type": "code",
      "source": [
        "q.append((2,\"alex\"))"
      ],
      "metadata": {
        "id": "B4EhSOUHVxVN"
      },
      "execution_count": null,
      "outputs": []
    },
    {
      "cell_type": "code",
      "source": [
        "q.append((3,\"ale\"))"
      ],
      "metadata": {
        "id": "n0JuEjZUVyC-"
      },
      "execution_count": null,
      "outputs": []
    },
    {
      "cell_type": "code",
      "source": [
        "q.sort(reverse = True)"
      ],
      "metadata": {
        "id": "zPBMq59lV2lp"
      },
      "execution_count": null,
      "outputs": []
    },
    {
      "cell_type": "code",
      "source": [
        "q.pop(0)"
      ],
      "metadata": {
        "colab": {
          "base_uri": "https://localhost:8080/"
        },
        "id": "-53w4IaYV6Hv",
        "outputId": "f19d27a1-5f9d-4ef7-be02-74d56ce093ae"
      },
      "execution_count": null,
      "outputs": [
        {
          "output_type": "execute_result",
          "data": {
            "text/plain": [
              "(3, 'ale')"
            ]
          },
          "metadata": {},
          "execution_count": 224
        }
      ]
    },
    {
      "cell_type": "code",
      "source": [
        "q.pop(0)"
      ],
      "metadata": {
        "colab": {
          "base_uri": "https://localhost:8080/"
        },
        "id": "eCwB2zcwV7LG",
        "outputId": "76605262-36e6-4006-b6ca-93f099d8ae5b"
      },
      "execution_count": null,
      "outputs": [
        {
          "output_type": "execute_result",
          "data": {
            "text/plain": [
              "(2, 'alex')"
            ]
          },
          "metadata": {},
          "execution_count": 225
        }
      ]
    },
    {
      "cell_type": "code",
      "source": [
        "q.pop(0)"
      ],
      "metadata": {
        "colab": {
          "base_uri": "https://localhost:8080/"
        },
        "id": "lW8sYA5sV8D3",
        "outputId": "c2d15968-ab5c-4a0e-de24-6292f444d22a"
      },
      "execution_count": null,
      "outputs": [
        {
          "output_type": "execute_result",
          "data": {
            "text/plain": [
              "(1, 'alexa')"
            ]
          },
          "metadata": {},
          "execution_count": 226
        }
      ]
    },
    {
      "cell_type": "code",
      "source": [
        "class Node:\n",
        "  def __init__(self, data):\n",
        "    self.data = data\n",
        "    self.ref = None"
      ],
      "metadata": {
        "id": "dBFqHVL1V9RM"
      },
      "execution_count": null,
      "outputs": []
    },
    {
      "cell_type": "code",
      "source": [
        "class LinkedList:\n",
        "  def __init__(self):\n",
        "    self.head = None\n",
        "  def print_LL(self):\n",
        "    if self.head is None:\n",
        "      print(\"Linked List is empty\")\n",
        "    else:\n",
        "      n = self.head\n",
        "      while n is not None:\n",
        "        print(n.data, \"--->\", end = \" \")\n",
        "        n = n.ref\n",
        "      print()\n",
        "  def add_begin(self, data):\n",
        "    new_node = Node(data)\n",
        "    new_node.ref = self.head\n",
        "    self.head = new_node\n",
        "  def add_end(self, data):\n",
        "    new_node = Node(data)\n",
        "    if self.head is None:\n",
        "      self.head = new_node\n",
        "    else:\n",
        "      n = self.head\n",
        "      while n.ref is not None:\n",
        "        n= n.ref\n",
        "      n.ref = new_node\n",
        "  def add_after(self, data, x):\n",
        "    n = self.head\n",
        "    while n is not None:\n",
        "      if x == n.data:\n",
        "        break\n",
        "      n = n.ref\n",
        "    if n is None:\n",
        "      print(\"Node is not present in LL\")\n",
        "    else:\n",
        "      new_node = Node(data)\n",
        "      new_node.ref = n.ref\n",
        "      n.ref = new_node\n",
        "  def add_before(self, data, x):\n",
        "    if self.head is None:\n",
        "      print(\"Linked List is empty!\")\n",
        "      return\n",
        "    if self.head.data == x:\n",
        "      new_node = Node(data)\n",
        "      new_node.ref = self.head\n",
        "      self.head = new_node\n",
        "      return\n",
        "    n = self.head\n",
        "    while n.ref is not None:\n",
        "      if n.ref.data == x:\n",
        "        break\n",
        "      n = n.ref\n",
        "    if n.ref is None:\n",
        "      print(\"Node is not found!\")\n",
        "    else:\n",
        "      new_node = Node(data)\n",
        "      new_node.ref = n.ref\n",
        "      n.ref = new_node\n",
        "  def insert_empty(self, data):\n",
        "    if self.head is None:\n",
        "      new_node = Node(data)\n",
        "      self.head = new_node\n",
        "    else:\n",
        "      print(\"Linked List is not empty!\")\n",
        "  def delete_begin(self):\n",
        "    if self.head is None:\n",
        "      print(\"LL is empty so We cant delete nodes!\")\n",
        "    else:\n",
        "      self.head = self.head.ref\n",
        "  def delete_end(self):\n",
        "    if self.head is None:\n",
        "      print(\"LL is empty so We cant delete nodes!\") \n",
        "    elif self.head.ref is Node:\n",
        "      self.head = None\n",
        "    else:\n",
        "      n = self.head\n",
        "      while n.ref.ref is not None:\n",
        "        n = n.ref\n",
        "      n.ref = None\n",
        "  def delete_by_value(self,x):\n",
        "    if self.head is Node:\n",
        "      print('Cant delete, LL is empty!')\n",
        "      return\n",
        "    if x==self.head.data:\n",
        "      self.head = self.head.ref\n",
        "      return\n",
        "    n = self.head\n",
        "    while n.ref is not None:\n",
        "      if x==n.ref.data:\n",
        "        break\n",
        "      n = n.ref\n",
        "    if n.ref is None:\n",
        "      print(\"Node is not present!\")\n",
        "    else:\n",
        "      n.ref = n.ref.ref\n",
        "    \n",
        "LL1 = LinkedList()\n",
        "LL1.insert_empty(10)\n",
        "LL1.insert_empty(20)\n",
        "LL1.add_begin(10)\n",
        "LL1.add_end(100)\n",
        "LL1.add_after(200,500)\n",
        "LL1.add_before(200,10)\n",
        "LL1.print_LL()\n",
        "LL1.delete_by_value(10)\n",
        "LL1.print_LL()"
      ],
      "metadata": {
        "colab": {
          "base_uri": "https://localhost:8080/"
        },
        "id": "gv_P4KVPLjwB",
        "outputId": "9afc7009-4bcf-4966-ba2e-2a265c2feca1"
      },
      "execution_count": null,
      "outputs": [
        {
          "output_type": "stream",
          "name": "stdout",
          "text": [
            "Linked List is not empty!\n",
            "Node is not present in LL\n",
            "200 ---> 10 ---> 10 ---> 100 ---> \n",
            "200 ---> 10 ---> 100 ---> \n"
          ]
        }
      ]
    },
    {
      "cell_type": "code",
      "source": [
        "LL2 = LinkedList()"
      ],
      "metadata": {
        "id": "pFsKLDtwBs6h"
      },
      "execution_count": null,
      "outputs": []
    },
    {
      "cell_type": "code",
      "source": [
        "LL1.print_LL()"
      ],
      "metadata": {
        "colab": {
          "base_uri": "https://localhost:8080/"
        },
        "id": "ys8oRROuBvQN",
        "outputId": "2d025664-626f-43b4-8d2a-f478d2f3c3b2"
      },
      "execution_count": null,
      "outputs": [
        {
          "output_type": "stream",
          "name": "stdout",
          "text": [
            "20 --->10 --->100 --->"
          ]
        }
      ]
    },
    {
      "cell_type": "code",
      "source": [
        "class Node:\n",
        "  def __init__(self, data):\n",
        "    self.data = data\n",
        "    self.nref = None\n",
        "    self.pref = None\n",
        "\n",
        "class doublyLL:\n",
        "  def __init__(self):\n",
        "    self.head = None\n",
        "  def print_LL(self):\n",
        "    if self.head is None:\n",
        "      print(\"Linked List is empty!\")\n",
        "    else:\n",
        "      n = self.head\n",
        "      while n is not None:\n",
        "        print(n.data, \"--->\", end = \" \")\n",
        "        n = n.nref\n",
        "      print()\n",
        "  def print_LL_reversed(self):\n",
        "    if self.head is None:\n",
        "      print(\"Linked List is empty!\")\n",
        "    else:\n",
        "      n = self.head\n",
        "      while n.nref is not None:\n",
        "        n = n.nref\n",
        "      while n is not None:\n",
        "        print(n.data, \"--->\", end = \" \")\n",
        "        n = n.pref\n",
        "  def insert_empty(self, data):\n",
        "    if self.head is None:\n",
        "      new_node = Node(data)\n",
        "      self.head = new_node\n",
        "    else:\n",
        "      print(\"Linked List is not empty!\")\n",
        "  def add_begin(self,data):\n",
        "    new_node = Node(data)\n",
        "    if self.head is None:\n",
        "      self.head = new_node\n",
        "    else:\n",
        "      new_node.nref = self.head\n",
        "      self.head.pref = new_node\n",
        "      self.head = new_node\n",
        "  def add_end(self,data):\n",
        "    new_node = Node(data)\n",
        "    if self.head is None:\n",
        "      self.head = new_node\n",
        "    else:\n",
        "      n = self.head\n",
        "      while n.nref is not None:\n",
        "        n = n.ref\n",
        "      n.nref = new_node\n",
        "      new_node.pref = n\n",
        "  def add_after(self,data,x):\n",
        "    if self.head is None:\n",
        "      print(\"LL is empty!\")\n",
        "    else:\n",
        "      n = self.head\n",
        "      while n is not None:\n",
        "        if x==n.data:\n",
        "          break\n",
        "        n = n.nref\n",
        "      if n is None:\n",
        "        print(\"Given node is not present in DLL\")\n",
        "      else:\n",
        "        new_node = Node(data)\n",
        "        new_node.nref = n.nref\n",
        "        new_node.pref = n\n",
        "        if n.nref is not None:\n",
        "          n.nref.pref = new_node\n",
        "        n.nref = new_node\n",
        "  def add_before(self,data,x):\n",
        "    if self.head is None:\n",
        "      print(\"LL is empty!\")\n",
        "    else:\n",
        "      n = self.head\n",
        "      while n is not None:\n",
        "        if x==n.data:\n",
        "          break\n",
        "        n = n.nref\n",
        "      if n is None:\n",
        "        print(\"Given node is not present in DLL\")\n",
        "      else:\n",
        "        new_node = Node(data)\n",
        "        new_node.nref = n\n",
        "        new_node.pref = n.pref\n",
        "        if n.pref is not None:\n",
        "          n.pref.nref = new_node\n",
        "        else:\n",
        "          self.head = new_node\n",
        "        n.pref = new_node\n",
        "  def delete_begin(self):\n",
        "    if self.head is None:\n",
        "      print(\"DLL is empty, cant delete!\")\n",
        "      return\n",
        "    if self.head.nref is None:\n",
        "      self.head = None\n",
        "      print(\"DLL is empty after deleting the node!\")\n",
        "    else:\n",
        "      self.head = self.head.nref\n",
        "      self.head.pref = None\n",
        "  def delete_end(self):\n",
        "    if self.head is None:\n",
        "      print(\"DLL is empty, cant delete!\")\n",
        "      return    \n",
        "    if self.head.nref is None:\n",
        "      self.head = None\n",
        "      print(\"DLL is empty after deleting the node!\")\n",
        "    else:\n",
        "      n = self.head\n",
        "      while n.nref is not None:\n",
        "        n = n.nref\n",
        "      n.pref.nref = None\n",
        "  def delete_by_value(self,x):\n",
        "    if self.head is None:\n",
        "      print(\"DLL is empty, cant delete!\")\n",
        "      return    \n",
        "    if self.head.nref is None:\n",
        "      if x == self.head.data:\n",
        "        self.head = None\n",
        "      else:\n",
        "        print(\"x is not present in DLL\")\n",
        "      return\n",
        "    if self.head.data == x:\n",
        "      self.head = self.head.nref\n",
        "      self.head.pref = None\n",
        "      return\n",
        "    n = self.head\n",
        "    while n.nref is not None:\n",
        "      if x == n.data:\n",
        "        break\n",
        "      n = n.nref\n",
        "    if n.nref is not None:\n",
        "      n.nref.pref = n.pref\n",
        "      n.pref.nref = n.nref\n",
        "    else:\n",
        "      if n.data == x:\n",
        "        n.pref.nref = None\n",
        "      else:\n",
        "        print(\"x is not present in DLL\")\n",
        "      return\n",
        "dll = doublyLL()\n",
        "#dll.insert_empty(10)\n",
        "dll.add_begin(4)\n",
        "dll.add_before(10,4)\n",
        "dll.delete_by_value(4)\n",
        "dll.print_LL()\n",
        "dll.print_LL_reversed()"
      ],
      "metadata": {
        "colab": {
          "base_uri": "https://localhost:8080/"
        },
        "id": "ePP-omg0Bw12",
        "outputId": "ea46fe67-91c9-4273-a3d2-a84fbbc2ba4d"
      },
      "execution_count": null,
      "outputs": [
        {
          "output_type": "stream",
          "name": "stdout",
          "text": [
            "10 ---> \n",
            "10 ---> "
          ]
        }
      ]
    },
    {
      "cell_type": "code",
      "source": [
        ""
      ],
      "metadata": {
        "id": "nfr5ilyn-gL0"
      },
      "execution_count": null,
      "outputs": []
    },
    {
      "cell_type": "markdown",
      "source": [
        "DevOps Career roadmap\n",
        "\n",
        "1. Plan\n",
        "2. Code\n",
        "3. Build\n",
        "4. Deploy\n",
        "5. Test\n",
        "6. Release\n",
        "7. Config/Operations\n",
        "8. Monitoring\n",
        "\n",
        "Step 1 - Learn a programming language (Plan (Excel, Jira) / Code)\n",
        "\n",
        "Step 2 - Learn tools for building source code management (SCM) (Maven, Gradle, Git, Github, Bitbucket), CI/CD (Jenkins), Container (Docker, Kubernetes) (Build and Deploy stages)\n",
        "\n",
        "Step 3 - Learn how to run tests (command line, CI/CD)\n",
        "\n",
        "Step 4 - Learn cloud services (AWS, Azure, GCP)\n",
        "\n",
        "Step 5 - Learn config management tools (Chef, Puppet, Ansible)\n",
        "\n",
        "Step 6 - Learn logging and monitoring tools (Nagios, New Relic)"
      ],
      "metadata": {
        "id": "9Rk25D7j-duE"
      }
    },
    {
      "cell_type": "code",
      "source": [
        "class BST:\n",
        "    def __init__(self, key):\n",
        "        self.key = key\n",
        "        self.lchild = None\n",
        "        self.rchild = None\n",
        "\n",
        "    def insert(self,data):\n",
        "      if self.key is None:\n",
        "        self.key = data\n",
        "        return\n",
        "      if self.key == data:\n",
        "        return\n",
        "      if self.key > data:\n",
        "        if self.lchild:\n",
        "          self.lchild.insert(data)\n",
        "        else:\n",
        "          self.lchild = BST(data)\n",
        "      else:\n",
        "        if self.rchild:\n",
        "          self.rchild.insert(data)\n",
        "        else:\n",
        "          self.rchild = BST(data)\n",
        "    \n",
        "    def search(self,data):\n",
        "      if self.key == data:\n",
        "        print(\"Node is found!\")\n",
        "        return\n",
        "      if data < self.key:\n",
        "        if self.lchild:\n",
        "          self.lchild.search(data)\n",
        "        else:\n",
        "            print(\"Node is not present in tree!\")\n",
        "      else:\n",
        "        if self.rchild:\n",
        "          self.rchild.search(data)\n",
        "        else:\n",
        "          print(\"Node is not present in tree!\")\n",
        "    \n",
        "    def preorder(self):\n",
        "      print(self.key)\n",
        "      if self.lchild:\n",
        "        self.lchild.preorder()\n",
        "      if self.rchild:\n",
        "        self.rchild.preorder()\n",
        "\n",
        "    def inorder(self):\n",
        "      if self.lchild:\n",
        "        self.lchild.inorder()\n",
        "      print(self.key)\n",
        "      if self.rchild:\n",
        "        self.rchild.inorder()\n",
        "    def postorder(self):\n",
        "      if self.lchild:\n",
        "        self.lchild.postorder()\n",
        "      if self.rchild:\n",
        "        self.rchild.postorder()\n",
        "      print(self.key)\n",
        "\n",
        "    def delete(self,data, curr):\n",
        "      if self.key is None:\n",
        "        print(\"Tree is empty!\")\n",
        "        return\n",
        "      if data < self.key:\n",
        "        if self.lchild:\n",
        "          self.lchild = self.lchild.delete(data)\n",
        "        else:\n",
        "          print(\"Given node is not present in tree!\")\n",
        "      elif data > self.key:\n",
        "        if self.rchild:\n",
        "          self.rchild = self.rchild.delete(data)\n",
        "        else:\n",
        "          print(\"Given node is not present in tree!\")      \n",
        "      else:\n",
        "        if self.lchild is None:\n",
        "          temp = self.rchild\n",
        "          if data == curr:\n",
        "            self.key = temp.key\n",
        "            self.lchild = temp.lchild\n",
        "            self.rchild = temp.rchild\n",
        "            temp = None\n",
        "            return\n",
        "          self = None\n",
        "          return temp\n",
        "        if self.rchild is None:\n",
        "          temp = self.lchild\n",
        "          if data == curr:\n",
        "            self.key = temp.key\n",
        "            self.lchild = temp.lchild\n",
        "            self.rchild = temp.rchild\n",
        "            temp = None\n",
        "            return\n",
        "          self = None\n",
        "          return temp\n",
        "        node = self.rchild\n",
        "        while node.lchild:\n",
        "          node = node.lchild\n",
        "        self.key = node.key\n",
        "        self.rchild = self.rchild.delete(node.key) \n",
        "\n",
        "    def min_node(self):\n",
        "      current = self\n",
        "      while current.lchild:\n",
        "        current = current.lchild\n",
        "      print(\"Node with smallest key is: \", current.key)\n",
        "\n",
        "    def max_node(self):\n",
        "      current = self\n",
        "      while current.rchild:\n",
        "        current = current.rchild\n",
        "      print(\"Node with maximum key is: \", current.key)\n",
        "\n",
        "def count(node):\n",
        "  if node is None:\n",
        "    return 0\n",
        "  return 1 + count(node.lchild) + count(node.rchild)\n",
        "root = BST(10) \n",
        "list1 = [1,2]\n",
        "for i in list1:\n",
        "  root.insert(i)\n",
        "if count(root)>1:\n",
        "  root.delete(10, root.key)\n",
        "else:\n",
        "  print('Cant perform delete operation!')\n",
        "\n",
        "print(count(root))\n",
        "print(root.key) \n",
        "print(root.lchild) \n",
        "print(root.rchild)\n"
      ],
      "metadata": {
        "id": "O-M3_cBDBFLS",
        "colab": {
          "base_uri": "https://localhost:8080/"
        },
        "outputId": "4cc3d466-f4f3-4ced-d8f7-685e79ed3a43"
      },
      "execution_count": null,
      "outputs": [
        {
          "output_type": "stream",
          "name": "stdout",
          "text": [
            "2\n",
            "1\n",
            "None\n",
            "<__main__.BST object at 0x7eff02494cd0>\n"
          ]
        }
      ]
    },
    {
      "cell_type": "code",
      "source": [
        "root = BST(10) \n",
        "list1 = [20,4,30,4,1,5,6]\n",
        "for i in list1:\n",
        "  root.insert(i)\n",
        "\n",
        "root.postorder()\n",
        "root.min_node()\n",
        "root.max_node()"
      ],
      "metadata": {
        "colab": {
          "base_uri": "https://localhost:8080/"
        },
        "id": "v13Xv_JNjx1H",
        "outputId": "5625ec66-2824-470c-d4fc-b026f8069015"
      },
      "execution_count": null,
      "outputs": [
        {
          "output_type": "stream",
          "name": "stdout",
          "text": [
            "1\n",
            "6\n",
            "5\n",
            "4\n",
            "30\n",
            "20\n",
            "10\n",
            "Node with smallest key is:  1\n",
            "Node with maximum key is:  30\n"
          ]
        }
      ]
    },
    {
      "cell_type": "code",
      "source": [
        "root.lchild = BST(5)"
      ],
      "metadata": {
        "id": "qwCPcy-9bM_a"
      },
      "execution_count": null,
      "outputs": []
    },
    {
      "cell_type": "code",
      "source": [
        "print(root.lchild.key)\n",
        "print(root.lchild.lchild)\n",
        "print(root.lchild.rchild)"
      ],
      "metadata": {
        "colab": {
          "base_uri": "https://localhost:8080/"
        },
        "id": "AOJKyIjPbNFc",
        "outputId": "07cb57ea-1fe3-4343-8047-249b285791f5"
      },
      "execution_count": null,
      "outputs": [
        {
          "output_type": "stream",
          "name": "stdout",
          "text": [
            "5\n",
            "None\n",
            "None\n"
          ]
        }
      ]
    },
    {
      "cell_type": "code",
      "source": [
        "print(root.key)\n",
        "print(root.lchild)\n",
        "print(root.rchild)"
      ],
      "metadata": {
        "id": "m9f3voVtbNJe"
      },
      "execution_count": null,
      "outputs": []
    },
    {
      "cell_type": "code",
      "source": [
        "import heapq"
      ],
      "metadata": {
        "id": "0VX8IiQLbNNV"
      },
      "execution_count": null,
      "outputs": []
    },
    {
      "cell_type": "code",
      "source": [
        "heap = []"
      ],
      "metadata": {
        "id": "rsM7CIvfbNS3"
      },
      "execution_count": null,
      "outputs": []
    },
    {
      "cell_type": "code",
      "source": [
        "heapq.heappush(heap,10)"
      ],
      "metadata": {
        "id": "E-CbmD_abNYP"
      },
      "execution_count": null,
      "outputs": []
    },
    {
      "cell_type": "code",
      "source": [
        "heap"
      ],
      "metadata": {
        "id": "-1P4c5uvbNcj",
        "colab": {
          "base_uri": "https://localhost:8080/"
        },
        "outputId": "d15d4d67-690d-4488-ce4f-22414b918399"
      },
      "execution_count": null,
      "outputs": [
        {
          "output_type": "execute_result",
          "data": {
            "text/plain": [
              "[10]"
            ]
          },
          "metadata": {},
          "execution_count": 4
        }
      ]
    },
    {
      "cell_type": "code",
      "source": [
        "heapq.heappush(heap,1)"
      ],
      "metadata": {
        "id": "KJS0OiDGH1TP"
      },
      "execution_count": null,
      "outputs": []
    },
    {
      "cell_type": "code",
      "source": [
        "heap"
      ],
      "metadata": {
        "colab": {
          "base_uri": "https://localhost:8080/"
        },
        "id": "4mEEbtotH3ul",
        "outputId": "bf5625ab-43a6-4c89-d1cd-bd5294e0f407"
      },
      "execution_count": null,
      "outputs": [
        {
          "output_type": "execute_result",
          "data": {
            "text/plain": [
              "[1, 10]"
            ]
          },
          "metadata": {},
          "execution_count": 6
        }
      ]
    },
    {
      "cell_type": "code",
      "source": [
        "heapq.heappush(heap,5)\n",
        "heap"
      ],
      "metadata": {
        "colab": {
          "base_uri": "https://localhost:8080/"
        },
        "id": "mqvl6Ry9H5CP",
        "outputId": "7eeea8e8-23a9-4546-e756-78070e62521f"
      },
      "execution_count": null,
      "outputs": [
        {
          "output_type": "execute_result",
          "data": {
            "text/plain": [
              "[1, 10, 5]"
            ]
          },
          "metadata": {},
          "execution_count": 7
        }
      ]
    },
    {
      "cell_type": "code",
      "source": [
        "heapq.heappop(heap)\n",
        "heap"
      ],
      "metadata": {
        "colab": {
          "base_uri": "https://localhost:8080/"
        },
        "id": "Uq-Z8nuRH-uL",
        "outputId": "9356cde1-2ae4-4c99-dfa7-1d70520dc25d"
      },
      "execution_count": null,
      "outputs": [
        {
          "output_type": "execute_result",
          "data": {
            "text/plain": [
              "[5, 10]"
            ]
          },
          "metadata": {},
          "execution_count": 8
        }
      ]
    },
    {
      "cell_type": "code",
      "source": [
        "list1 = [1,3,5,2,4,6]\n",
        "heapq.heapify(list1)\n",
        "list1"
      ],
      "metadata": {
        "colab": {
          "base_uri": "https://localhost:8080/"
        },
        "id": "9RyE3aHaIKU2",
        "outputId": "b9f82fff-bc97-4b20-e1ac-9fd506ad7a6e"
      },
      "execution_count": null,
      "outputs": [
        {
          "output_type": "execute_result",
          "data": {
            "text/plain": [
              "[1, 2, 5, 3, 4, 6]"
            ]
          },
          "metadata": {},
          "execution_count": 13
        }
      ]
    },
    {
      "cell_type": "code",
      "source": [
        "heapq.heappushpop(list1,89)\n",
        "list1"
      ],
      "metadata": {
        "colab": {
          "base_uri": "https://localhost:8080/"
        },
        "id": "Mr-P71l0IgVS",
        "outputId": "e1dfa5d5-66cf-4d4d-bea6-bb6e23b78c08"
      },
      "execution_count": null,
      "outputs": [
        {
          "output_type": "execute_result",
          "data": {
            "text/plain": [
              "[2, 3, 5, 89, 4, 6]"
            ]
          },
          "metadata": {},
          "execution_count": 14
        }
      ]
    },
    {
      "cell_type": "code",
      "source": [
        "heapq.heapreplace(list1,100)\n",
        "list1"
      ],
      "metadata": {
        "colab": {
          "base_uri": "https://localhost:8080/"
        },
        "id": "lFkzcxCVIznb",
        "outputId": "dfd2bb3c-3507-45a6-9278-beafb169bccc"
      },
      "execution_count": null,
      "outputs": [
        {
          "output_type": "execute_result",
          "data": {
            "text/plain": [
              "[3, 4, 5, 89, 100, 6]"
            ]
          },
          "metadata": {},
          "execution_count": 15
        }
      ]
    },
    {
      "cell_type": "code",
      "source": [
        "heapq.nsmallest(2,list1)\n"
      ],
      "metadata": {
        "colab": {
          "base_uri": "https://localhost:8080/"
        },
        "id": "amU5YNIAJM1q",
        "outputId": "1eeacef2-1797-4d0a-a29f-6234b93e7a64"
      },
      "execution_count": null,
      "outputs": [
        {
          "output_type": "execute_result",
          "data": {
            "text/plain": [
              "[3, 4]"
            ]
          },
          "metadata": {},
          "execution_count": 17
        }
      ]
    },
    {
      "cell_type": "code",
      "source": [
        "heapq.heapify(list1)\n",
        "list1"
      ],
      "metadata": {
        "colab": {
          "base_uri": "https://localhost:8080/"
        },
        "id": "GGC1DiWZJbQW",
        "outputId": "d6ebc9f4-b4fb-4b90-e9c0-4e169241b5b4"
      },
      "execution_count": null,
      "outputs": [
        {
          "output_type": "execute_result",
          "data": {
            "text/plain": [
              "[3, 4, 5, 89, 100, 6]"
            ]
          },
          "metadata": {},
          "execution_count": 18
        }
      ]
    },
    {
      "cell_type": "code",
      "source": [
        "heapq.nlargest(2,list1)"
      ],
      "metadata": {
        "colab": {
          "base_uri": "https://localhost:8080/"
        },
        "id": "99tOZsFNJjFR",
        "outputId": "312d787a-bba4-4014-bfd2-bc65ca857bd6"
      },
      "execution_count": null,
      "outputs": [
        {
          "output_type": "execute_result",
          "data": {
            "text/plain": [
              "[100, 89]"
            ]
          },
          "metadata": {},
          "execution_count": 19
        }
      ]
    },
    {
      "cell_type": "code",
      "source": [
        "list2 = [(1, 'ria'), (4, 'sia'), (3, 'gia')]\n",
        "heapq.heapify(list2)\n",
        "list2"
      ],
      "metadata": {
        "colab": {
          "base_uri": "https://localhost:8080/"
        },
        "id": "te_od6-jJmdf",
        "outputId": "42ba1e75-aed7-4a1e-85bd-b123134b2305"
      },
      "execution_count": null,
      "outputs": [
        {
          "output_type": "execute_result",
          "data": {
            "text/plain": [
              "[(1, 'ria'), (4, 'sia'), (3, 'gia')]"
            ]
          },
          "metadata": {},
          "execution_count": 21
        }
      ]
    },
    {
      "cell_type": "code",
      "source": [
        "for i in range(len(list)):\n",
        "  print(heapq.heappop(list2))"
      ],
      "metadata": {
        "id": "e9F1dNNAJ87l"
      },
      "execution_count": null,
      "outputs": []
    },
    {
      "cell_type": "code",
      "source": [
        "def add_node(v):\n",
        "  global node_count,nodes,graph\n",
        "  if v in nodes:\n",
        "    print(v, \" is already present in the graph.\")\n",
        "  else:\n",
        "    node_count = node_count + 1\n",
        "    nodes.append(v)\n",
        "    for n in graph:\n",
        "      n.append(0)\n",
        "    temp = []\n",
        "    for i in range(node_count):\n",
        "      temp.append(0)\n",
        "    graph.append(temp)\n",
        "\n",
        "def add_edge(v1, v2, cost):\n",
        "  if v1 not in nodes:\n",
        "    print(v1, \"is not present in the graph\")\n",
        "  elif v2 not in nodes:\n",
        "    print(v2, \"is not present in the graph\")\n",
        "  else:\n",
        "    index1 = nodes.index(v1)\n",
        "    index2 = nodes.index(v2)\n",
        "    graph[index1][index2] = cost\n",
        "    #graph[index2][index1] = cost\n",
        "\n",
        "def delete_edge(v1, v2):\n",
        "  if v1 not in nodes:\n",
        "    print(v1, \"is not present in graph\")\n",
        "  elif v2 not in nodes:\n",
        "    print(v2, \"is not present in graph\")\n",
        "  else:\n",
        "    index1 = nodes.index(v1)\n",
        "    index2 = nodes.index(v2)\n",
        "    graph[index1][index2] = 0\n",
        "    #graph[index2][index1] = 0\n",
        "\n",
        "def delete_node(v):\n",
        "  global node_count\n",
        "  if v not in nodes:\n",
        "    print(v, \"is not present in the graph\")\n",
        "  else:\n",
        "    index1 = nodes.index(v)\n",
        "    node_count = node_count - 1\n",
        "    nodes.remove(v)\n",
        "    graph.pop(index1)\n",
        "    for i in graph:\n",
        "      i.pop(index1)\n",
        "\n",
        "def print_graph():\n",
        "  for i in range(node_count):\n",
        "    for j in range(node_count):\n",
        "      print(format(graph[i][j], \"<3\"), end = ' ')\n",
        "    print()\n",
        "\n",
        "nodes = []\n",
        "graph = []\n",
        "node_count = 0\n",
        "print(\"Before adding nodes\")\n",
        "print(nodes)\n",
        "print(graph)\n",
        "add_node(\"A\")\n",
        "add_node(\"A\")\n",
        "add_node(\"B\")\n",
        "add_node(\"C\")\n",
        "add_edge(\"A\", \"B\",5)\n",
        "add_edge(\"A\", \"C\",10)\n",
        "delete_edge(\"A\", \"C\")\n",
        "print(\"After adding nodes\")\n",
        "print(nodes)\n",
        "\n",
        "print_graph()"
      ],
      "metadata": {
        "colab": {
          "base_uri": "https://localhost:8080/"
        },
        "id": "k5RHp9OtKHBB",
        "outputId": "9c878b24-1821-4b24-e036-596fd6877056"
      },
      "execution_count": 17,
      "outputs": [
        {
          "output_type": "stream",
          "name": "stdout",
          "text": [
            "Before adding nodes\n",
            "[]\n",
            "[]\n",
            "A  is already present in the graph.\n",
            "After adding nodes\n",
            "['A', 'B', 'C']\n",
            "0   5   0   \n",
            "0   0   0   \n",
            "0   0   0   \n"
          ]
        }
      ]
    },
    {
      "cell_type": "code",
      "source": [
        "def add_node(v):\n",
        "  if v in graph:\n",
        "    print(v, \"is already present in graph\")\n",
        "  else:\n",
        "    graph[v] = []\n",
        "def delete_node(v):\n",
        "  if v not in graph:\n",
        "    print(v, \"is not present in the graph\")\n",
        "  else:\n",
        "    graph.pop(v)\n",
        "    for i in graph:\n",
        "      list1 = graph[i]\n",
        "      for j in list1:\n",
        "        if v == j[0]:\n",
        "          list1.remove(j)\n",
        "          break\n",
        "def delete_edge(v1, v2,cost):\n",
        "  if v1 not in graph:\n",
        "    print(v1, \"is not present in the graph\")\n",
        "  elif v2 not in graph:\n",
        "    print(v2, \"is not present in the graph\")\n",
        "  else:\n",
        "    temp = [v1,cost]\n",
        "    temp1 = [v2,cost]\n",
        "    if temp1 in graph[v1]:\n",
        "      graph[v1].remove(temp1)\n",
        "      graph[v2].remove(temp)\n",
        "\n",
        "def add_edge(v1, v2,cost):\n",
        "  if v1 not in graph:\n",
        "    print(v1, \"is not present in the graph\")\n",
        "  elif v2 not in graph:\n",
        "    print(v2, \"is not present in the graph\")\n",
        "  else:\n",
        "    list1 = [v2, cost]\n",
        "    list2 = [v1, cost]\n",
        "    graph[v1].append(list1)\n",
        "    graph[v2].append(list2)\n",
        "\n",
        "graph = {}\n",
        "add_node(\"A\")\n",
        "add_node(\"B\")\n",
        "add_node(\"C\")\n",
        "add_edge(\"A\", \"B\",10)\n",
        "add_edge(\"A\", \"C\",5)\n",
        "print(graph)\n",
        "delete_edge(\"A\", \"C\",5)\n",
        "print(graph)"
      ],
      "metadata": {
        "id": "aHpl9gEsk8ek",
        "colab": {
          "base_uri": "https://localhost:8080/"
        },
        "outputId": "6bf00127-146e-41b5-d3e7-5af9ddfbd991"
      },
      "execution_count": 25,
      "outputs": [
        {
          "output_type": "stream",
          "name": "stdout",
          "text": [
            "{'A': [['B', 10], ['C', 5]], 'B': [['A', 10]], 'C': [['A', 5]]}\n",
            "{'A': [['B', 10]], 'B': [['A', 10]], 'C': []}\n"
          ]
        }
      ]
    },
    {
      "cell_type": "code",
      "source": [
        ""
      ],
      "metadata": {
        "id": "j0AmnyDAlmLJ"
      },
      "execution_count": null,
      "outputs": []
    }
  ]
}