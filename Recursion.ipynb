{
  "nbformat": 4,
  "nbformat_minor": 0,
  "metadata": {
    "colab": {
      "name": "Recursion.ipynb",
      "provenance": [],
      "authorship_tag": "ABX9TyNj6xDGx5H3c6mVAxmOIdaz",
      "include_colab_link": true
    },
    "kernelspec": {
      "name": "python3",
      "display_name": "Python 3"
    },
    "language_info": {
      "name": "python"
    }
  },
  "cells": [
    {
      "cell_type": "markdown",
      "metadata": {
        "id": "view-in-github",
        "colab_type": "text"
      },
      "source": [
        "<a href=\"https://colab.research.google.com/github/ravi-kr/Universe/blob/main/Recursion.ipynb\" target=\"_parent\"><img src=\"https://colab.research.google.com/assets/colab-badge.svg\" alt=\"Open In Colab\"/></a>"
      ]
    },
    {
      "cell_type": "code",
      "execution_count": 6,
      "metadata": {
        "colab": {
          "base_uri": "https://localhost:8080/"
        },
        "id": "u24qiZ3BdaJp",
        "outputId": "be6b36c1-4902-4844-8e58-4519654fd3a1"
      },
      "outputs": [
        {
          "output_type": "execute_result",
          "data": {
            "text/plain": [
              "55"
            ]
          },
          "metadata": {},
          "execution_count": 6
        }
      ],
      "source": [
        "# Write a recursive function that takes a number and returns the sum of all the numbers from zero to that number.\n",
        "\n",
        "def cumulative(num):\n",
        "  if num in [0, 1]:\n",
        "    return num\n",
        "  else:\n",
        "    return num + cumulative(num -1 )\n",
        "\n",
        "cumulative(10)"
      ]
    },
    {
      "cell_type": "code",
      "source": [
        "# Write a recursive function that takes a number as an input and returns the factorial of that number.\n",
        "\n",
        "def factorial(n):\n",
        "  assert n >= 0 and int(n) == n, 'The number must be a positive integer only!'\n",
        "\n",
        "  if n in [0, 1]:\n",
        "    return 1\n",
        "  else:\n",
        "    return n * factorial(n - 1)\n",
        "\n",
        "factorial(5)"
      ],
      "metadata": {
        "colab": {
          "base_uri": "https://localhost:8080/"
        },
        "id": "-E-GnTU4doN-",
        "outputId": "eb08d7f6-cb4c-4b28-f7f4-bf0882f76a1d"
      },
      "execution_count": 8,
      "outputs": [
        {
          "output_type": "execute_result",
          "data": {
            "text/plain": [
              "120"
            ]
          },
          "metadata": {},
          "execution_count": 8
        }
      ]
    },
    {
      "cell_type": "code",
      "source": [
        "# Write a recursive function that takes a number ‘n’ and returns the nth number of the Fibonacci number.\n",
        "\n",
        "def fibonacci(n):\n",
        "  if n in [0, 1]:\n",
        "    return n\n",
        "\n",
        "  else:\n",
        "    return fibonacci(n - 1) + fibonacci(n - 2)\n",
        "\n",
        "fibonacci(6)"
      ],
      "metadata": {
        "colab": {
          "base_uri": "https://localhost:8080/"
        },
        "id": "Or2TlnqBfpUf",
        "outputId": "80f622f5-2c11-42c3-9c67-8f8a782bed6f"
      },
      "execution_count": 11,
      "outputs": [
        {
          "output_type": "execute_result",
          "data": {
            "text/plain": [
              "8"
            ]
          },
          "metadata": {},
          "execution_count": 11
        }
      ]
    },
    {
      "cell_type": "code",
      "source": [
        "# Write a recursive function that takes a list of numbers as an input and returns the product of all the numbers in the list.\n",
        "\n",
        "def productOfArray(arr):\n",
        "  if len(arr) == 0:\n",
        "    return 0\n",
        "  if len(arr) == 1:\n",
        "    return arr[0]\n",
        "  else:\n",
        "    return arr[len(arr) - 1] * productOfArray(arr[:len(arr) - 1])\n",
        "\n",
        "productOfArray([1,2,3,4,5])\n"
      ],
      "metadata": {
        "colab": {
          "base_uri": "https://localhost:8080/"
        },
        "id": "Y5i8vhSXgNuJ",
        "outputId": "acb10503-b792-4ecb-bf75-d9fbd7a1abb1"
      },
      "execution_count": 13,
      "outputs": [
        {
          "output_type": "execute_result",
          "data": {
            "text/plain": [
              "120"
            ]
          },
          "metadata": {},
          "execution_count": 13
        }
      ]
    },
    {
      "cell_type": "code",
      "source": [
        "# Write a function that takes a string and returns if the string is a palindrome.\n",
        "\n",
        "def isPalindrom(strng):\n",
        "  if len(strng) == 0:\n",
        "    return True\n",
        "  if strng[0] != strng[len(strng) - 1]:\n",
        "    return False\n",
        "  return isPalindrom(strng[1:-1])\n",
        "\n",
        "isPalindrom('madam')"
      ],
      "metadata": {
        "colab": {
          "base_uri": "https://localhost:8080/"
        },
        "id": "y68ZF8fdhB9P",
        "outputId": "b727f018-c992-4abb-adf5-1d15241977bd"
      },
      "execution_count": 17,
      "outputs": [
        {
          "output_type": "execute_result",
          "data": {
            "text/plain": [
              "True"
            ]
          },
          "metadata": {},
          "execution_count": 17
        }
      ]
    },
    {
      "cell_type": "code",
      "source": [
        "# Write a recursive function that takes a string and reverse the string.\n",
        "\n",
        "def reverse(st):\n",
        "  if len(st) in [0, 1]:\n",
        "    return st\n",
        "  else:\n",
        "    return st[len(st) - 1] + reverse(st[:len(st) - 1])\n",
        "\n",
        "reverse('amazing')"
      ],
      "metadata": {
        "colab": {
          "base_uri": "https://localhost:8080/",
          "height": 35
        },
        "id": "NlWwDc7eh0hD",
        "outputId": "b7467b00-e447-4570-df75-caea14a8fa09"
      },
      "execution_count": 18,
      "outputs": [
        {
          "output_type": "execute_result",
          "data": {
            "text/plain": [
              "'gnizama'"
            ],
            "application/vnd.google.colaboratory.intrinsic+json": {
              "type": "string"
            }
          },
          "metadata": {},
          "execution_count": 18
        }
      ]
    },
    {
      "cell_type": "code",
      "source": [
        "# Write a recursive function that takes an array that may contain more arrays in it and returns an array with all values flattened.\n",
        "\n",
        "def flatten(arr):\n",
        "  res = []\n",
        "  for i in arr:\n",
        "    if type(i) is list:\n",
        "      res.extend(flatten(i))\n",
        "    else:\n",
        "      res.append(i)\n",
        "  return res\n",
        "\n",
        "flatten([[1], [2, 3], [4], [3, [2, 4]]])"
      ],
      "metadata": {
        "colab": {
          "base_uri": "https://localhost:8080/"
        },
        "id": "1La-1xBTi59Z",
        "outputId": "668c62bf-e498-4766-dbb2-4a6dc019aa3a"
      },
      "execution_count": 20,
      "outputs": [
        {
          "output_type": "execute_result",
          "data": {
            "text/plain": [
              "[1, 2, 3, 4, 3, 2, 4]"
            ]
          },
          "metadata": {},
          "execution_count": 20
        }
      ]
    },
    {
      "cell_type": "code",
      "source": [
        "# Write a recursive function that takes an array of words and returns an array that contains all the words capitalized.\n",
        "\n",
        "def capitalizeWords(arr):\n",
        "  if len(arr) == 0:\n",
        "    return []\n",
        "  else:\n",
        "    return [arr[0].upper()] + capitalizeWords(arr[1:])\n",
        "\n",
        "capitalizeWords(['foo', 'bar', 'world', 'hello'])"
      ],
      "metadata": {
        "colab": {
          "base_uri": "https://localhost:8080/"
        },
        "id": "SJDV-wmkjnJr",
        "outputId": "1df2b914-2adf-4c80-aa06-14f9f4d5a35b"
      },
      "execution_count": 21,
      "outputs": [
        {
          "output_type": "execute_result",
          "data": {
            "text/plain": [
              "['FOO', 'BAR', 'WORLD', 'HELLO']"
            ]
          },
          "metadata": {},
          "execution_count": 21
        }
      ]
    },
    {
      "cell_type": "code",
      "source": [
        "# Write a recursive function that takes an array and a callback function and returns True if any value of that array returns True from that callback function otherwise returns False.\n",
        "\n",
        "def isEven(num):\n",
        "  if num % 2 == 0:\n",
        "    return True\n",
        "  else:\n",
        "    return False\n",
        "\n",
        "def anyEven(arr, cb):\n",
        "  if len(arr) == 0:\n",
        "    return False\n",
        "  if cb(arr[0]):\n",
        "    return True\n",
        "  return anyEven(arr[1:], cb)\n",
        "\n",
        "anyEven([1, 2, 3, 5], isEven)"
      ],
      "metadata": {
        "colab": {
          "base_uri": "https://localhost:8080/"
        },
        "id": "fSWBeA5AkNxd",
        "outputId": "4f917728-a66f-490d-d2f0-6b13de4d0faa"
      },
      "execution_count": 23,
      "outputs": [
        {
          "output_type": "execute_result",
          "data": {
            "text/plain": [
              "True"
            ]
          },
          "metadata": {},
          "execution_count": 23
        }
      ]
    },
    {
      "cell_type": "code",
      "source": [
        "# Write a recursive function that will return the sum of all the positive even numbers in a dictionary which may contain more dictionaries nested in it.\n",
        "\n",
        "obj = {\n",
        "  \"a\": 2,\n",
        "  \"b\": {\"x\": 2, \"y\": {\"foo\": 3, \"z\": {\"bar\": 2}}},\n",
        "  \"c\": {\"p\": {\"h\": 2, \"r\": 5}, \"q\": 'ball', \"r\": 5},\n",
        "  \"d\": 1,\n",
        "  \"e\": {\"nn\": {\"lil\": 2}, \"mm\": 'car'}}\n",
        "\n",
        "def evenSum(obj, sum = 0):\n",
        "  for k in obj.values():\n",
        "    if type(k) == int and k%2 == 0:\n",
        "      sum += k\n",
        "    elif isinstance(k, dict):\n",
        "      sum += evenSum(k, sum = 0)\n",
        "  return sum\n",
        "\n",
        "evenSum(obj)"
      ],
      "metadata": {
        "colab": {
          "base_uri": "https://localhost:8080/"
        },
        "id": "NrQTAQB2keoU",
        "outputId": "3144119c-af3b-4f87-cd06-65670655fd14"
      },
      "execution_count": 27,
      "outputs": [
        {
          "output_type": "execute_result",
          "data": {
            "text/plain": [
              "10"
            ]
          },
          "metadata": {},
          "execution_count": 27
        }
      ]
    },
    {
      "cell_type": "code",
      "source": [
        ""
      ],
      "metadata": {
        "id": "bHYXNmbnln5N"
      },
      "execution_count": null,
      "outputs": []
    }
  ]
}