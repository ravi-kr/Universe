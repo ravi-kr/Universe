{
  "nbformat": 4,
  "nbformat_minor": 0,
  "metadata": {
    "colab": {
      "name": "D3_Binary_Search_Tree.ipynb",
      "provenance": [],
      "authorship_tag": "ABX9TyO8U7IIw4DIcSvBlKhOU+7H",
      "include_colab_link": true
    },
    "kernelspec": {
      "name": "python3",
      "display_name": "Python 3"
    },
    "language_info": {
      "name": "python"
    }
  },
  "cells": [
    {
      "cell_type": "markdown",
      "metadata": {
        "id": "view-in-github",
        "colab_type": "text"
      },
      "source": [
        "<a href=\"https://colab.research.google.com/github/ravi-kr/Universe/blob/main/D3_Binary_Search_Tree.ipynb\" target=\"_parent\"><img src=\"https://colab.research.google.com/assets/colab-badge.svg\" alt=\"Open In Colab\"/></a>"
      ]
    },
    {
      "cell_type": "code",
      "execution_count": 132,
      "metadata": {
        "colab": {
          "base_uri": "https://localhost:8080/"
        },
        "id": "59YS9L_6tEbU",
        "outputId": "977a7fa1-11a2-4032-a65b-3a4633868352"
      },
      "outputs": [
        {
          "output_type": "stream",
          "name": "stdout",
          "text": [
            "<__main__.User object at 0x7f4a082d5d50>\n",
            "<class '__main__.User'>\n"
          ]
        }
      ],
      "source": [
        "class User:\n",
        "    pass\n",
        "\n",
        "user1 = User()\n",
        "print(user1)\n",
        "print(type(user1))"
      ]
    },
    {
      "cell_type": "code",
      "source": [
        "class User:\n",
        "  def __init__(self, username, name, email):\n",
        "    self.username = username\n",
        "    self.name = name\n",
        "    self.email = email\n",
        "    print('User Created!')"
      ],
      "metadata": {
        "id": "z5dv4ne6tL9z"
      },
      "execution_count": 133,
      "outputs": []
    },
    {
      "cell_type": "code",
      "source": [
        "user2 = User('john', 'John Doe', 'john@doe.com')"
      ],
      "metadata": {
        "colab": {
          "base_uri": "https://localhost:8080/"
        },
        "id": "D8f9sdD2tdGT",
        "outputId": "dc856d3e-3375-4f12-e84d-32ac3940861b"
      },
      "execution_count": 134,
      "outputs": [
        {
          "output_type": "stream",
          "name": "stdout",
          "text": [
            "User Created!\n"
          ]
        }
      ]
    },
    {
      "cell_type": "code",
      "source": [
        "user2"
      ],
      "metadata": {
        "colab": {
          "base_uri": "https://localhost:8080/"
        },
        "id": "qG1Pn4mZtmie",
        "outputId": "4476b595-5680-4747-dedd-3dde21cac6ed"
      },
      "execution_count": 135,
      "outputs": [
        {
          "output_type": "execute_result",
          "data": {
            "text/plain": [
              "<__main__.User at 0x7f4a0826d4d0>"
            ]
          },
          "metadata": {},
          "execution_count": 135
        }
      ]
    },
    {
      "cell_type": "code",
      "source": [
        "user2.name"
      ],
      "metadata": {
        "colab": {
          "base_uri": "https://localhost:8080/",
          "height": 35
        },
        "id": "rm7NjMZLtojk",
        "outputId": "d766890a-dcb5-428f-8626-bcfb332556b8"
      },
      "execution_count": 136,
      "outputs": [
        {
          "output_type": "execute_result",
          "data": {
            "text/plain": [
              "'John Doe'"
            ],
            "application/vnd.google.colaboratory.intrinsic+json": {
              "type": "string"
            }
          },
          "metadata": {},
          "execution_count": 136
        }
      ]
    },
    {
      "cell_type": "code",
      "source": [
        "user2.email, user2.username"
      ],
      "metadata": {
        "colab": {
          "base_uri": "https://localhost:8080/"
        },
        "id": "WWbQFjxwty-N",
        "outputId": "5f072dc5-29fa-4a9f-a97e-3c5dc6446090"
      },
      "execution_count": 137,
      "outputs": [
        {
          "output_type": "execute_result",
          "data": {
            "text/plain": [
              "('john@doe.com', 'john')"
            ]
          },
          "metadata": {},
          "execution_count": 137
        }
      ]
    },
    {
      "cell_type": "code",
      "source": [
        "class User:\n",
        "  def __init__(self, username, name, email):\n",
        "    self.username = username\n",
        "    self.name = name\n",
        "    self.email = email\n",
        "\n",
        "  def introduce_yourself(self, guest_name):\n",
        "    print(\"Hi {}, I'm {}! Contact me at {} .\".format(guest_name, self.name, self.email))"
      ],
      "metadata": {
        "id": "aGQXdhEjt2W7"
      },
      "execution_count": 138,
      "outputs": []
    },
    {
      "cell_type": "code",
      "source": [
        "user3 = User('jane', 'Jane Doe', 'jane@doe.com')"
      ],
      "metadata": {
        "id": "ksC9UIQEuUO3"
      },
      "execution_count": 139,
      "outputs": []
    },
    {
      "cell_type": "code",
      "source": [
        "user3.introduce_yourself('David')"
      ],
      "metadata": {
        "colab": {
          "base_uri": "https://localhost:8080/"
        },
        "id": "F66sLl1huqME",
        "outputId": "5ec89443-9e67-4e1f-a750-21db438f1ad0"
      },
      "execution_count": 140,
      "outputs": [
        {
          "output_type": "stream",
          "name": "stdout",
          "text": [
            "Hi David, I'm Jane Doe! Contact me at jane@doe.com .\n"
          ]
        }
      ]
    },
    {
      "cell_type": "code",
      "source": [
        "User.introduce_yourself(user3, 'David')"
      ],
      "metadata": {
        "colab": {
          "base_uri": "https://localhost:8080/"
        },
        "id": "ajEJLVuauudH",
        "outputId": "3b3f43e1-18ce-4a74-faf5-8dfeee3dd34d"
      },
      "execution_count": 141,
      "outputs": [
        {
          "output_type": "stream",
          "name": "stdout",
          "text": [
            "Hi David, I'm Jane Doe! Contact me at jane@doe.com .\n"
          ]
        }
      ]
    },
    {
      "cell_type": "code",
      "source": [
        "class User:\n",
        "  def __init__(self, username, name, email):\n",
        "    self.username = username\n",
        "    self.name = name\n",
        "    self.email = email\n",
        "\n",
        "  def __repr__(self):\n",
        "    return \"User(username='{}', name='{}', email='{})'\".format(self.username, self.name, self.email)\n",
        "\n",
        "  def __str__(self):\n",
        "    return self.__repr__()"
      ],
      "metadata": {
        "id": "XlnpWbELvSBx"
      },
      "execution_count": 142,
      "outputs": []
    },
    {
      "cell_type": "code",
      "source": [
        "user4 = User('jane', 'Jane Doe', 'jane@doe.com')"
      ],
      "metadata": {
        "id": "EDxnNEb1v3Qh"
      },
      "execution_count": 143,
      "outputs": []
    },
    {
      "cell_type": "code",
      "source": [
        "user4"
      ],
      "metadata": {
        "colab": {
          "base_uri": "https://localhost:8080/"
        },
        "id": "PN1URKexv9GI",
        "outputId": "ffefa701-b4f8-4746-ea46-2b74acabf395"
      },
      "execution_count": 144,
      "outputs": [
        {
          "output_type": "execute_result",
          "data": {
            "text/plain": [
              "User(username='jane', name='Jane Doe', email='jane@doe.com)'"
            ]
          },
          "metadata": {},
          "execution_count": 144
        }
      ]
    },
    {
      "cell_type": "code",
      "source": [
        "class UserDatabase:\n",
        "  def insert(self, user):\n",
        "    pass\n",
        "\n",
        "  def find(self, username):\n",
        "    pass\n",
        "\n",
        "  def update(self, user):\n",
        "    pass\n",
        "\n",
        "  def list_all(self):\n",
        "    pass"
      ],
      "metadata": {
        "id": "P8rUN16Qv-Re"
      },
      "execution_count": 145,
      "outputs": []
    },
    {
      "cell_type": "code",
      "source": [
        "aakash = User('aakash', 'Aakash Rai', 'aakash@example.com')\n",
        "biraj = User('biraj', 'Biraj Das', 'biraj@example.com')\n",
        "hemanth = User('hemanth', 'Hemanth Jain', 'hemanth@example.com')\n",
        "jadhesh = User('jadhesh', 'Jadhesh Verma', 'jadhesh@example.com')\n",
        "siddhant = User('siddhant', 'Siddhant Sinha', 'siddhant@example.com')\n",
        "sonaksh = User('sonaksh', 'Sonaksh Kumar', 'sonaksh@example.com')\n",
        "vishal = User('vishal', 'Vishal Goel', 'vishal@example.com')"
      ],
      "metadata": {
        "id": "PxpZeMejwe_x"
      },
      "execution_count": 146,
      "outputs": []
    },
    {
      "cell_type": "code",
      "source": [
        "users = [aakash, biraj, hemanth, jadhesh, siddhant, sonaksh, vishal]"
      ],
      "metadata": {
        "id": "Ea4LP7a2wlLL"
      },
      "execution_count": 147,
      "outputs": []
    },
    {
      "cell_type": "code",
      "source": [
        "biraj.username, biraj.email, biraj.name"
      ],
      "metadata": {
        "colab": {
          "base_uri": "https://localhost:8080/"
        },
        "id": "4S0gDFy7wnb5",
        "outputId": "3df6414d-570f-4d2b-be8c-b3557554cf11"
      },
      "execution_count": 148,
      "outputs": [
        {
          "output_type": "execute_result",
          "data": {
            "text/plain": [
              "('biraj', 'biraj@example.com', 'Biraj Das')"
            ]
          },
          "metadata": {},
          "execution_count": 148
        }
      ]
    },
    {
      "cell_type": "code",
      "source": [
        "print(aakash)"
      ],
      "metadata": {
        "colab": {
          "base_uri": "https://localhost:8080/"
        },
        "id": "4aqaZ-ltwxXS",
        "outputId": "5f491723-58a2-48bf-f6f4-141ed5ccafe3"
      },
      "execution_count": 149,
      "outputs": [
        {
          "output_type": "stream",
          "name": "stdout",
          "text": [
            "User(username='aakash', name='Aakash Rai', email='aakash@example.com)'\n"
          ]
        }
      ]
    },
    {
      "cell_type": "code",
      "source": [
        "users"
      ],
      "metadata": {
        "colab": {
          "base_uri": "https://localhost:8080/"
        },
        "id": "JcZ9S0unw1eV",
        "outputId": "cf7ba5ff-c27c-474a-ae10-6f9d386752d8"
      },
      "execution_count": 150,
      "outputs": [
        {
          "output_type": "execute_result",
          "data": {
            "text/plain": [
              "[User(username='aakash', name='Aakash Rai', email='aakash@example.com)',\n",
              " User(username='biraj', name='Biraj Das', email='biraj@example.com)',\n",
              " User(username='hemanth', name='Hemanth Jain', email='hemanth@example.com)',\n",
              " User(username='jadhesh', name='Jadhesh Verma', email='jadhesh@example.com)',\n",
              " User(username='siddhant', name='Siddhant Sinha', email='siddhant@example.com)',\n",
              " User(username='sonaksh', name='Sonaksh Kumar', email='sonaksh@example.com)',\n",
              " User(username='vishal', name='Vishal Goel', email='vishal@example.com)']"
            ]
          },
          "metadata": {},
          "execution_count": 150
        }
      ]
    },
    {
      "cell_type": "code",
      "source": [
        "'biraj' < 'hemanth'"
      ],
      "metadata": {
        "colab": {
          "base_uri": "https://localhost:8080/"
        },
        "id": "XiwrL1law2-r",
        "outputId": "c64e25c7-cf47-4a2d-85b9-142a61709d2c"
      },
      "execution_count": 151,
      "outputs": [
        {
          "output_type": "execute_result",
          "data": {
            "text/plain": [
              "True"
            ]
          },
          "metadata": {},
          "execution_count": 151
        }
      ]
    },
    {
      "cell_type": "code",
      "source": [
        "class UserDatabase:\n",
        "  def __init__(self):\n",
        "    self.users = []\n",
        "\n",
        "  def insert(self, user):\n",
        "    i = 0\n",
        "    while i < len(self.users):\n",
        "      if self.users[i].username > user.username:\n",
        "        break\n",
        "      i += 1\n",
        "    self.users.insert(i, user)\n",
        "\n",
        "  def find(self, username):\n",
        "    for user in self.users:\n",
        "      if user.username == username:\n",
        "        return user\n",
        "\n",
        "  def update(self, user):\n",
        "    target = self.find(user.username)\n",
        "    target.name, target.email = user.name, user.email\n",
        "\n",
        "  def list_all(self):\n",
        "    return self.users"
      ],
      "metadata": {
        "id": "PCNf0cWHxNU9"
      },
      "execution_count": 152,
      "outputs": []
    },
    {
      "cell_type": "code",
      "source": [
        "database = UserDatabase()"
      ],
      "metadata": {
        "id": "d9Lex-zLy7ut"
      },
      "execution_count": 153,
      "outputs": []
    },
    {
      "cell_type": "code",
      "source": [
        "database.insert(hemanth)\n",
        "database.insert(aakash)\n",
        "database.insert(siddhant)"
      ],
      "metadata": {
        "id": "ULteGDodzH9D"
      },
      "execution_count": 154,
      "outputs": []
    },
    {
      "cell_type": "code",
      "source": [
        "user = database.find('siddhant')\n",
        "user"
      ],
      "metadata": {
        "colab": {
          "base_uri": "https://localhost:8080/"
        },
        "id": "g_qFBPBjzP43",
        "outputId": "c81307b8-2e5c-4f29-e272-89fcd474221a"
      },
      "execution_count": 155,
      "outputs": [
        {
          "output_type": "execute_result",
          "data": {
            "text/plain": [
              "User(username='siddhant', name='Siddhant Sinha', email='siddhant@example.com)'"
            ]
          },
          "metadata": {},
          "execution_count": 155
        }
      ]
    },
    {
      "cell_type": "code",
      "source": [
        "user"
      ],
      "metadata": {
        "colab": {
          "base_uri": "https://localhost:8080/"
        },
        "id": "lNWZAKMgzWBs",
        "outputId": "c0637c29-86d9-4a21-a992-f21451330649"
      },
      "execution_count": 156,
      "outputs": [
        {
          "output_type": "execute_result",
          "data": {
            "text/plain": [
              "User(username='siddhant', name='Siddhant Sinha', email='siddhant@example.com)'"
            ]
          },
          "metadata": {},
          "execution_count": 156
        }
      ]
    },
    {
      "cell_type": "code",
      "source": [
        "print(user)"
      ],
      "metadata": {
        "colab": {
          "base_uri": "https://localhost:8080/"
        },
        "id": "V5qJx4PJzb4a",
        "outputId": "0e021054-6063-4e42-a0d6-951f9cd823cd"
      },
      "execution_count": 157,
      "outputs": [
        {
          "output_type": "stream",
          "name": "stdout",
          "text": [
            "User(username='siddhant', name='Siddhant Sinha', email='siddhant@example.com)'\n"
          ]
        }
      ]
    },
    {
      "cell_type": "code",
      "source": [
        "database.list_all()"
      ],
      "metadata": {
        "colab": {
          "base_uri": "https://localhost:8080/"
        },
        "id": "IYxJxd-XzluU",
        "outputId": "6623dbe3-c33d-4ec3-aff5-c4919f86497b"
      },
      "execution_count": 158,
      "outputs": [
        {
          "output_type": "execute_result",
          "data": {
            "text/plain": [
              "[User(username='aakash', name='Aakash Rai', email='aakash@example.com)',\n",
              " User(username='hemanth', name='Hemanth Jain', email='hemanth@example.com)',\n",
              " User(username='siddhant', name='Siddhant Sinha', email='siddhant@example.com)']"
            ]
          },
          "metadata": {},
          "execution_count": 158
        }
      ]
    },
    {
      "cell_type": "code",
      "source": [
        "database.insert(biraj)"
      ],
      "metadata": {
        "id": "Dukh7GEv3tQ9"
      },
      "execution_count": 159,
      "outputs": []
    },
    {
      "cell_type": "code",
      "source": [
        "database.list_all()"
      ],
      "metadata": {
        "colab": {
          "base_uri": "https://localhost:8080/"
        },
        "id": "7D-mXCV63ybp",
        "outputId": "a8b868c8-bd15-473a-f3b8-6b6d530ce0cc"
      },
      "execution_count": 160,
      "outputs": [
        {
          "output_type": "execute_result",
          "data": {
            "text/plain": [
              "[User(username='aakash', name='Aakash Rai', email='aakash@example.com)',\n",
              " User(username='biraj', name='Biraj Das', email='biraj@example.com)',\n",
              " User(username='hemanth', name='Hemanth Jain', email='hemanth@example.com)',\n",
              " User(username='siddhant', name='Siddhant Sinha', email='siddhant@example.com)']"
            ]
          },
          "metadata": {},
          "execution_count": 160
        }
      ]
    },
    {
      "cell_type": "code",
      "source": [
        "%%time\n",
        "for i in range(100000000):\n",
        "  j = i*i"
      ],
      "metadata": {
        "colab": {
          "base_uri": "https://localhost:8080/"
        },
        "id": "x8Z8CNSL30Fg",
        "outputId": "f01291a7-ace0-41f3-fbbe-53f82dc8b8e2"
      },
      "execution_count": 161,
      "outputs": [
        {
          "output_type": "stream",
          "name": "stdout",
          "text": [
            "CPU times: user 13.3 s, sys: 11.2 ms, total: 13.3 s\n",
            "Wall time: 13.4 s\n"
          ]
        }
      ]
    },
    {
      "cell_type": "code",
      "source": [
        "class TreeNode:\n",
        "  def __init__(self, key):\n",
        "    self.key = key\n",
        "    self.left = None\n",
        "    self.right = None\n"
      ],
      "metadata": {
        "id": "VGi88F7E4JPH"
      },
      "execution_count": 162,
      "outputs": []
    },
    {
      "cell_type": "code",
      "source": [
        "node0 = TreeNode(3)\n",
        "node1 = TreeNode(4)\n",
        "node2 = TreeNode(5)"
      ],
      "metadata": {
        "id": "CzikJKGIWppp"
      },
      "execution_count": 163,
      "outputs": []
    },
    {
      "cell_type": "code",
      "source": [
        "node0"
      ],
      "metadata": {
        "colab": {
          "base_uri": "https://localhost:8080/"
        },
        "id": "l2bQUX3MW0FY",
        "outputId": "3ffbf322-3c77-4b04-9a4c-ab990a6c59ee"
      },
      "execution_count": 164,
      "outputs": [
        {
          "output_type": "execute_result",
          "data": {
            "text/plain": [
              "<__main__.TreeNode at 0x7f4a0828ded0>"
            ]
          },
          "metadata": {},
          "execution_count": 164
        }
      ]
    },
    {
      "cell_type": "code",
      "source": [
        "node0.key"
      ],
      "metadata": {
        "colab": {
          "base_uri": "https://localhost:8080/"
        },
        "id": "XEBxBtQRW6h5",
        "outputId": "5d7f9aa6-7f3d-45e3-c500-87af0c9923d1"
      },
      "execution_count": 165,
      "outputs": [
        {
          "output_type": "execute_result",
          "data": {
            "text/plain": [
              "3"
            ]
          },
          "metadata": {},
          "execution_count": 165
        }
      ]
    },
    {
      "cell_type": "code",
      "source": [
        "node0.left = node1\n",
        "node0.right = node2"
      ],
      "metadata": {
        "id": "SUQfOmzGW8YE"
      },
      "execution_count": 166,
      "outputs": []
    },
    {
      "cell_type": "code",
      "source": [
        "tree = node0"
      ],
      "metadata": {
        "id": "MH_hUt4sXDcw"
      },
      "execution_count": 167,
      "outputs": []
    },
    {
      "cell_type": "code",
      "source": [
        "tree.key"
      ],
      "metadata": {
        "colab": {
          "base_uri": "https://localhost:8080/"
        },
        "id": "yy2pMwGTXGK_",
        "outputId": "cd5e553f-1944-41c5-f411-491f00aee82f"
      },
      "execution_count": 168,
      "outputs": [
        {
          "output_type": "execute_result",
          "data": {
            "text/plain": [
              "3"
            ]
          },
          "metadata": {},
          "execution_count": 168
        }
      ]
    },
    {
      "cell_type": "code",
      "source": [
        "tree.left.key"
      ],
      "metadata": {
        "colab": {
          "base_uri": "https://localhost:8080/"
        },
        "id": "wkR7dMgtXH5I",
        "outputId": "322b26ad-154c-4eac-b990-ba4b01076da0"
      },
      "execution_count": 169,
      "outputs": [
        {
          "output_type": "execute_result",
          "data": {
            "text/plain": [
              "4"
            ]
          },
          "metadata": {},
          "execution_count": 169
        }
      ]
    },
    {
      "cell_type": "code",
      "source": [
        "tree.right.key"
      ],
      "metadata": {
        "colab": {
          "base_uri": "https://localhost:8080/"
        },
        "id": "D0NMAEn0XI_O",
        "outputId": "87856009-c0d1-4480-a505-0efa75c14f50"
      },
      "execution_count": 170,
      "outputs": [
        {
          "output_type": "execute_result",
          "data": {
            "text/plain": [
              "5"
            ]
          },
          "metadata": {},
          "execution_count": 170
        }
      ]
    },
    {
      "cell_type": "code",
      "source": [
        "tree_tuple = ((1, 3, None), 2, ((None, 3, 4), 5, (6, 7, 8)))"
      ],
      "metadata": {
        "id": "-3vJOjb-XKLu"
      },
      "execution_count": 171,
      "outputs": []
    },
    {
      "cell_type": "code",
      "source": [
        "def parse_tuple(data):\n",
        "  if isinstance(data, tuple) and len(data) == 3:\n",
        "    node = TreeNode(data[1])\n",
        "    node.left = parse_tuple(data[0])\n",
        "    node.right = parse_tuple(data[2])\n",
        "  elif data is None:\n",
        "    node = None\n",
        "  else:\n",
        "    node = TreeNode(data)\n",
        "  return node"
      ],
      "metadata": {
        "id": "Fywn9y726JKY"
      },
      "execution_count": 172,
      "outputs": []
    },
    {
      "cell_type": "code",
      "source": [
        "tree2 = parse_tuple(tree_tuple)"
      ],
      "metadata": {
        "id": "E2D-lvTI65DF"
      },
      "execution_count": 173,
      "outputs": []
    },
    {
      "cell_type": "code",
      "source": [
        "tree2.key"
      ],
      "metadata": {
        "colab": {
          "base_uri": "https://localhost:8080/"
        },
        "id": "PXml35Q07IKl",
        "outputId": "ee6d7e36-02fa-49a0-faba-5f9b590a5b6f"
      },
      "execution_count": 174,
      "outputs": [
        {
          "output_type": "execute_result",
          "data": {
            "text/plain": [
              "2"
            ]
          },
          "metadata": {},
          "execution_count": 174
        }
      ]
    },
    {
      "cell_type": "code",
      "source": [
        "tree2.left.key, tree2.right.key"
      ],
      "metadata": {
        "colab": {
          "base_uri": "https://localhost:8080/"
        },
        "id": "DY01gDKr7QYl",
        "outputId": "29895e5c-7cbd-42ea-d35c-0f72f65c1b4a"
      },
      "execution_count": 175,
      "outputs": [
        {
          "output_type": "execute_result",
          "data": {
            "text/plain": [
              "(3, 5)"
            ]
          },
          "metadata": {},
          "execution_count": 175
        }
      ]
    },
    {
      "cell_type": "code",
      "source": [
        "tree2.left.left.key, tree2.left.right, tree2.right.left.key, tree2.right.right.key"
      ],
      "metadata": {
        "colab": {
          "base_uri": "https://localhost:8080/"
        },
        "id": "0OUAgiFi7UBg",
        "outputId": "12654910-cdd7-44f0-ca43-0a8f96b6eb73"
      },
      "execution_count": 176,
      "outputs": [
        {
          "output_type": "execute_result",
          "data": {
            "text/plain": [
              "(1, None, 3, 7)"
            ]
          },
          "metadata": {},
          "execution_count": 176
        }
      ]
    },
    {
      "cell_type": "code",
      "source": [
        "tree2.right.left.right.key, tree2.right.right.left.key, tree2.right.right.right.key"
      ],
      "metadata": {
        "colab": {
          "base_uri": "https://localhost:8080/"
        },
        "id": "Ht3SdUU07in7",
        "outputId": "a97b9c4e-5d47-4989-cd96-d94581aebe2f"
      },
      "execution_count": 177,
      "outputs": [
        {
          "output_type": "execute_result",
          "data": {
            "text/plain": [
              "(4, 6, 8)"
            ]
          },
          "metadata": {},
          "execution_count": 177
        }
      ]
    },
    {
      "cell_type": "code",
      "source": [
        "def tree_to_tuple(node):\n",
        "  pass"
      ],
      "metadata": {
        "id": "HY3_BvdA8Kz5"
      },
      "execution_count": 178,
      "outputs": []
    },
    {
      "cell_type": "code",
      "source": [
        "def display_keys(node, space = '\\t', level = 0):\n",
        "\n",
        "  if node is None:\n",
        "    print((space*level + '∅'))\n",
        "    return\n",
        "\n",
        "  if node.left is None and node.right is None:\n",
        "    print(space*level + str(node.key))\n",
        "    return\n",
        "\n",
        "  display_keys(node.right, space, level+1)\n",
        "  print(space*level + str(node.key))\n",
        "  display_keys(node.left, space, level+1)"
      ],
      "metadata": {
        "id": "KlrQgb8aHC9f"
      },
      "execution_count": 179,
      "outputs": []
    },
    {
      "cell_type": "code",
      "source": [
        "display_keys(tree2)"
      ],
      "metadata": {
        "colab": {
          "base_uri": "https://localhost:8080/"
        },
        "id": "URdSnijlHriU",
        "outputId": "7e1d942d-3e1b-4987-bd47-6e0662d21066"
      },
      "execution_count": 180,
      "outputs": [
        {
          "output_type": "stream",
          "name": "stdout",
          "text": [
            "\t\t\t8\n",
            "\t\t7\n",
            "\t\t\t6\n",
            "\t5\n",
            "\t\t\t4\n",
            "\t\t3\n",
            "\t\t\t∅\n",
            "2\n",
            "\t\t∅\n",
            "\t3\n",
            "\t\t1\n"
          ]
        }
      ]
    },
    {
      "cell_type": "code",
      "source": [
        "def traverse_in_order(node):\n",
        "  if node is None:\n",
        "    return []\n",
        "  return traverse_in_order(node.left) + [node.key] + traverse_in_order(node.right)"
      ],
      "metadata": {
        "id": "D0NGxYVxH5Wz"
      },
      "execution_count": 181,
      "outputs": []
    },
    {
      "cell_type": "code",
      "source": [
        "tree = parse_tuple(((1, 3, None), 2, ((None, 3, 4), 5, (6, 7, 8))))"
      ],
      "metadata": {
        "id": "VgBo_JEsVJkS"
      },
      "execution_count": 182,
      "outputs": []
    },
    {
      "cell_type": "code",
      "source": [
        "display_keys(tree)"
      ],
      "metadata": {
        "colab": {
          "base_uri": "https://localhost:8080/"
        },
        "id": "yqL3twDFVWpw",
        "outputId": "e7aa4c78-a4ed-4155-941f-8b1b0abf98c8"
      },
      "execution_count": 183,
      "outputs": [
        {
          "output_type": "stream",
          "name": "stdout",
          "text": [
            "\t\t\t8\n",
            "\t\t7\n",
            "\t\t\t6\n",
            "\t5\n",
            "\t\t\t4\n",
            "\t\t3\n",
            "\t\t\t∅\n",
            "2\n",
            "\t\t∅\n",
            "\t3\n",
            "\t\t1\n"
          ]
        }
      ]
    },
    {
      "cell_type": "code",
      "source": [
        "traverse_in_order(tree)"
      ],
      "metadata": {
        "colab": {
          "base_uri": "https://localhost:8080/"
        },
        "id": "QvNWdO3HVcNG",
        "outputId": "d43d73f7-964e-4e95-d207-2465735466d4"
      },
      "execution_count": 184,
      "outputs": [
        {
          "output_type": "execute_result",
          "data": {
            "text/plain": [
              "[1, 3, 2, 3, 4, 5, 6, 7, 8]"
            ]
          },
          "metadata": {},
          "execution_count": 184
        }
      ]
    },
    {
      "cell_type": "code",
      "source": [
        "def tree_height(node):\n",
        "  if node is None:\n",
        "    return 0\n",
        "  return 1 + max(tree_height(node.left), tree_height(node.right))"
      ],
      "metadata": {
        "id": "ElDHYY4fVoHM"
      },
      "execution_count": 185,
      "outputs": []
    },
    {
      "cell_type": "code",
      "source": [
        "tree_height(tree)"
      ],
      "metadata": {
        "colab": {
          "base_uri": "https://localhost:8080/"
        },
        "id": "efInx1dcV9wV",
        "outputId": "b374c9cf-00a4-4533-abda-b9748595053f"
      },
      "execution_count": 186,
      "outputs": [
        {
          "output_type": "execute_result",
          "data": {
            "text/plain": [
              "4"
            ]
          },
          "metadata": {},
          "execution_count": 186
        }
      ]
    },
    {
      "cell_type": "code",
      "source": [
        "def tree_size(node):\n",
        "  if node is None:\n",
        "    return 0\n",
        "  return 1 + tree_size(node.left) + tree_size(node.right)"
      ],
      "metadata": {
        "id": "_v3dbFxkWABz"
      },
      "execution_count": 187,
      "outputs": []
    },
    {
      "cell_type": "code",
      "source": [
        "tree_size(tree)"
      ],
      "metadata": {
        "colab": {
          "base_uri": "https://localhost:8080/"
        },
        "id": "hmTwwPoPWKpj",
        "outputId": "c6e21fa7-2b3c-4688-dec0-e7299f44ee0e"
      },
      "execution_count": 188,
      "outputs": [
        {
          "output_type": "execute_result",
          "data": {
            "text/plain": [
              "9"
            ]
          },
          "metadata": {},
          "execution_count": 188
        }
      ]
    },
    {
      "cell_type": "code",
      "source": [
        "class TreeNode():\n",
        "  def __init__(self, key):\n",
        "    self.key, self.left, self.right = key, None, None\n",
        "\n",
        "  def height(self):\n",
        "    if self is None:\n",
        "      return 0\n",
        "    return 1 + max(TreeNode.height(self.left), TreeNode.height(self.right))\n",
        "\n",
        "  def size(self):\n",
        "    if self is None:\n",
        "      return 0\n",
        "    return 1 + TreeNode.size(self.left) + TreeNode.size(self.right)\n",
        "\n",
        "  def traverse_in_order(self):\n",
        "    if self is None:\n",
        "      return []\n",
        "    return (TreeNode.traverse_in_order(self.left) + [self.key] + TreeNode.traverse_in_order(self.right))\n",
        "\n",
        "  def display_keys(self, space = '\\t', level = 0):\n",
        "    if self is None:\n",
        "      print(space*level + '∅')\n",
        "      return\n",
        "\n",
        "    if self.left is None and self.right is None:\n",
        "      print(space*level + str(self.key))\n",
        "      return\n",
        "\n",
        "    display_keys(self.right, space, level + 1)\n",
        "    print(space*level + str(self.key))\n",
        "    display_keys(self.left, space, level + 1)\n",
        "\n",
        "  def to_tuple(self):\n",
        "    if self is None:\n",
        "      return None\n",
        "    if self.left is None and self.right is None:\n",
        "      return self.key\n",
        "\n",
        "    return TreeNode.to_tuple(self.left), self.key, TreeNode.to_tuple(self.right)\n",
        "\n",
        "  def __str__(self):\n",
        "    return \"BinaryTree <{}>\".format(self.to_tuple())\n",
        "\n",
        "  def __repr__(self):\n",
        "    return \"BinaryTree <{}>\".format(self.to_tuple())\n",
        "\n",
        "  @staticmethod\n",
        "  def parse_tuple(data):\n",
        "    if data is None:\n",
        "      node = None\n",
        "    elif isinstance(data, tuple) and len(data) == 3:\n",
        "      node = TreeNode(data[1])\n",
        "      node.left = TreeNode.parse_tuple(data[0])\n",
        "      node.right = TreeNode.parse_tuple(data[2])\n",
        "    else:\n",
        "      node = TreeNode(data)\n",
        "\n",
        "    return node"
      ],
      "metadata": {
        "id": "0QSo1EM4WMeX"
      },
      "execution_count": 189,
      "outputs": []
    },
    {
      "cell_type": "code",
      "source": [
        "tree_tuple"
      ],
      "metadata": {
        "colab": {
          "base_uri": "https://localhost:8080/"
        },
        "id": "eUHBHZFdXumJ",
        "outputId": "ca714f82-f9c5-495b-cb11-00d8a1a92c04"
      },
      "execution_count": 190,
      "outputs": [
        {
          "output_type": "execute_result",
          "data": {
            "text/plain": [
              "((1, 3, None), 2, ((None, 3, 4), 5, (6, 7, 8)))"
            ]
          },
          "metadata": {},
          "execution_count": 190
        }
      ]
    },
    {
      "cell_type": "code",
      "source": [
        "tree = TreeNode.parse_tuple(tree_tuple)"
      ],
      "metadata": {
        "id": "YewRTiVZY_Ho"
      },
      "execution_count": 191,
      "outputs": []
    },
    {
      "cell_type": "code",
      "source": [
        "tree"
      ],
      "metadata": {
        "colab": {
          "base_uri": "https://localhost:8080/"
        },
        "id": "Fn-ak54MZD2v",
        "outputId": "c8029924-43f6-42fa-9105-278f6d07e83d"
      },
      "execution_count": 192,
      "outputs": [
        {
          "output_type": "execute_result",
          "data": {
            "text/plain": [
              "BinaryTree <((1, 3, None), 2, ((None, 3, 4), 5, (6, 7, 8)))>"
            ]
          },
          "metadata": {},
          "execution_count": 192
        }
      ]
    },
    {
      "cell_type": "code",
      "source": [
        "tree.display_keys()"
      ],
      "metadata": {
        "colab": {
          "base_uri": "https://localhost:8080/"
        },
        "id": "TSkCyx9qZERa",
        "outputId": "549423d1-772e-4b4f-ed18-daa9890a6c9a"
      },
      "execution_count": 193,
      "outputs": [
        {
          "output_type": "stream",
          "name": "stdout",
          "text": [
            "\t\t\t8\n",
            "\t\t7\n",
            "\t\t\t6\n",
            "\t5\n",
            "\t\t\t4\n",
            "\t\t3\n",
            "\t\t\t∅\n",
            "2\n",
            "\t\t∅\n",
            "\t3\n",
            "\t\t1\n"
          ]
        }
      ]
    },
    {
      "cell_type": "code",
      "source": [
        "tree.height()"
      ],
      "metadata": {
        "colab": {
          "base_uri": "https://localhost:8080/"
        },
        "id": "mQGF7MtmZH-p",
        "outputId": "85352688-b5cc-4908-a98e-99acb67f20ac"
      },
      "execution_count": 194,
      "outputs": [
        {
          "output_type": "execute_result",
          "data": {
            "text/plain": [
              "4"
            ]
          },
          "metadata": {},
          "execution_count": 194
        }
      ]
    },
    {
      "cell_type": "code",
      "source": [
        "tree.size()"
      ],
      "metadata": {
        "colab": {
          "base_uri": "https://localhost:8080/"
        },
        "id": "Sl6_q644ZLvi",
        "outputId": "3fcdf5fd-bd7c-428d-ee6e-ed80ee7f155e"
      },
      "execution_count": 195,
      "outputs": [
        {
          "output_type": "execute_result",
          "data": {
            "text/plain": [
              "9"
            ]
          },
          "metadata": {},
          "execution_count": 195
        }
      ]
    },
    {
      "cell_type": "code",
      "source": [
        "tree.traverse_in_order()"
      ],
      "metadata": {
        "colab": {
          "base_uri": "https://localhost:8080/"
        },
        "id": "fdHcX4F-ZNi5",
        "outputId": "05e2f3bc-625b-4f91-d496-ac51e727bcc3"
      },
      "execution_count": 196,
      "outputs": [
        {
          "output_type": "execute_result",
          "data": {
            "text/plain": [
              "[1, 3, 2, 3, 4, 5, 6, 7, 8]"
            ]
          },
          "metadata": {},
          "execution_count": 196
        }
      ]
    },
    {
      "cell_type": "code",
      "source": [
        "tree.to_tuple()"
      ],
      "metadata": {
        "colab": {
          "base_uri": "https://localhost:8080/"
        },
        "id": "PFXFPYyIZQCV",
        "outputId": "3272b6b0-cbec-451f-9569-40f386a15a80"
      },
      "execution_count": 197,
      "outputs": [
        {
          "output_type": "execute_result",
          "data": {
            "text/plain": [
              "((1, 3, None), 2, ((None, 3, 4), 5, (6, 7, 8)))"
            ]
          },
          "metadata": {},
          "execution_count": 197
        }
      ]
    },
    {
      "cell_type": "code",
      "source": [
        "def remove_none(nums):\n",
        "  return [x for x in nums if x is not None]\n",
        "\n",
        "def is_bst(node):\n",
        "  if node is None:\n",
        "    return True, None, None\n",
        "\n",
        "  is_bst_l, min_l, max_l = is_bst(node.left)\n",
        "  is_bst_r, min_r, max_r = is_bst(node.right)\n",
        "\n",
        "  is_bst_node = (is_bst_l and is_bst_r and \n",
        "                 (max_l is None or node.key > max_l) and\n",
        "                 (min_r is None or node.key < min_r))\n",
        "  \n",
        "  min_key = min(remove_none([min_l, node.key, min_r]))\n",
        "  max_key = max(remove_none([max_l, node.key, max_r]))\n",
        "\n",
        "  return is_bst_node, min_key, max_key"
      ],
      "metadata": {
        "id": "iOJr4T3yZSiF"
      },
      "execution_count": 198,
      "outputs": []
    },
    {
      "cell_type": "code",
      "source": [
        "tree1 = TreeNode.parse_tuple(((1, 3, None), 2, ((None, 3, 4), 5, (6, 7, 8))))"
      ],
      "metadata": {
        "id": "eD1qhw86b3NG"
      },
      "execution_count": 199,
      "outputs": []
    },
    {
      "cell_type": "code",
      "source": [
        "is_bst(tree1)"
      ],
      "metadata": {
        "colab": {
          "base_uri": "https://localhost:8080/"
        },
        "id": "gV-2zGKFcC85",
        "outputId": "f9e1c7c9-556f-497e-c3fb-da8eaef93be7"
      },
      "execution_count": 200,
      "outputs": [
        {
          "output_type": "execute_result",
          "data": {
            "text/plain": [
              "(False, 1, 8)"
            ]
          },
          "metadata": {},
          "execution_count": 200
        }
      ]
    },
    {
      "cell_type": "code",
      "source": [
        "tree2 = TreeNode.parse_tuple((('aakash', 'biraj', 'hemanth'), 'jadhesh', ('siddhant', 'sonaksh', 'vishal')))"
      ],
      "metadata": {
        "id": "wE0I3DpncEgC"
      },
      "execution_count": 201,
      "outputs": []
    },
    {
      "cell_type": "code",
      "source": [
        "is_bst(tree2)"
      ],
      "metadata": {
        "colab": {
          "base_uri": "https://localhost:8080/"
        },
        "id": "29yYKyUcceyY",
        "outputId": "a16ab1a9-98db-4cf4-83d2-1ad773dd26b4"
      },
      "execution_count": 202,
      "outputs": [
        {
          "output_type": "execute_result",
          "data": {
            "text/plain": [
              "(True, 'aakash', 'vishal')"
            ]
          },
          "metadata": {},
          "execution_count": 202
        }
      ]
    },
    {
      "cell_type": "code",
      "source": [
        "class BSTNode():\n",
        "  def __init__(self, key, value = None):\n",
        "    self.key = key\n",
        "    self.value = value\n",
        "    self.left = None\n",
        "    self.right = None\n",
        "    self.parent = None"
      ],
      "metadata": {
        "id": "vOA3W7F9ciHB"
      },
      "execution_count": 203,
      "outputs": []
    },
    {
      "cell_type": "code",
      "source": [
        "tree = BSTNode(jadhesh.username, jadhesh)"
      ],
      "metadata": {
        "id": "gzLOnAkPc1HQ"
      },
      "execution_count": 204,
      "outputs": []
    },
    {
      "cell_type": "code",
      "source": [
        "tree.key, tree.value"
      ],
      "metadata": {
        "colab": {
          "base_uri": "https://localhost:8080/"
        },
        "id": "NdezdkNqc70I",
        "outputId": "87389483-1be9-4911-b55d-8e925387a2f1"
      },
      "execution_count": 205,
      "outputs": [
        {
          "output_type": "execute_result",
          "data": {
            "text/plain": [
              "('jadhesh',\n",
              " User(username='jadhesh', name='Jadhesh Verma', email='jadhesh@example.com)')"
            ]
          },
          "metadata": {},
          "execution_count": 205
        }
      ]
    },
    {
      "cell_type": "code",
      "source": [
        "tree.left = BSTNode(biraj.username, biraj)\n",
        "tree.right = BSTNode(sonaksh.username, sonaksh)"
      ],
      "metadata": {
        "id": "PHdYQoR6c-P3"
      },
      "execution_count": 206,
      "outputs": []
    },
    {
      "cell_type": "code",
      "source": [
        "tree.left.key, tree.left.value, tree.right.key, tree.right.value"
      ],
      "metadata": {
        "colab": {
          "base_uri": "https://localhost:8080/"
        },
        "id": "_1F7eXR0dIiS",
        "outputId": "64074dab-1dd7-4ac6-cfc2-29c4b7236b3e"
      },
      "execution_count": 207,
      "outputs": [
        {
          "output_type": "execute_result",
          "data": {
            "text/plain": [
              "('biraj',\n",
              " User(username='biraj', name='Biraj Das', email='biraj@example.com)',\n",
              " 'sonaksh',\n",
              " User(username='sonaksh', name='Sonaksh Kumar', email='sonaksh@example.com)')"
            ]
          },
          "metadata": {},
          "execution_count": 207
        }
      ]
    },
    {
      "cell_type": "code",
      "source": [
        "display_keys(tree)"
      ],
      "metadata": {
        "colab": {
          "base_uri": "https://localhost:8080/"
        },
        "id": "YG9VQmOVdP3C",
        "outputId": "97b06525-b01f-4a01-89c6-c0a01557e978"
      },
      "execution_count": 208,
      "outputs": [
        {
          "output_type": "stream",
          "name": "stdout",
          "text": [
            "\tsonaksh\n",
            "jadhesh\n",
            "\tbiraj\n"
          ]
        }
      ]
    },
    {
      "cell_type": "code",
      "source": [
        "def insert(node, key, value):\n",
        "  if node is None:\n",
        "    node = BSTNode(key, value)\n",
        "  elif key < node.key:\n",
        "    node.left = insert(node.left, key, value)\n",
        "    node.left.parent = node\n",
        "  elif key > node.key:\n",
        "    node.right = insert(node.right, key, value)\n",
        "    node.right.parent = node\n",
        "  return node"
      ],
      "metadata": {
        "id": "8XvU98yWdVZY"
      },
      "execution_count": 209,
      "outputs": []
    },
    {
      "cell_type": "code",
      "source": [
        "tree = insert(None, jadhesh.username, jadhesh)"
      ],
      "metadata": {
        "id": "WgBel51Ad1fy"
      },
      "execution_count": 210,
      "outputs": []
    },
    {
      "cell_type": "code",
      "source": [
        "insert(tree, biraj.username, biraj)\n",
        "insert(tree, sonaksh.username, sonaksh)\n",
        "insert(tree, aakash.username, aakash)\n",
        "insert(tree, hemanth.username, hemanth)\n",
        "insert(tree, siddhant.username, siddhant)\n",
        "insert(tree, vishal.username, vishal)"
      ],
      "metadata": {
        "colab": {
          "base_uri": "https://localhost:8080/"
        },
        "id": "Pj5YC2zUd8mU",
        "outputId": "093cf488-bd74-42d8-866e-9d000cab44ac"
      },
      "execution_count": 211,
      "outputs": [
        {
          "output_type": "execute_result",
          "data": {
            "text/plain": [
              "<__main__.BSTNode at 0x7f4a0826db50>"
            ]
          },
          "metadata": {},
          "execution_count": 211
        }
      ]
    },
    {
      "cell_type": "code",
      "source": [
        "display_keys(tree)"
      ],
      "metadata": {
        "colab": {
          "base_uri": "https://localhost:8080/"
        },
        "id": "ZGw7wiAIeRXg",
        "outputId": "ad6aec14-6bc5-48f5-ada6-3e8c6613d891"
      },
      "execution_count": 212,
      "outputs": [
        {
          "output_type": "stream",
          "name": "stdout",
          "text": [
            "\t\tvishal\n",
            "\tsonaksh\n",
            "\t\tsiddhant\n",
            "jadhesh\n",
            "\t\themanth\n",
            "\tbiraj\n",
            "\t\taakash\n"
          ]
        }
      ]
    },
    {
      "cell_type": "code",
      "source": [
        "tree2 = insert(None, aakash.username, aakash)\n",
        "insert(tree2, biraj.username, biraj)\n",
        "insert(tree2, hemanth.username, hemanth)\n",
        "insert(tree2, jadhesh.username, jadhesh)\n",
        "insert(tree2, siddhant.username, siddhant)\n",
        "insert(tree2, sonaksh.username, sonaksh)\n",
        "insert(tree2, vishal.username, vishal)"
      ],
      "metadata": {
        "colab": {
          "base_uri": "https://localhost:8080/"
        },
        "id": "LWg-CGuxebrs",
        "outputId": "ccfb4017-8b1b-42d1-ae4a-1cc3770d0411"
      },
      "execution_count": 213,
      "outputs": [
        {
          "output_type": "execute_result",
          "data": {
            "text/plain": [
              "<__main__.BSTNode at 0x7f4a081e5550>"
            ]
          },
          "metadata": {},
          "execution_count": 213
        }
      ]
    },
    {
      "cell_type": "code",
      "source": [
        "display_keys(tree2)"
      ],
      "metadata": {
        "colab": {
          "base_uri": "https://localhost:8080/"
        },
        "id": "4bs_VVh4ew_i",
        "outputId": "ab90ee13-ad7a-403c-84e1-ec997d6d7672"
      },
      "execution_count": 214,
      "outputs": [
        {
          "output_type": "stream",
          "name": "stdout",
          "text": [
            "\t\t\t\t\t\tvishal\n",
            "\t\t\t\t\tsonaksh\n",
            "\t\t\t\t\t\t∅\n",
            "\t\t\t\tsiddhant\n",
            "\t\t\t\t\t∅\n",
            "\t\t\tjadhesh\n",
            "\t\t\t\t∅\n",
            "\t\themanth\n",
            "\t\t\t∅\n",
            "\tbiraj\n",
            "\t\t∅\n",
            "aakash\n",
            "\t∅\n"
          ]
        }
      ]
    },
    {
      "cell_type": "code",
      "source": [
        "tree_height(tree2)"
      ],
      "metadata": {
        "colab": {
          "base_uri": "https://localhost:8080/"
        },
        "id": "tH3-0fOUe3Xw",
        "outputId": "6a1a2e65-846c-4695-9d28-8b1f0ec3535c"
      },
      "execution_count": 215,
      "outputs": [
        {
          "output_type": "execute_result",
          "data": {
            "text/plain": [
              "7"
            ]
          },
          "metadata": {},
          "execution_count": 215
        }
      ]
    },
    {
      "cell_type": "code",
      "source": [
        "def find(node, key):\n",
        "  if node is None:\n",
        "    return None\n",
        "  if key == node.key:\n",
        "    return node\n",
        "  if key < node.key:\n",
        "    return find(node.left, key)\n",
        "  if key > node.key:\n",
        "    return find(node.right, key)"
      ],
      "metadata": {
        "id": "M9IgiGkQfH5T"
      },
      "execution_count": 216,
      "outputs": []
    },
    {
      "cell_type": "code",
      "source": [
        "node = find(tree, 'hemanth')"
      ],
      "metadata": {
        "id": "EqOy79AKfimL"
      },
      "execution_count": 217,
      "outputs": []
    },
    {
      "cell_type": "code",
      "source": [
        "node.key, node.value"
      ],
      "metadata": {
        "colab": {
          "base_uri": "https://localhost:8080/"
        },
        "id": "ImspfT-NfnKC",
        "outputId": "b2da7643-b48b-4169-bc01-c3c21aaafcf4"
      },
      "execution_count": 218,
      "outputs": [
        {
          "output_type": "execute_result",
          "data": {
            "text/plain": [
              "('hemanth',\n",
              " User(username='hemanth', name='Hemanth Jain', email='hemanth@example.com)')"
            ]
          },
          "metadata": {},
          "execution_count": 218
        }
      ]
    },
    {
      "cell_type": "code",
      "source": [
        "def update(node, key, value):\n",
        "  target = find(node, key)\n",
        "  if target is not None:\n",
        "    target.value = value"
      ],
      "metadata": {
        "id": "JVjuCJ6jfo0N"
      },
      "execution_count": 219,
      "outputs": []
    },
    {
      "cell_type": "code",
      "source": [
        "update(tree, 'hemanth', User('hemanth', 'Hemanth J', 'hemanthj@example.com'))"
      ],
      "metadata": {
        "id": "Iiayn2Qqf7xk"
      },
      "execution_count": 220,
      "outputs": []
    },
    {
      "cell_type": "code",
      "source": [
        "node = find(tree, 'hemanth')"
      ],
      "metadata": {
        "id": "rfSxWU4XgFT2"
      },
      "execution_count": 221,
      "outputs": []
    },
    {
      "cell_type": "code",
      "source": [
        "node.value"
      ],
      "metadata": {
        "colab": {
          "base_uri": "https://localhost:8080/"
        },
        "id": "4dv2TQaBgII4",
        "outputId": "4ad7d652-5688-4509-aa3a-afb90cc3e871"
      },
      "execution_count": 222,
      "outputs": [
        {
          "output_type": "execute_result",
          "data": {
            "text/plain": [
              "User(username='hemanth', name='Hemanth J', email='hemanthj@example.com)'"
            ]
          },
          "metadata": {},
          "execution_count": 222
        }
      ]
    },
    {
      "cell_type": "code",
      "source": [
        "def list_all(node):\n",
        "  if node is None:\n",
        "    return []\n",
        "  return list_all(node.left) + [(node.key, node.value)] + list_all(node.right)"
      ],
      "metadata": {
        "id": "gruomKJQgI2i"
      },
      "execution_count": 223,
      "outputs": []
    },
    {
      "cell_type": "code",
      "source": [
        "list_all(tree)"
      ],
      "metadata": {
        "colab": {
          "base_uri": "https://localhost:8080/"
        },
        "id": "4nFwQDp9gbV_",
        "outputId": "f35c5541-3e19-4708-857c-e82cc7e12f26"
      },
      "execution_count": 224,
      "outputs": [
        {
          "output_type": "execute_result",
          "data": {
            "text/plain": [
              "[('aakash',\n",
              "  User(username='aakash', name='Aakash Rai', email='aakash@example.com)'),\n",
              " ('biraj',\n",
              "  User(username='biraj', name='Biraj Das', email='biraj@example.com)'),\n",
              " ('hemanth',\n",
              "  User(username='hemanth', name='Hemanth J', email='hemanthj@example.com)'),\n",
              " ('jadhesh',\n",
              "  User(username='jadhesh', name='Jadhesh Verma', email='jadhesh@example.com)'),\n",
              " ('siddhant',\n",
              "  User(username='siddhant', name='Siddhant Sinha', email='siddhant@example.com)'),\n",
              " ('sonaksh',\n",
              "  User(username='sonaksh', name='Sonaksh Kumar', email='sonaksh@example.com)'),\n",
              " ('vishal',\n",
              "  User(username='vishal', name='Vishal Goel', email='vishal@example.com)')]"
            ]
          },
          "metadata": {},
          "execution_count": 224
        }
      ]
    },
    {
      "cell_type": "code",
      "source": [
        "def is_balanced(node):\n",
        "  if node is None:\n",
        "    return True, 0\n",
        "  balanced_l, height_l = is_balanced(node.left)\n",
        "  balanced_r, height_r = is_balanced(node.right)\n",
        "  balanced = balanced_l and balanced_r and abs(height_l - height_r) <= 1\n",
        "  height = 1 + max(height_l, height_r)\n",
        "  return balanced, height"
      ],
      "metadata": {
        "id": "2UltHkU2gc69"
      },
      "execution_count": 225,
      "outputs": []
    },
    {
      "cell_type": "code",
      "source": [
        "is_balanced(tree)"
      ],
      "metadata": {
        "colab": {
          "base_uri": "https://localhost:8080/"
        },
        "id": "zrI42rc4z26o",
        "outputId": "00479672-b037-47d8-ddbd-ab576f9ef780"
      },
      "execution_count": 226,
      "outputs": [
        {
          "output_type": "execute_result",
          "data": {
            "text/plain": [
              "(True, 3)"
            ]
          },
          "metadata": {},
          "execution_count": 226
        }
      ]
    },
    {
      "cell_type": "code",
      "source": [
        "is_balanced(tree2)"
      ],
      "metadata": {
        "colab": {
          "base_uri": "https://localhost:8080/"
        },
        "id": "RJgNPaguz5Ll",
        "outputId": "6843b061-9a99-4dea-e01c-a9e77dcbe70f"
      },
      "execution_count": 227,
      "outputs": [
        {
          "output_type": "execute_result",
          "data": {
            "text/plain": [
              "(False, 7)"
            ]
          },
          "metadata": {},
          "execution_count": 227
        }
      ]
    },
    {
      "cell_type": "code",
      "source": [
        "def make_balanced_bst(data, lo = 0, hi = None, parent = None):\n",
        "  if hi is None:\n",
        "    hi = len(data) - 1\n",
        "  if lo > hi:\n",
        "      return None\n",
        "    \n",
        "  mid = (lo+hi) // 2\n",
        "  key, value = data[mid]\n",
        "\n",
        "  root = BSTNode(key, value)\n",
        "  root.parent = parent\n",
        "  root.left = make_balanced_bst(data, lo, mid - 1, root)\n",
        "  root.right = make_balanced_bst(data, mid+1, hi, root)\n",
        "\n",
        "  return root"
      ],
      "metadata": {
        "id": "kp7gS5Grz8HW"
      },
      "execution_count": 238,
      "outputs": []
    },
    {
      "cell_type": "code",
      "source": [
        "data = [(user.username, user) for user in users]\n",
        "data"
      ],
      "metadata": {
        "colab": {
          "base_uri": "https://localhost:8080/"
        },
        "id": "tsjj26Lw2QwG",
        "outputId": "0fd04434-684d-45fb-e9a9-8587535fdb74"
      },
      "execution_count": 239,
      "outputs": [
        {
          "output_type": "execute_result",
          "data": {
            "text/plain": [
              "[('aakash',\n",
              "  User(username='aakash', name='Aakash Rai', email='aakash@example.com)'),\n",
              " ('biraj',\n",
              "  User(username='biraj', name='Biraj Das', email='biraj@example.com)'),\n",
              " ('hemanth',\n",
              "  User(username='hemanth', name='Hemanth Jain', email='hemanth@example.com)'),\n",
              " ('jadhesh',\n",
              "  User(username='jadhesh', name='Jadhesh Verma', email='jadhesh@example.com)'),\n",
              " ('siddhant',\n",
              "  User(username='siddhant', name='Siddhant Sinha', email='siddhant@example.com)'),\n",
              " ('sonaksh',\n",
              "  User(username='sonaksh', name='Sonaksh Kumar', email='sonaksh@example.com)'),\n",
              " ('vishal',\n",
              "  User(username='vishal', name='Vishal Goel', email='vishal@example.com)')]"
            ]
          },
          "metadata": {},
          "execution_count": 239
        }
      ]
    },
    {
      "cell_type": "code",
      "source": [
        "tree = make_balanced_bst(data)"
      ],
      "metadata": {
        "id": "4aT5tUSD2WP8"
      },
      "execution_count": 240,
      "outputs": []
    },
    {
      "cell_type": "code",
      "source": [
        "display_keys(tree)"
      ],
      "metadata": {
        "colab": {
          "base_uri": "https://localhost:8080/"
        },
        "id": "F29FctX72ZyA",
        "outputId": "fecb0a30-6c09-4e88-960f-3d51f6d6d7db"
      },
      "execution_count": 241,
      "outputs": [
        {
          "output_type": "stream",
          "name": "stdout",
          "text": [
            "\t\tvishal\n",
            "\tsonaksh\n",
            "\t\tsiddhant\n",
            "jadhesh\n",
            "\t\themanth\n",
            "\tbiraj\n",
            "\t\taakash\n"
          ]
        }
      ]
    },
    {
      "cell_type": "code",
      "source": [
        "tree3 = None\n",
        "for username, user in data:\n",
        "  tree3 = insert(tree3, username, user)"
      ],
      "metadata": {
        "id": "QDz-4kVg2boi"
      },
      "execution_count": 242,
      "outputs": []
    },
    {
      "cell_type": "code",
      "source": [
        "def balance_bst(node):\n",
        "  return make_balanced_bst(list_all(node))"
      ],
      "metadata": {
        "id": "H6b1jRdT3xv4"
      },
      "execution_count": 243,
      "outputs": []
    },
    {
      "cell_type": "code",
      "source": [
        "tree1 = None\n",
        "for user in users:\n",
        "  tree1 = insert(tree1, user.username, user)"
      ],
      "metadata": {
        "id": "N988Yjdi36SC"
      },
      "execution_count": 244,
      "outputs": []
    },
    {
      "cell_type": "code",
      "source": [
        "display_keys(tree1)"
      ],
      "metadata": {
        "colab": {
          "base_uri": "https://localhost:8080/"
        },
        "id": "-ez2c85l4A6x",
        "outputId": "e3842833-b5ad-4392-9a6a-216f0490e13c"
      },
      "execution_count": 245,
      "outputs": [
        {
          "output_type": "stream",
          "name": "stdout",
          "text": [
            "\t\t\t\t\t\tvishal\n",
            "\t\t\t\t\tsonaksh\n",
            "\t\t\t\t\t\t∅\n",
            "\t\t\t\tsiddhant\n",
            "\t\t\t\t\t∅\n",
            "\t\t\tjadhesh\n",
            "\t\t\t\t∅\n",
            "\t\themanth\n",
            "\t\t\t∅\n",
            "\tbiraj\n",
            "\t\t∅\n",
            "aakash\n",
            "\t∅\n"
          ]
        }
      ]
    },
    {
      "cell_type": "code",
      "source": [
        "tree2 = balance_bst(tree1)"
      ],
      "metadata": {
        "id": "7ukJuhHF4C5E"
      },
      "execution_count": 246,
      "outputs": []
    },
    {
      "cell_type": "code",
      "source": [
        "display_keys(tree2)"
      ],
      "metadata": {
        "colab": {
          "base_uri": "https://localhost:8080/"
        },
        "id": "RPe2YUJo4G0h",
        "outputId": "ba0b0025-840e-4887-dc4f-8b33f639fc80"
      },
      "execution_count": 247,
      "outputs": [
        {
          "output_type": "stream",
          "name": "stdout",
          "text": [
            "\t\tvishal\n",
            "\tsonaksh\n",
            "\t\tsiddhant\n",
            "jadhesh\n",
            "\t\themanth\n",
            "\tbiraj\n",
            "\t\taakash\n"
          ]
        }
      ]
    },
    {
      "cell_type": "code",
      "source": [
        "import math\n",
        "math.log(100000000,2)"
      ],
      "metadata": {
        "colab": {
          "base_uri": "https://localhost:8080/"
        },
        "id": "DPduMRi44Jfa",
        "outputId": "0b9d6053-c7df-4d82-97de-e70ecd2c7966"
      },
      "execution_count": 248,
      "outputs": [
        {
          "output_type": "execute_result",
          "data": {
            "text/plain": [
              "26.5754247590989"
            ]
          },
          "metadata": {},
          "execution_count": 248
        }
      ]
    },
    {
      "cell_type": "code",
      "source": [
        "%%time\n",
        "\n",
        "for i in range(26):\n",
        "  j = i*i"
      ],
      "metadata": {
        "colab": {
          "base_uri": "https://localhost:8080/"
        },
        "id": "al3-4XPf43hF",
        "outputId": "0eba6127-efe7-473a-d9a6-69fab8155f71"
      },
      "execution_count": 249,
      "outputs": [
        {
          "output_type": "stream",
          "name": "stdout",
          "text": [
            "CPU times: user 13 µs, sys: 1 µs, total: 14 µs\n",
            "Wall time: 19.3 µs\n"
          ]
        }
      ]
    },
    {
      "cell_type": "code",
      "source": [
        "%%time\n",
        "for i in range(100000000):\n",
        "  j = i*i"
      ],
      "metadata": {
        "colab": {
          "base_uri": "https://localhost:8080/"
        },
        "id": "F4mow5pp5QiL",
        "outputId": "b77f93b3-ee34-4da5-9375-63867ca0fbcf"
      },
      "execution_count": 250,
      "outputs": [
        {
          "output_type": "stream",
          "name": "stdout",
          "text": [
            "CPU times: user 12.8 s, sys: 686 µs, total: 12.8 s\n",
            "Wall time: 12.8 s\n"
          ]
        }
      ]
    },
    {
      "cell_type": "code",
      "source": [
        "class TreeMap():\n",
        "  def __init__(self):\n",
        "    self.root = None\n",
        "\n",
        "  def __setitem__(self, key, value):\n",
        "    node = find(self.root, key)\n",
        "    if not node:\n",
        "      self.root = insert(self.root, key, value)\n",
        "      self.root = balance_bst(self.root)\n",
        "    else:\n",
        "      update(self.root, key, value)\n",
        "\n",
        "  def __getitem__(self, key):\n",
        "    node = find(self.root, key)\n",
        "    return node.value if node else remove_none\n",
        "  def __iter__(self):\n",
        "    return (x for x in list_all(self.root))\n",
        "\n",
        "  def __len__(self):\n",
        "    return tree_size(self.root)\n",
        "\n",
        "  def display(self):\n",
        "    return display_keys(self.root)"
      ],
      "metadata": {
        "id": "IvNen4HX5XH9"
      },
      "execution_count": 251,
      "outputs": []
    },
    {
      "cell_type": "code",
      "source": [
        "users"
      ],
      "metadata": {
        "colab": {
          "base_uri": "https://localhost:8080/"
        },
        "id": "qEZJ4ksI6aTt",
        "outputId": "bbf45a08-1157-4dfe-92ba-239a480ef761"
      },
      "execution_count": 252,
      "outputs": [
        {
          "output_type": "execute_result",
          "data": {
            "text/plain": [
              "[User(username='aakash', name='Aakash Rai', email='aakash@example.com)',\n",
              " User(username='biraj', name='Biraj Das', email='biraj@example.com)',\n",
              " User(username='hemanth', name='Hemanth Jain', email='hemanth@example.com)',\n",
              " User(username='jadhesh', name='Jadhesh Verma', email='jadhesh@example.com)',\n",
              " User(username='siddhant', name='Siddhant Sinha', email='siddhant@example.com)',\n",
              " User(username='sonaksh', name='Sonaksh Kumar', email='sonaksh@example.com)',\n",
              " User(username='vishal', name='Vishal Goel', email='vishal@example.com)']"
            ]
          },
          "metadata": {},
          "execution_count": 252
        }
      ]
    },
    {
      "cell_type": "code",
      "source": [
        "treemap = TreeMap()"
      ],
      "metadata": {
        "id": "cheBQdMX6dmM"
      },
      "execution_count": 253,
      "outputs": []
    },
    {
      "cell_type": "code",
      "source": [
        "treemap.display()"
      ],
      "metadata": {
        "colab": {
          "base_uri": "https://localhost:8080/"
        },
        "id": "9VwYUfx-6gHs",
        "outputId": "b9c4eb3b-8142-4eeb-e59b-8f598c3f605c"
      },
      "execution_count": 255,
      "outputs": [
        {
          "output_type": "stream",
          "name": "stdout",
          "text": [
            "∅\n"
          ]
        }
      ]
    },
    {
      "cell_type": "code",
      "source": [
        "treemap['aakash'] = aakash\n",
        "treemap['jadhesh'] = jadhesh\n",
        "treemap['sonaksh'] = sonaksh"
      ],
      "metadata": {
        "id": "YNk2Jxuv6iRd"
      },
      "execution_count": 256,
      "outputs": []
    },
    {
      "cell_type": "code",
      "source": [
        "treemap.display()"
      ],
      "metadata": {
        "colab": {
          "base_uri": "https://localhost:8080/"
        },
        "id": "erd2IJl46rHI",
        "outputId": "5fb44014-753f-4d34-9004-3205c216861b"
      },
      "execution_count": 257,
      "outputs": [
        {
          "output_type": "stream",
          "name": "stdout",
          "text": [
            "\tsonaksh\n",
            "jadhesh\n",
            "\taakash\n"
          ]
        }
      ]
    },
    {
      "cell_type": "code",
      "source": [
        "treemap['jadhesh']"
      ],
      "metadata": {
        "colab": {
          "base_uri": "https://localhost:8080/"
        },
        "id": "SiZ_o2dX6tA3",
        "outputId": "cc041853-0920-42c0-9124-15f3e0f3dd49"
      },
      "execution_count": 258,
      "outputs": [
        {
          "output_type": "execute_result",
          "data": {
            "text/plain": [
              "User(username='jadhesh', name='Jadhesh Verma', email='jadhesh@example.com)'"
            ]
          },
          "metadata": {},
          "execution_count": 258
        }
      ]
    },
    {
      "cell_type": "code",
      "source": [
        "len(treemap)"
      ],
      "metadata": {
        "colab": {
          "base_uri": "https://localhost:8080/"
        },
        "id": "G_E8XKZe6vcw",
        "outputId": "12f50158-d0df-416a-861a-1254c9439aa7"
      },
      "execution_count": 259,
      "outputs": [
        {
          "output_type": "execute_result",
          "data": {
            "text/plain": [
              "3"
            ]
          },
          "metadata": {},
          "execution_count": 259
        }
      ]
    },
    {
      "cell_type": "code",
      "source": [
        "treemap['biraj'] = biraj\n",
        "treemap['hemanth'] = hemanth\n",
        "treemap['siddhant'] = siddhant\n",
        "treemap['vishal'] = vishal"
      ],
      "metadata": {
        "id": "Pf_EJgeD6x6B"
      },
      "execution_count": 260,
      "outputs": []
    },
    {
      "cell_type": "code",
      "source": [
        "treemap.display()"
      ],
      "metadata": {
        "colab": {
          "base_uri": "https://localhost:8080/"
        },
        "id": "191k5MKz67rF",
        "outputId": "0889f597-f37f-4ba4-d16e-b837cb35782c"
      },
      "execution_count": 261,
      "outputs": [
        {
          "output_type": "stream",
          "name": "stdout",
          "text": [
            "\t\tvishal\n",
            "\tsonaksh\n",
            "\t\tsiddhant\n",
            "jadhesh\n",
            "\t\themanth\n",
            "\tbiraj\n",
            "\t\taakash\n"
          ]
        }
      ]
    },
    {
      "cell_type": "code",
      "source": [
        "for key, value in treemap:\n",
        "  print(key, value)"
      ],
      "metadata": {
        "colab": {
          "base_uri": "https://localhost:8080/"
        },
        "id": "gTWpCZ3U68uE",
        "outputId": "1cf7bc4d-4f7e-4233-8245-5c2a36bf132e"
      },
      "execution_count": 262,
      "outputs": [
        {
          "output_type": "stream",
          "name": "stdout",
          "text": [
            "aakash User(username='aakash', name='Aakash Rai', email='aakash@example.com)'\n",
            "biraj User(username='biraj', name='Biraj Das', email='biraj@example.com)'\n",
            "hemanth User(username='hemanth', name='Hemanth Jain', email='hemanth@example.com)'\n",
            "jadhesh User(username='jadhesh', name='Jadhesh Verma', email='jadhesh@example.com)'\n",
            "siddhant User(username='siddhant', name='Siddhant Sinha', email='siddhant@example.com)'\n",
            "sonaksh User(username='sonaksh', name='Sonaksh Kumar', email='sonaksh@example.com)'\n",
            "vishal User(username='vishal', name='Vishal Goel', email='vishal@example.com)'\n"
          ]
        }
      ]
    },
    {
      "cell_type": "code",
      "source": [
        "list(treemap)"
      ],
      "metadata": {
        "colab": {
          "base_uri": "https://localhost:8080/"
        },
        "id": "yGxac3e-7DHH",
        "outputId": "b24817df-7038-490a-b9c5-2f67447662ee"
      },
      "execution_count": 263,
      "outputs": [
        {
          "output_type": "execute_result",
          "data": {
            "text/plain": [
              "[('aakash',\n",
              "  User(username='aakash', name='Aakash Rai', email='aakash@example.com)'),\n",
              " ('biraj',\n",
              "  User(username='biraj', name='Biraj Das', email='biraj@example.com)'),\n",
              " ('hemanth',\n",
              "  User(username='hemanth', name='Hemanth Jain', email='hemanth@example.com)'),\n",
              " ('jadhesh',\n",
              "  User(username='jadhesh', name='Jadhesh Verma', email='jadhesh@example.com)'),\n",
              " ('siddhant',\n",
              "  User(username='siddhant', name='Siddhant Sinha', email='siddhant@example.com)'),\n",
              " ('sonaksh',\n",
              "  User(username='sonaksh', name='Sonaksh Kumar', email='sonaksh@example.com)'),\n",
              " ('vishal',\n",
              "  User(username='vishal', name='Vishal Goel', email='vishal@example.com)')]"
            ]
          },
          "metadata": {},
          "execution_count": 263
        }
      ]
    },
    {
      "cell_type": "code",
      "source": [
        "treemap['aakash'] = User(username = 'aakash', name = 'Aakash N S', email = 'aakashns@example.com')"
      ],
      "metadata": {
        "id": "nHE6gE0e7FJ3"
      },
      "execution_count": 264,
      "outputs": []
    },
    {
      "cell_type": "code",
      "source": [
        "treemap['aakash']"
      ],
      "metadata": {
        "colab": {
          "base_uri": "https://localhost:8080/"
        },
        "id": "Z82VWjlv7Qje",
        "outputId": "430cf102-7da5-447a-f3bb-80af1fbf3958"
      },
      "execution_count": 265,
      "outputs": [
        {
          "output_type": "execute_result",
          "data": {
            "text/plain": [
              "User(username='aakash', name='Aakash N S', email='aakashns@example.com)'"
            ]
          },
          "metadata": {},
          "execution_count": 265
        }
      ]
    },
    {
      "cell_type": "code",
      "source": [
        ""
      ],
      "metadata": {
        "id": "CzSuwooK7R99"
      },
      "execution_count": null,
      "outputs": []
    }
  ]
}