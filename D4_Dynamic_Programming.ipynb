{
  "nbformat": 4,
  "nbformat_minor": 0,
  "metadata": {
    "colab": {
      "name": "D4_Dynamic_Programming.ipynb",
      "provenance": [],
      "authorship_tag": "ABX9TyMihAV29AbGkO780YaC/nMO",
      "include_colab_link": true
    },
    "kernelspec": {
      "name": "python3",
      "display_name": "Python 3"
    },
    "language_info": {
      "name": "python"
    }
  },
  "cells": [
    {
      "cell_type": "markdown",
      "metadata": {
        "id": "view-in-github",
        "colab_type": "text"
      },
      "source": [
        "<a href=\"https://colab.research.google.com/github/ravi-kr/Universe/blob/main/D4_Dynamic_Programming.ipynb\" target=\"_parent\"><img src=\"https://colab.research.google.com/assets/colab-badge.svg\" alt=\"Open In Colab\"/></a>"
      ]
    },
    {
      "cell_type": "code",
      "execution_count": 13,
      "metadata": {
        "id": "4Ui_DmuiIAZj"
      },
      "outputs": [],
      "source": [
        "T0 = {\n",
        "    'input' : {\n",
        "        'seq1' : 'serendipitous',\n",
        "        'seq2' : 'precipitation'\n",
        "    },\n",
        "    'output' : 7\n",
        "}\n",
        "\n",
        "T1 = {\n",
        "    'input' : {\n",
        "        'seq1' : [1, 3, 5, 6, 7, 2, 5, 2, 3],\n",
        "        'seq2' : [6, 2, 4, 7, 1, 5, 6, 2, 3]\n",
        "    },\n",
        "    'output' : 5\n",
        "}\n",
        "\n",
        "T2 = {\n",
        "    'input' : {\n",
        "        'seq1' : 'longest',\n",
        "        'seq2' : 'stone'\n",
        "    },\n",
        "    'output' : 3\n",
        "}\n",
        "\n",
        "T3 = {\n",
        "    'input' : {\n",
        "        'seq1' : 'asdfwevad',\n",
        "        'seq2' : 'opkpoiklklj'\n",
        "    },\n",
        "    'output' : 0\n",
        "}\n",
        "\n",
        "T4 = {\n",
        "    'input' : {\n",
        "        'seq1' : 'dense',\n",
        "        'seq2' : 'condensed'\n",
        "    },\n",
        "    'output' : 5\n",
        "}\n",
        "\n",
        "T5 = {\n",
        "    'input' : {\n",
        "        'seq1' : '',\n",
        "        'seq2' : 'opkpoiklklj'\n",
        "    },\n",
        "    'output' : 0\n",
        "}\n",
        "\n",
        "T6 = {\n",
        "    'input' : {\n",
        "        'seq1' : '',\n",
        "        'seq2' : ''\n",
        "    },\n",
        "    'output' : 0\n",
        "}\n",
        "\n",
        "T7 = {\n",
        "    'input' : {\n",
        "        'seq1' : 'abcdef',\n",
        "        'seq2' : 'badcfe'\n",
        "    },\n",
        "    'output' : 3\n",
        "}"
      ]
    },
    {
      "cell_type": "code",
      "source": [
        "lcq_tests = [T0, T1, T2, T3, T4, T5, T6, T7]"
      ],
      "metadata": {
        "id": "9PLeVOr3JzYV"
      },
      "execution_count": 14,
      "outputs": []
    },
    {
      "cell_type": "code",
      "source": [
        "test0 = {\n",
        "    'input': {\n",
        "        'capacity': 165,\n",
        "        'weights' : [23, 31, 29, 44, 53, 38, 63, 85, 89, 82],\n",
        "        'profits' : [92, 57, 49, 68, 60, 43, 67, 84, 87, 72]\n",
        "    },\n",
        "    'output' : 309\n",
        "}\n",
        "\n",
        "test1 = {\n",
        "    'input': {\n",
        "        'capacity': 3,\n",
        "        'weights' : [4, 5, 6],\n",
        "        'profits' : [1, 2, 3]\n",
        "    },\n",
        "    'output' : 0\n",
        "}\n",
        "\n",
        "test2 = {\n",
        "    'input': {\n",
        "        'capacity': 4,\n",
        "        'weights' : [4, 5, 1],\n",
        "        'profits' : [1, 2, 3]\n",
        "    },\n",
        "    'output' : 3\n",
        "}\n",
        "\n",
        "test3 = {\n",
        "    'input': {\n",
        "        'capacity': 170,\n",
        "        'weights' : [41, 50, 49, 59, 55, 57, 60],\n",
        "        'profits' : [442, 525, 511, 593, 546, 564, 617]\n",
        "    },\n",
        "    'output' : 1735\n",
        "}\n",
        "\n",
        "test4 = {\n",
        "    'input': {\n",
        "        'capacity': 15,\n",
        "        'weights' : [4, 5, 6],\n",
        "        'profits' : [1, 2, 3]\n",
        "    },\n",
        "    'output' : 6\n",
        "}\n",
        "\n",
        "test5 = {\n",
        "    'input': {\n",
        "        'capacity': 15,\n",
        "        'weights' : [4, 5, 1, 3, 2, 5],\n",
        "        'profits' : [2, 3, 1, 5, 4, 7]\n",
        "    },\n",
        "    'output' : 19\n",
        "}"
      ],
      "metadata": {
        "id": "tVLbWFODJ9N2"
      },
      "execution_count": 15,
      "outputs": []
    },
    {
      "cell_type": "code",
      "source": [
        "tests = [test0, test1, test2, test3, test4, test5]"
      ],
      "metadata": {
        "id": "BZf6dL0kMAGL"
      },
      "execution_count": 16,
      "outputs": []
    },
    {
      "cell_type": "code",
      "source": [
        "def lcq_recursive(seq1, seq2, idx1=0, idx2=0):\n",
        "  if idx1 == len(seq1) or idx2 == len(seq2):\n",
        "    return 0\n",
        "  if seq1[idx1] == seq2[idx2]:\n",
        "    return 1 + lcq_recursive(seq1, seq2, idx1+1, idx2+1)\n",
        "  else:\n",
        "    return max(lcq_recursive(seq1, seq2, idx1+1, idx2),\n",
        "               lcq_recursive(seq1, seq2, idx1, idx2+1))\n",
        "  "
      ],
      "metadata": {
        "id": "V-IBBzh2MFU4"
      },
      "execution_count": 17,
      "outputs": []
    },
    {
      "cell_type": "code",
      "source": [
        "for test in lcq_tests:\n",
        "  assert lcq_recursive(**test['input']) == test['output']"
      ],
      "metadata": {
        "id": "3xmWmt25TBM2"
      },
      "execution_count": 18,
      "outputs": []
    },
    {
      "cell_type": "code",
      "source": [
        "%%time\n",
        "lcq_recursive('serendipitous', 'precipitation')"
      ],
      "metadata": {
        "colab": {
          "base_uri": "https://localhost:8080/"
        },
        "id": "CeKE0eGMVjKy",
        "outputId": "7ef776a9-805e-4729-d556-6f98c02fd589"
      },
      "execution_count": 19,
      "outputs": [
        {
          "output_type": "stream",
          "name": "stdout",
          "text": [
            "CPU times: user 499 ms, sys: 0 ns, total: 499 ms\n",
            "Wall time: 500 ms\n"
          ]
        },
        {
          "output_type": "execute_result",
          "data": {
            "text/plain": [
              "7"
            ]
          },
          "metadata": {},
          "execution_count": 19
        }
      ]
    },
    {
      "cell_type": "code",
      "source": [
        "%%time\n",
        "lcq_recursive('Asdfsfafssess', 'oypiououuiuo')"
      ],
      "metadata": {
        "colab": {
          "base_uri": "https://localhost:8080/"
        },
        "id": "uzcS0ZMBV0oe",
        "outputId": "d798538d-b6dd-470a-86f9-021787f7e02f"
      },
      "execution_count": 20,
      "outputs": [
        {
          "output_type": "stream",
          "name": "stdout",
          "text": [
            "CPU times: user 4.56 s, sys: 0 ns, total: 4.56 s\n",
            "Wall time: 4.56 s\n"
          ]
        },
        {
          "output_type": "execute_result",
          "data": {
            "text/plain": [
              "0"
            ]
          },
          "metadata": {},
          "execution_count": 20
        }
      ]
    },
    {
      "cell_type": "code",
      "source": [
        "def lcq_memoized(seq1, seq2):\n",
        "    memo = {}\n",
        "    \n",
        "    def recurse(idx1, idx2):\n",
        "        key = idx1, idx2\n",
        "        \n",
        "        if key in memo:\n",
        "            return memo[key]\n",
        "        \n",
        "        if idx1 == len(seq1) or idx2 == len(seq2):\n",
        "            memo[key] = 0\n",
        "        elif seq1[idx1] == seq2[idx2]:\n",
        "            memo[key] = 1 + recurse(idx1+1, idx2+1)\n",
        "        else:\n",
        "            memo[key] = max(recurse(idx1+1, idx2), \n",
        "                            recurse(idx1, idx2+1))\n",
        "        return memo[key]\n",
        "        \n",
        "    return recurse(0, 0)"
      ],
      "metadata": {
        "id": "WPX1qe70V8bE"
      },
      "execution_count": 33,
      "outputs": []
    },
    {
      "cell_type": "code",
      "source": [
        "for test in lcq_tests:\n",
        "  assert lcq_memoized(**test['input']) == test['output']"
      ],
      "metadata": {
        "id": "Jw-tKaSnW6gY"
      },
      "execution_count": 34,
      "outputs": []
    },
    {
      "cell_type": "code",
      "source": [
        "%%time\n",
        "lcq_memoized('serendipitous', 'precipitation')"
      ],
      "metadata": {
        "colab": {
          "base_uri": "https://localhost:8080/"
        },
        "id": "RKxykEDsXAN0",
        "outputId": "b6e266ba-2c21-4bc3-bc8c-ae785230dc96"
      },
      "execution_count": 36,
      "outputs": [
        {
          "output_type": "stream",
          "name": "stdout",
          "text": [
            "CPU times: user 311 µs, sys: 21 µs, total: 332 µs\n",
            "Wall time: 339 µs\n"
          ]
        },
        {
          "output_type": "execute_result",
          "data": {
            "text/plain": [
              "7"
            ]
          },
          "metadata": {},
          "execution_count": 36
        }
      ]
    },
    {
      "cell_type": "code",
      "source": [
        "%%time\n",
        "lcq_memoized('Asdfsfafssess', 'oypiououuiuo')"
      ],
      "metadata": {
        "colab": {
          "base_uri": "https://localhost:8080/"
        },
        "id": "pk67GS_eX-FF",
        "outputId": "4629668d-e93a-41ce-9f6d-59e4094e7ac0"
      },
      "execution_count": 37,
      "outputs": [
        {
          "output_type": "stream",
          "name": "stdout",
          "text": [
            "CPU times: user 193 µs, sys: 12 µs, total: 205 µs\n",
            "Wall time: 209 µs\n"
          ]
        },
        {
          "output_type": "execute_result",
          "data": {
            "text/plain": [
              "0"
            ]
          },
          "metadata": {},
          "execution_count": 37
        }
      ]
    },
    {
      "cell_type": "code",
      "source": [
        "%%time\n",
        "lcq_memoized('longest', 'stone')"
      ],
      "metadata": {
        "colab": {
          "base_uri": "https://localhost:8080/"
        },
        "id": "jFwmS0XZYq0f",
        "outputId": "9c0d23f3-eca0-4e33-b0c4-f62a45629cf7"
      },
      "execution_count": 38,
      "outputs": [
        {
          "output_type": "stream",
          "name": "stdout",
          "text": [
            "CPU times: user 52 µs, sys: 3 µs, total: 55 µs\n",
            "Wall time: 58.4 µs\n"
          ]
        },
        {
          "output_type": "execute_result",
          "data": {
            "text/plain": [
              "3"
            ]
          },
          "metadata": {},
          "execution_count": 38
        }
      ]
    },
    {
      "cell_type": "code",
      "source": [
        "def lcq_dp(seq1, seq2):\n",
        "    n1, n2 = len(seq1), len(seq2)\n",
        "    results = [[0 for _ in range(n2+1)] for _ in range(n1+1)]\n",
        "    for idx1 in range(n1):\n",
        "        for idx2 in range(n2):\n",
        "            if seq1[idx1] == seq2[idx2]:\n",
        "                results[idx1+1][idx2+1] = 1 + results[idx1][idx2]\n",
        "            else:\n",
        "                results[idx1+1][idx2+1] = max(results[idx1][idx2+1], results[idx1+1][idx2])\n",
        "    return results[-1][-1]"
      ],
      "metadata": {
        "id": "fZWd5DWeYv40"
      },
      "execution_count": 43,
      "outputs": []
    },
    {
      "cell_type": "code",
      "source": [
        "for test in lcq_tests:\n",
        "  assert lcq_dp(**test['input']) == test['output']"
      ],
      "metadata": {
        "id": "aLYVp0FBaQuJ"
      },
      "execution_count": 44,
      "outputs": []
    },
    {
      "cell_type": "code",
      "source": [
        "%%time\n",
        "lcq_dp('Asdfsfafssess', 'oypiououuiuo')"
      ],
      "metadata": {
        "colab": {
          "base_uri": "https://localhost:8080/"
        },
        "id": "lhmaE95eaVuI",
        "outputId": "11607cb4-d348-4aee-dfad-c6410912b652"
      },
      "execution_count": 45,
      "outputs": [
        {
          "output_type": "stream",
          "name": "stdout",
          "text": [
            "CPU times: user 111 µs, sys: 0 ns, total: 111 µs\n",
            "Wall time: 115 µs\n"
          ]
        },
        {
          "output_type": "execute_result",
          "data": {
            "text/plain": [
              "0"
            ]
          },
          "metadata": {},
          "execution_count": 45
        }
      ]
    },
    {
      "cell_type": "code",
      "source": [
        "%%time\n",
        "lcq_dp('seredipitous', 'precipitation')"
      ],
      "metadata": {
        "colab": {
          "base_uri": "https://localhost:8080/"
        },
        "id": "4rpiUoy8a9SY",
        "outputId": "4cdf245b-99bb-4a3f-eec3-e4bd6f631318"
      },
      "execution_count": 46,
      "outputs": [
        {
          "output_type": "stream",
          "name": "stdout",
          "text": [
            "CPU times: user 113 µs, sys: 0 ns, total: 113 µs\n",
            "Wall time: 116 µs\n"
          ]
        },
        {
          "output_type": "execute_result",
          "data": {
            "text/plain": [
              "7"
            ]
          },
          "metadata": {},
          "execution_count": 46
        }
      ]
    },
    {
      "cell_type": "code",
      "source": [
        "%%time\n",
        "lcq_dp('longest', 'stone')"
      ],
      "metadata": {
        "colab": {
          "base_uri": "https://localhost:8080/"
        },
        "id": "7IUzbsDBa_EY",
        "outputId": "1f4a511b-b346-47e7-c7a8-fb0ce273627f"
      },
      "execution_count": 47,
      "outputs": [
        {
          "output_type": "stream",
          "name": "stdout",
          "text": [
            "CPU times: user 0 ns, sys: 49 µs, total: 49 µs\n",
            "Wall time: 52.5 µs\n"
          ]
        },
        {
          "output_type": "execute_result",
          "data": {
            "text/plain": [
              "3"
            ]
          },
          "metadata": {},
          "execution_count": 47
        }
      ]
    },
    {
      "cell_type": "code",
      "source": [
        "def max_profit_recursive(capacity, weights, profits, idx=0):\n",
        "    if idx == len(weights):\n",
        "        return 0\n",
        "    if weights[idx] > capacity:\n",
        "        return max_profit_recursive(capacity, weights, profits, idx+1)\n",
        "    else:\n",
        "        return max(max_profit_recursive(capacity, weights, profits, idx+1),\n",
        "                   profits[idx] + max_profit_recursive(capacity-weights[idx], weights, profits, idx+1))"
      ],
      "metadata": {
        "id": "bCCRa_36bA9U"
      },
      "execution_count": 51,
      "outputs": []
    },
    {
      "cell_type": "code",
      "source": [
        "for test in tests:\n",
        "  assert max_profit_recursive(**test['input']) == test['output']"
      ],
      "metadata": {
        "id": "mttlpkKibrNl"
      },
      "execution_count": 52,
      "outputs": []
    },
    {
      "cell_type": "code",
      "source": [
        "def knapsack_memo(capacity, weights, profits):\n",
        "  memo = {}\n",
        "\n",
        "  def recurse(idx, remaining):\n",
        "    key = (idx, remaining)\n",
        "\n",
        "    if key in memo:\n",
        "      return memo[key]\n",
        "\n",
        "    elif idx == len(weights):\n",
        "      memo[key] = 0\n",
        "\n",
        "    elif weights[idx] > remaining:\n",
        "      memo[key] = recurse(idx+1, remaining)\n",
        "\n",
        "    else:\n",
        "      memo[key] = max(\n",
        "          recurse(idx+1, remaining), \n",
        "          profits[idx] + recurse(idx+1, remaining - weights[idx])\n",
        "      )\n",
        "    return memo[key]\n",
        "  return recurse(0, capacity)"
      ],
      "metadata": {
        "id": "BbOJUCi2cHBa"
      },
      "execution_count": 53,
      "outputs": []
    },
    {
      "cell_type": "code",
      "source": [
        "for test in tests:\n",
        "  assert knapsack_memo(**test['input']) == test['output']"
      ],
      "metadata": {
        "id": "wNFq6a3ahx82"
      },
      "execution_count": 54,
      "outputs": []
    },
    {
      "cell_type": "code",
      "source": [
        "def knapsack_dp(capacity, weights, profits):\n",
        "  n = len(weights)\n",
        "  results = [[0 for _ in range(capacity+1)] for _ in range(n+1)]\n",
        "\n",
        "  for idx in range(n):\n",
        "    for c in range(capacity+1):\n",
        "      if weights[idx] > c:\n",
        "        results[idx+1][c] = results[idx][c]\n",
        "      else:\n",
        "        results[idx+1][c] = max(results[idx][c], profits[idx] + results[idx][c - weights[idx]])\n",
        "  return results[-1][-1]"
      ],
      "metadata": {
        "id": "BnfFUZzMh2qo"
      },
      "execution_count": 55,
      "outputs": []
    },
    {
      "cell_type": "code",
      "source": [
        "for test in tests:\n",
        "  assert knapsack_dp(**test['input']) == test['output']"
      ],
      "metadata": {
        "id": "AI65XCmMjryu"
      },
      "execution_count": 56,
      "outputs": []
    },
    {
      "cell_type": "code",
      "source": [
        ""
      ],
      "metadata": {
        "id": "__lysIsOkF6N"
      },
      "execution_count": null,
      "outputs": []
    }
  ]
}