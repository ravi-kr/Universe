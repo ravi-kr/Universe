{
  "nbformat": 4,
  "nbformat_minor": 0,
  "metadata": {
    "colab": {
      "name": "D6_Problem_solving.ipynb",
      "provenance": [],
      "authorship_tag": "ABX9TyPXbFmXCpMFsBkHENUgGP+v",
      "include_colab_link": true
    },
    "kernelspec": {
      "name": "python3",
      "display_name": "Python 3"
    },
    "language_info": {
      "name": "python"
    }
  },
  "cells": [
    {
      "cell_type": "markdown",
      "metadata": {
        "id": "view-in-github",
        "colab_type": "text"
      },
      "source": [
        "<a href=\"https://colab.research.google.com/github/ravi-kr/Universe/blob/main/D6_Problem_solving.ipynb\" target=\"_parent\"><img src=\"https://colab.research.google.com/assets/colab-badge.svg\" alt=\"Open In Colab\"/></a>"
      ]
    },
    {
      "cell_type": "code",
      "execution_count": 1,
      "metadata": {
        "id": "bvv6k7kGg6P7"
      },
      "outputs": [],
      "source": [
        "arr1 = [1, 7, 4, 2, 1, 3, 11, 5]\n",
        "target1 = 10"
      ]
    },
    {
      "cell_type": "code",
      "source": [
        "def subarray_sum1(arr, target):\n",
        "  n = len(arr)\n",
        "  for i in range(n):\n",
        "    for j in range(i, n+1):\n",
        "      if sum(arr[i:j]) == target:\n",
        "        return i, j\n",
        "\n",
        "  return None, None"
      ],
      "metadata": {
        "id": "B942aNxUhFyP"
      },
      "execution_count": 2,
      "outputs": []
    },
    {
      "cell_type": "code",
      "source": [
        "i, j = subarray_sum1(arr1, target1)\n",
        "i, j, arr1[i:j]"
      ],
      "metadata": {
        "colab": {
          "base_uri": "https://localhost:8080/"
        },
        "id": "AVXFpKZMhcVn",
        "outputId": "2aab188c-e4af-4eb0-8a14-87348bd46a4f"
      },
      "execution_count": 3,
      "outputs": [
        {
          "output_type": "execute_result",
          "data": {
            "text/plain": [
              "(2, 6, [4, 2, 1, 3])"
            ]
          },
          "metadata": {},
          "execution_count": 3
        }
      ]
    },
    {
      "cell_type": "code",
      "source": [
        "def subarray_sum2(arr, target):\n",
        "    n = len(arr)\n",
        "    for i in range(n):\n",
        "        s = 0\n",
        "        for j in range(i, n+1):\n",
        "            if s == target:\n",
        "                return i,j\n",
        "            s += arr[j]\n",
        "    return None, None"
      ],
      "metadata": {
        "id": "ElcxQ8Q2hiL4"
      },
      "execution_count": 6,
      "outputs": []
    },
    {
      "cell_type": "code",
      "source": [
        "i, j = subarray_sum2(arr1, target1)\n",
        "i, j, arr1[i:j]"
      ],
      "metadata": {
        "id": "7E8bP2hch5Bc"
      },
      "execution_count": null,
      "outputs": []
    },
    {
      "cell_type": "code",
      "source": [
        "def subarray_sum3(arr, target):\n",
        "  n = len(arr)\n",
        "  i, j, s = 0, 0, 0\n",
        "  while i < n and j <= n:\n",
        "    if s == target:\n",
        "      return i, j\n",
        "    elif s < target:\n",
        "      s += arr[j]\n",
        "      j += 1\n",
        "    elif s > target:\n",
        "      s -= arr[i]\n",
        "      i += 1\n",
        "  return None, None"
      ],
      "metadata": {
        "id": "EtzGiXBziBfp"
      },
      "execution_count": 10,
      "outputs": []
    },
    {
      "cell_type": "code",
      "source": [
        "i, j = subarray_sum3(arr1, target1)\n",
        "i, j, arr1[i:j]"
      ],
      "metadata": {
        "colab": {
          "base_uri": "https://localhost:8080/"
        },
        "id": "t9kRML3Mi9YK",
        "outputId": "9a0cdfc3-616e-40a1-9ec5-e5d573467fd0"
      },
      "execution_count": 11,
      "outputs": [
        {
          "output_type": "execute_result",
          "data": {
            "text/plain": [
              "(2, 6, [4, 2, 1, 3])"
            ]
          },
          "metadata": {},
          "execution_count": 11
        }
      ]
    },
    {
      "cell_type": "code",
      "source": [
        "def min_edit_distance(str1, str2, i1 = 0, i2 = 0):\n",
        "  if i1 == len(str1):\n",
        "    return len(str2) - i2\n",
        "  if i2 == len(str2):\n",
        "    return len(str1) - i1\n",
        "  if str1[i1] == str2[i2]:\n",
        "    return min_edit_distance(str1, str2, i1+1, i2+1)\n",
        "  return 1 + min(min_edit_distance(str1, str2, i1, i2+1),\n",
        "                 min_edit_distance(str1, str2, i1+1, i2),\n",
        "                 min_edit_distance(str1, str2, i1+1, i2+1))"
      ],
      "metadata": {
        "id": "JOx5oGU8jBe3"
      },
      "execution_count": 12,
      "outputs": []
    },
    {
      "cell_type": "code",
      "source": [
        "min_edit_distance('wednesday', 'thursday')"
      ],
      "metadata": {
        "colab": {
          "base_uri": "https://localhost:8080/"
        },
        "id": "b1RpnVwhkfZ1",
        "outputId": "d66b83c1-c5b0-4415-93d8-6bb0b9ee298f"
      },
      "execution_count": 13,
      "outputs": [
        {
          "output_type": "execute_result",
          "data": {
            "text/plain": [
              "5"
            ]
          },
          "metadata": {},
          "execution_count": 13
        }
      ]
    },
    {
      "cell_type": "code",
      "source": [
        "min_edit_distance('intention', 'execution')"
      ],
      "metadata": {
        "colab": {
          "base_uri": "https://localhost:8080/"
        },
        "id": "1JUcJ55Ski6H",
        "outputId": "631e707b-171a-4f94-cc35-6b6fcc880232"
      },
      "execution_count": 14,
      "outputs": [
        {
          "output_type": "execute_result",
          "data": {
            "text/plain": [
              "5"
            ]
          },
          "metadata": {},
          "execution_count": 14
        }
      ]
    },
    {
      "cell_type": "code",
      "source": [
        "def min_edit_distance(str1, str2):\n",
        "  memo = {}\n",
        "  def recurse(i1, i2):\n",
        "    key = (i1, i2)\n",
        "    if key in memo:\n",
        "      return memo[key]\n",
        "    elif i1 == len(str1):\n",
        "      memo[key] = len(str2) - i2\n",
        "    elif i2 == len(str2):\n",
        "      memo[key] = len(str1) - i1\n",
        "    elif str1[i1] == str2[i2]:\n",
        "      memo[key] = recurse(i1+1, i2+1)\n",
        "    else:\n",
        "      memo[key] = 1 + min(recurse(i2, i2+1),\n",
        "                          recurse(i1+1, i2),\n",
        "                          recurse(i1+1, i2+1))\n",
        "    return memo[key]\n",
        "  return recurse(0, 0)"
      ],
      "metadata": {
        "id": "b2dnGCX5kn9E"
      },
      "execution_count": 15,
      "outputs": []
    },
    {
      "cell_type": "code",
      "source": [
        "min_edit_distance('intention', 'execution')"
      ],
      "metadata": {
        "colab": {
          "base_uri": "https://localhost:8080/"
        },
        "id": "GaXHZmqrlv4h",
        "outputId": "5dc375dd-44ae-47db-c784-8d4130002a79"
      },
      "execution_count": 16,
      "outputs": [
        {
          "output_type": "execute_result",
          "data": {
            "text/plain": [
              "5"
            ]
          },
          "metadata": {},
          "execution_count": 16
        }
      ]
    },
    {
      "cell_type": "code",
      "source": [
        ""
      ],
      "metadata": {
        "id": "geexCD_Jl0rl"
      },
      "execution_count": null,
      "outputs": []
    }
  ]
}