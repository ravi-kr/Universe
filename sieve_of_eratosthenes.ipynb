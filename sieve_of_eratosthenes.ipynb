{
  "nbformat": 4,
  "nbformat_minor": 0,
  "metadata": {
    "colab": {
      "name": "sieve of eratosthenes.ipynb",
      "provenance": [],
      "authorship_tag": "ABX9TyMhI5i8cTZH8KJX9oDOb6/7",
      "include_colab_link": true
    },
    "kernelspec": {
      "name": "python3",
      "display_name": "Python 3"
    },
    "language_info": {
      "name": "python"
    }
  },
  "cells": [
    {
      "cell_type": "markdown",
      "metadata": {
        "id": "view-in-github",
        "colab_type": "text"
      },
      "source": [
        "<a href=\"https://colab.research.google.com/github/ravi-kr/Universe/blob/main/sieve_of_eratosthenes.ipynb\" target=\"_parent\"><img src=\"https://colab.research.google.com/assets/colab-badge.svg\" alt=\"Open In Colab\"/></a>"
      ]
    },
    {
      "cell_type": "code",
      "execution_count": 35,
      "metadata": {
        "colab": {
          "base_uri": "https://localhost:8080/"
        },
        "id": "7-YbakfkRpgW",
        "outputId": "513c8b36-369f-4b62-f6f0-ebe4348a00d9"
      },
      "outputs": [
        {
          "output_type": "execute_result",
          "data": {
            "text/plain": [
              "[2, 3, 5, 7, 11, 13, 17, 19]"
            ]
          },
          "metadata": {},
          "execution_count": 35
        }
      ],
      "source": [
        "import math\n",
        "\n",
        "def sieve_prime(n):\n",
        "  prime = [True]*n\n",
        "  prime[0], prime[1] = False, False\n",
        "  for x in range(2, math.floor(n)):\n",
        "    for p in range(2*x, math.floor(n), x):\n",
        "      prime[p] = False\n",
        "  return [i for i in range(n) if prime[i]]\n",
        "sieve_prime(20)"
      ]
    },
    {
      "cell_type": "code",
      "source": [
        "[x for x in range(21)]"
      ],
      "metadata": {
        "colab": {
          "base_uri": "https://localhost:8080/"
        },
        "id": "fWgcI-Yozvpc",
        "outputId": "e77ffdb0-c9a6-4d8e-85fe-d21091688183"
      },
      "execution_count": 33,
      "outputs": [
        {
          "output_type": "execute_result",
          "data": {
            "text/plain": [
              "[0, 1, 2, 3, 4, 5, 6, 7, 8, 9, 10, 11, 12, 13, 14, 15, 16, 17, 18, 19, 20]"
            ]
          },
          "metadata": {},
          "execution_count": 33
        }
      ]
    },
    {
      "cell_type": "code",
      "source": [
        "[i for i in range(6) if [True, True, False, True, False, True][i]]"
      ],
      "metadata": {
        "colab": {
          "base_uri": "https://localhost:8080/"
        },
        "id": "tTbbkAasR1zN",
        "outputId": "dc1522bd-751c-42b2-f361-edd05075dc42"
      },
      "execution_count": 23,
      "outputs": [
        {
          "output_type": "execute_result",
          "data": {
            "text/plain": [
              "[0, 1, 3, 5]"
            ]
          },
          "metadata": {},
          "execution_count": 23
        }
      ]
    },
    {
      "cell_type": "code",
      "source": [
        "for x in range(2, math.floor(20)):\n",
        "  for p in range(2*x, math.floor(20), x):\n",
        "    print(p)"
      ],
      "metadata": {
        "colab": {
          "base_uri": "https://localhost:8080/"
        },
        "id": "lNiR3XrVR4US",
        "outputId": "3d22fa14-248d-4397-da12-e7826a309ad4"
      },
      "execution_count": 31,
      "outputs": [
        {
          "output_type": "stream",
          "name": "stdout",
          "text": [
            "4\n",
            "6\n",
            "8\n",
            "10\n",
            "12\n",
            "14\n",
            "16\n",
            "18\n",
            "6\n",
            "9\n",
            "12\n",
            "15\n",
            "18\n",
            "8\n",
            "12\n",
            "16\n",
            "10\n",
            "15\n",
            "12\n",
            "18\n",
            "14\n",
            "16\n",
            "18\n"
          ]
        }
      ]
    },
    {
      "cell_type": "code",
      "source": [
        ""
      ],
      "metadata": {
        "id": "IB8Pk_5FqbiX"
      },
      "execution_count": null,
      "outputs": []
    }
  ]
}