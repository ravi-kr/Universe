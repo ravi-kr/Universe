{
  "nbformat": 4,
  "nbformat_minor": 0,
  "metadata": {
    "colab": {
      "name": "h_index.ipynb",
      "provenance": [],
      "authorship_tag": "ABX9TyPXeIOoEGebtwygfomojT+i",
      "include_colab_link": true
    },
    "kernelspec": {
      "name": "python3",
      "display_name": "Python 3"
    },
    "language_info": {
      "name": "python"
    }
  },
  "cells": [
    {
      "cell_type": "markdown",
      "metadata": {
        "id": "view-in-github",
        "colab_type": "text"
      },
      "source": [
        "<a href=\"https://colab.research.google.com/github/ravi-kr/Universe/blob/main/h_index.ipynb\" target=\"_parent\"><img src=\"https://colab.research.google.com/assets/colab-badge.svg\" alt=\"Open In Colab\"/></a>"
      ]
    },
    {
      "cell_type": "code",
      "execution_count": 1,
      "metadata": {
        "id": "H4hMTQ1P6wBX"
      },
      "outputs": [],
      "source": [
        "citations = [4, 3, 0, 1, 5]"
      ]
    },
    {
      "cell_type": "code",
      "source": [
        "def h_index(citations):\n",
        "  citation_map = {}\n",
        "  max_key = -1\n",
        "  for i in citations:\n",
        "    for j in citations:\n",
        "       if i <= j:\n",
        "          try:\n",
        "            citation_map[i] +=1\n",
        "          except:\n",
        "            citation_map.update({i:1})\n",
        "  for key, value in citation_map.items():\n",
        "    if key == value and max_key < key:\n",
        "      max_key = key\n",
        "  return max_key\n",
        "\n",
        "h_index([7, 6, 5, 4, 3])"
      ],
      "metadata": {
        "colab": {
          "base_uri": "https://localhost:8080/"
        },
        "id": "8vIpRMb560ZN",
        "outputId": "b167caf0-5f58-4751-9499-fb47268c5cef"
      },
      "execution_count": 28,
      "outputs": [
        {
          "output_type": "execute_result",
          "data": {
            "text/plain": [
              "4"
            ]
          },
          "metadata": {},
          "execution_count": 28
        }
      ]
    },
    {
      "cell_type": "code",
      "source": [
        ""
      ],
      "metadata": {
        "id": "1B_yXSqb_dPk"
      },
      "execution_count": 14,
      "outputs": []
    },
    {
      "cell_type": "code",
      "source": [
        ""
      ],
      "metadata": {
        "id": "0B-XlF0d_jCo"
      },
      "execution_count": null,
      "outputs": []
    }
  ]
}