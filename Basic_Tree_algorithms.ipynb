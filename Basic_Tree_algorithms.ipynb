{
  "nbformat": 4,
  "nbformat_minor": 0,
  "metadata": {
    "colab": {
      "name": "Basic Tree algorithms.ipynb",
      "provenance": [],
      "authorship_tag": "ABX9TyOzeuAe5DhOdl/EaoTZMs4p",
      "include_colab_link": true
    },
    "kernelspec": {
      "name": "python3",
      "display_name": "Python 3"
    },
    "language_info": {
      "name": "python"
    }
  },
  "cells": [
    {
      "cell_type": "markdown",
      "metadata": {
        "id": "view-in-github",
        "colab_type": "text"
      },
      "source": [
        "<a href=\"https://colab.research.google.com/github/ravi-kr/Universe/blob/main/Basic_Tree_algorithms.ipynb\" target=\"_parent\"><img src=\"https://colab.research.google.com/assets/colab-badge.svg\" alt=\"Open In Colab\"/></a>"
      ]
    },
    {
      "cell_type": "code",
      "execution_count": 1,
      "metadata": {
        "id": "RYkq1m3zz6DB"
      },
      "outputs": [],
      "source": [
        "def treeSum(root):\n",
        "  if root is None:\n",
        "    return 0\n",
        "  else:\n",
        "    return root.data + treeSum(root.left) + treeSum(root.right)"
      ]
    },
    {
      "cell_type": "code",
      "source": [
        "def treeMax(root):\n",
        "  if root is None:\n",
        "    return float(\"-inf\")\n",
        "  else:\n",
        "    return max(root.data , treeMax(root.left) , treeMax(root.right))"
      ],
      "metadata": {
        "id": "x8fwkPWQ0P1W"
      },
      "execution_count": 2,
      "outputs": []
    },
    {
      "cell_type": "code",
      "source": [
        "def treeHeight(root):\n",
        "  if root is None:\n",
        "    return 0\n",
        "  else:\n",
        "    return 1 + max(treeHeight(root.left) , treeHeight(root.right))"
      ],
      "metadata": {
        "id": "Oo6dvl490a-j"
      },
      "execution_count": 3,
      "outputs": []
    },
    {
      "cell_type": "code",
      "source": [
        "def existsInTree(root, value):\n",
        "  if root is None:\n",
        "    return False\n",
        "  else:\n",
        "    return root.data == value or existsInTree(root.left, value) or existsInTree(root.right, value)"
      ],
      "metadata": {
        "id": "NpmJcBEl0jhc"
      },
      "execution_count": 5,
      "outputs": []
    },
    {
      "cell_type": "code",
      "source": [
        "def reverseTree(root):\n",
        "  if root is None:\n",
        "    return\n",
        "  else:\n",
        "    reverseTree(root.left)\n",
        "    reverseTree(root.right)\n",
        "    root.left, root.right = root.right, root.left"
      ],
      "metadata": {
        "id": "eCQ7XIPS00CD"
      },
      "execution_count": 6,
      "outputs": []
    },
    {
      "cell_type": "code",
      "source": [
        ""
      ],
      "metadata": {
        "id": "Yau8Azam1GnZ"
      },
      "execution_count": null,
      "outputs": []
    }
  ]
}